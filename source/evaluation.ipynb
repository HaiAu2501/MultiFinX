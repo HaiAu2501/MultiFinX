{
 "cells": [
  {
   "cell_type": "code",
   "execution_count": 18,
   "metadata": {},
   "outputs": [],
   "source": [
    "import torch\n",
    "from scipy.stats import norm\n",
    "\n",
    "from models.dcf import DistributionalConditionalForecast\n",
    "from models.pft import ProbabilisticForecastTransformer\n",
    "from models.cqv import ConditionalQuantileVAE\n",
    "\n",
    "from loader import test_loader"
   ]
  },
  {
   "cell_type": "code",
   "execution_count": 2,
   "metadata": {},
   "outputs": [],
   "source": [
    "device = torch.device(\"cuda\" if torch.cuda.is_available() else \"cpu\")"
   ]
  },
  {
   "cell_type": "code",
   "execution_count": 3,
   "metadata": {},
   "outputs": [
    {
     "name": "stdout",
     "output_type": "stream",
     "text": [
      "Models loaded successfully!\n"
     ]
    }
   ],
   "source": [
    "\n",
    "dcf = DistributionalConditionalForecast(\n",
    "    window_size=30, \n",
    "\tnum_series=2, \n",
    "\tstatic_dim=18,\n",
    "    latent_dim=32, \n",
    "\thidden_dim=128,\n",
    "    dropout=0.1, \n",
    "\toutput_dim=2\n",
    ")\n",
    "\n",
    "dcf.to(device)\n",
    "checkpoint = torch.load(\"checkpoints/DCF.pth\", map_location=device)\n",
    "dcf.load_state_dict(checkpoint[\"model_state_dict\"])\n",
    "dcf.eval()\n",
    "\n",
    "pft = ProbabilisticForecastTransformer(\n",
    "\twindow_size=30, \n",
    "\tnum_series=2, \n",
    "\tstatic_dim=18,\n",
    "    latent_dim=32, \n",
    "\td_model=64, \n",
    "\tnhead=4, \n",
    "\tnum_layers=2,\n",
    "    hidden_dim=128, \n",
    "\tdropout=0.1, \n",
    "\toutput_dim=2\n",
    ")\n",
    "\n",
    "pft.to(device)\n",
    "checkpoint = torch.load(\"checkpoints/PFT.pth\", map_location=device)\n",
    "pft.load_state_dict(checkpoint[\"model_state_dict\"])\n",
    "pft.eval()\n",
    "\n",
    "cqv = ConditionalQuantileVAE(\n",
    "\twindow_size=30, \n",
    "\tnum_series=2, \n",
    "\tstatic_dim=18,\n",
    "    latent_dim=32, \n",
    "\thidden_dim=128,\n",
    "    dropout=0.1, \n",
    "\toutput_dim=2, \n",
    "\tnum_quantiles=3\n",
    ")\n",
    "\n",
    "cqv.to(device)\n",
    "checkpoint = torch.load(\"checkpoints/CQV.pth\", map_location=device)\n",
    "cqv.load_state_dict(checkpoint[\"model_state_dict\"])\n",
    "cqv.eval()\n",
    "\n",
    "print(\"Models loaded successfully!\")"
   ]
  },
  {
   "cell_type": "code",
   "execution_count": null,
   "metadata": {},
   "outputs": [],
   "source": [
    "# Kiểm tra xem bao nhiêu % dữ liệu nằm trong khoảng tin cậy 95% của phân phối trả về\n",
    "def evaluate(model, confidence=0.95):\n",
    "\ttotal = 0\n",
    "\tcount = 0\n",
    "\tz = norm.ppf((1 + confidence) / 2)\n",
    "\twith torch.no_grad():\n",
    "\t\tfor x_seq, x_cal, y in test_loader:\n",
    "\t\t\tx_seq, x_cal, y = x_seq.to(device), x_cal.to(device), y.to(device)\n",
    "\t\t\tout, _, _ = model(x_seq, x_cal)\n",
    "\t\t\tmu = out[:, :2]\n",
    "\t\t\tlogvar = out[:, 2:4]\n",
    "\t\t\tsigma = torch.exp(0.5 * logvar)\n",
    "\t\t\tlower = mu - z * sigma\n",
    "\t\t\tupper = mu + z * sigma\n",
    "\t\t\tinside = ((y >= lower) & (y <= upper)).float()\n",
    "\t\t\tcount += inside.sum().item()\n",
    "\t\t\ttotal += y.numel()\n",
    "\n",
    "\tcoverage = count / total\n",
    "\tprint(f\"Coverage: {coverage:.4f}\")\n",
    "\treturn coverage"
   ]
  },
  {
   "cell_type": "code",
   "execution_count": 24,
   "metadata": {},
   "outputs": [
    {
     "name": "stdout",
     "output_type": "stream",
     "text": [
      "With 95% confidence:\n",
      "Coverage: 0.87\n"
     ]
    },
    {
     "ename": "TypeError",
     "evalue": "unsupported format string passed to NoneType.__format__",
     "output_type": "error",
     "traceback": [
      "\u001b[1;31m---------------------------------------------------------------------------\u001b[0m",
      "\u001b[1;31mTypeError\u001b[0m                                 Traceback (most recent call last)",
      "Cell \u001b[1;32mIn[24], line 2\u001b[0m\n\u001b[0;32m      1\u001b[0m \u001b[38;5;28mprint\u001b[39m(\u001b[38;5;124mf\u001b[39m\u001b[38;5;124m\"\u001b[39m\u001b[38;5;124mWith 95% confidence:\u001b[39m\u001b[38;5;124m\"\u001b[39m)\n\u001b[1;32m----> 2\u001b[0m \u001b[38;5;28mprint\u001b[39m(\u001b[38;5;124mf\u001b[39m\u001b[38;5;124m\"\u001b[39m\u001b[38;5;124mDCF: \u001b[39m\u001b[38;5;132;43;01m{\u001b[39;49;00m\u001b[43mevaluate\u001b[49m\u001b[43m(\u001b[49m\u001b[43mdcf\u001b[49m\u001b[43m)\u001b[49m\u001b[38;5;132;43;01m:\u001b[39;49;00m\u001b[38;5;124;43m.2f\u001b[39;49m\u001b[38;5;132;43;01m}\u001b[39;49;00m\u001b[38;5;124m\"\u001b[39m)\n",
      "\u001b[1;31mTypeError\u001b[0m: unsupported format string passed to NoneType.__format__"
     ]
    }
   ],
   "source": [
    "print(f\"With 95% confidence:\")\n",
    "print(f\"DCF: {evaluate(dcf):.2f}\")"
   ]
  },
  {
   "cell_type": "code",
   "execution_count": 21,
   "metadata": {},
   "outputs": [
    {
     "name": "stdout",
     "output_type": "stream",
     "text": [
      "Coverage: 0.95\n"
     ]
    }
   ],
   "source": [
    "evaluate(pft)"
   ]
  },
  {
   "cell_type": "code",
   "execution_count": 22,
   "metadata": {},
   "outputs": [
    {
     "name": "stdout",
     "output_type": "stream",
     "text": [
      "Coverage: 1.00\n"
     ]
    }
   ],
   "source": [
    "evaluate(cqv)"
   ]
  }
 ],
 "metadata": {
  "kernelspec": {
   "display_name": "env",
   "language": "python",
   "name": "python3"
  },
  "language_info": {
   "codemirror_mode": {
    "name": "ipython",
    "version": 3
   },
   "file_extension": ".py",
   "mimetype": "text/x-python",
   "name": "python",
   "nbconvert_exporter": "python",
   "pygments_lexer": "ipython3",
   "version": "3.12.0"
  }
 },
 "nbformat": 4,
 "nbformat_minor": 2
}
