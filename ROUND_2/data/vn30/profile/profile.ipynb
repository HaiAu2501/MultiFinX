{
 "cells": [
  {
   "cell_type": "markdown",
   "metadata": {},
   "source": [
    "| **Cột**                    | **Ý nghĩa**                                                                                                                                               |\n",
    "|----------------------------|---------------------------------------------------------------------------------------------------------------------------------------------------------|\n",
    "| `period`                   | Thời gian hoặc kỳ báo cáo (ví dụ: quý, năm).                                                                                                            |\n",
    "| `cash`                      | Tiền mặt hoặc các khoản tương đương tiền, bao gồm tiền mặt trong quỹ và tiền gửi tại ngân hàng.                                                       |\n",
    "| `fixed_asset`               | Tài sản cố định, bao gồm các tài sản vật chất như đất đai, tòa nhà, máy móc.                                                                            |\n",
    "| `asset`                     | Tổng tài sản của ngân hàng hoặc tổ chức tài chính, bao gồm tất cả các loại tài sản mà tổ chức sở hữu.                                                     |\n",
    "| `debt`                       | Tổng số nợ mà ngân hàng hoặc tổ chức tài chính phải trả cho các đối tác bên ngoài.                                                                     |\n",
    "| `equity`                    | Vốn chủ sở hữu, hoặc vốn chủ sở hữu của cổ đông sau khi trừ đi nợ.                                                                                      |\n",
    "| `capital`                   | Vốn điều lệ hoặc vốn chủ sở hữu ban đầu của ngân hàng.                                                                                                 |\n",
    "| `central_bank_deposit`      | Tiền gửi tại ngân hàng trung ương.                                                                                                                       |\n",
    "| `other_bank_deposit`        | Tiền gửi tại các ngân hàng khác ngoài ngân hàng trung ương.                                                                                           |\n",
    "| `other_bank_loan`           | Khoản vay từ các ngân hàng khác ngoài ngân hàng trung ương.                                                                                            |\n",
    "| `stock_invest`              | Đầu tư vào cổ phiếu hoặc chứng khoán.                                                                                                                    |\n",
    "| `customer_loan`             | Khoản vay mà ngân hàng đã cấp cho khách hàng.                                                                                                           |\n",
    "| `bad_loan`                  | Khoản vay xấu, tức là khoản vay mà khả năng thu hồi là thấp hoặc gần như không thể thu hồi.                                                            |\n",
    "| `provision`                 | Dự phòng, thường là khoản dự phòng cho các khoản nợ xấu hoặc rủi ro tài chính.                                                                         |\n",
    "| `net_customer_loan`         | Khoản vay ròng từ khách hàng sau khi trừ đi các khoản dự phòng.                                                                                        |\n",
    "| `other_asset`               | Các tài sản khác không được phân loại trong các nhóm tài sản cụ thể.                                                                                  |\n",
    "| `other_bank_credit`         | Tín dụng mà ngân hàng cấp cho các tổ chức tài chính khác ngoài ngân hàng trung ương.                                                                  |\n",
    "| `owe_other_bank`            | Khoản nợ mà ngân hàng phải trả cho các ngân hàng khác ngoài ngân hàng trung ương.                                                                     |\n",
    "| `owe_central_bank`          | Khoản nợ mà ngân hàng phải trả cho ngân hàng trung ương.                                                                                                |\n",
    "| `valuable_paper`            | Giấy tờ có giá trị, bao gồm trái phiếu, cổ phiếu, hoặc các chứng khoán khác.                                                                            |\n",
    "| `payable_interest`          | Lãi phải trả, tức là khoản lãi mà ngân hàng phải trả cho các khoản vay.                                                                                |\n",
    "| `receivable_interest`       | Lãi phải thu, tức là khoản lãi mà ngân hàng sẽ thu từ các khoản vay cho khách hàng.                                                                   |\n",
    "| `deposit`                   | Tiền gửi, bao gồm tiền gửi của khách hàng và các khoản tiền gửi khác.                                                                                 |\n",
    "| `other_debt`                | Các khoản nợ khác không thuộc các nhóm nợ đã được phân loại cụ thể.                                                                                    |\n",
    "| `fund`                      | Quỹ của ngân hàng hoặc tổ chức tài chính, có thể là quỹ đầu tư hoặc quỹ dự phòng.                                                                     |\n",
    "| `un_distributed_income`     | Lợi nhuận chưa phân phối, tức là lợi nhuận chưa được chia cho cổ đông.                                                                                  |\n",
    "| `minor_share_holder_profit` | Lợi nhuận của cổ đông nhỏ (cổ đông không kiểm soát).                                                                                                   |\n",
    "| `payable`                   | Tổng các khoản phải trả, bao gồm các khoản nợ, lãi suất, và các khoản phải trả khác.                                                                  |\n",
    "| `short_asset`               | Tài sản ngắn hạn, tức là tài sản có thể chuyển đổi thành tiền mặt trong vòng một năm.                                                                  |\n",
    "| `short_invest`              | Đầu tư ngắn hạn, bao gồm các khoản đầu tư có thể bán hoặc chuyển nhượng trong vòng một năm.                                                            |\n",
    "| `short_receivable`          | Khoản phải thu ngắn hạn, tức là các khoản tiền mà tổ chức tài chính dự kiến thu trong vòng một năm.                                                    |\n",
    "| `inventory`                 | Hàng tồn kho, bao gồm các sản phẩm và tài sản có thể được bán hoặc sử dụng trong quá trình hoạt động kinh doanh.                                      |\n",
    "| `long_asset`                | Tài sản dài hạn, tức là tài sản không thể chuyển đổi thành tiền mặt trong vòng một năm.                                                               |\n",
    "| `short_debt`                | Nợ ngắn hạn, tức là các khoản nợ mà ngân hàng hoặc tổ chức tài chính phải trả trong vòng một năm.                                                      |\n",
    "| `long_debt`                 | Nợ dài hạn, tức là các khoản nợ mà ngân hàng hoặc tổ chức tài chính phải trả sau một năm.                                                              |\n"
   ]
  },
  {
   "cell_type": "code",
   "execution_count": 3,
   "metadata": {},
   "outputs": [],
   "source": [
    "import pandas as pd\n",
    "import matplotlib.pyplot as plt\n",
    "import seaborn as sns\n",
    "import glob\n"
   ]
  },
  {
   "cell_type": "code",
   "execution_count": 26,
   "metadata": {},
   "outputs": [
    {
     "name": "stdout",
     "output_type": "stream",
     "text": [
      "  company  period  cash  fixed_asset   asset    debt  equity  capital  \\\n",
      "0     ACB    2024  5696         5412  864006  780544   83462    44667   \n",
      "1     ACB    2023  6909         4763  718795  647839   70956    38841   \n",
      "2     ACB    2022  8461         3981  607875  549437   58439    33774   \n",
      "3     ACB    2021  7510         3763  527770  482869   44901    27019   \n",
      "4     ACB    2020  6968         3783  444530  409082   35448    21616   \n",
      "\n",
      "   central_bank_deposit  other_bank_deposit  ...  un_distributed_income  \\\n",
      "0               25220.0            117781.0  ...                23734.0   \n",
      "1               18505.0            114644.0  ...                20286.0   \n",
      "2               13658.0             82339.0  ...                15172.0   \n",
      "3               32350.0             43713.0  ...                10445.0   \n",
      "4               16617.0             23311.0  ...                 7819.0   \n",
      "\n",
      "   minor_share_holder_profit  payable  short_asset  short_invest  \\\n",
      "0                        0.0   780544          NaN           NaN   \n",
      "1                        0.0   647839          NaN           NaN   \n",
      "2                        0.0   549437          NaN           NaN   \n",
      "3                        0.0   482869          NaN           NaN   \n",
      "4                        0.0   409082          NaN           NaN   \n",
      "\n",
      "   short_receivable  inventory  long_asset  short_debt  long_debt  \n",
      "0               NaN        NaN         NaN         NaN        NaN  \n",
      "1               NaN        NaN         NaN         NaN        NaN  \n",
      "2               NaN        NaN         NaN         NaN        NaN  \n",
      "3               NaN        NaN         NaN         NaN        NaN  \n",
      "4               NaN        NaN         NaN         NaN        NaN  \n",
      "\n",
      "[5 rows x 36 columns]\n"
     ]
    }
   ],
   "source": [
    "import os\n",
    "import pandas as pd\n",
    "\n",
    "# Đường dẫn tới thư mục hiện tại\n",
    "folder_path = '.'\n",
    "\n",
    "# Lấy tất cả các file CSV trong thư mục hiện tại\n",
    "files = [f for f in os.listdir(folder_path) if f.endswith('.csv')]\n",
    "\n",
    "# Danh sách để lưu các DataFrame\n",
    "dataframes = []\n",
    "\n",
    "# Duyệt qua các file và đọc chúng\n",
    "for file in files:\n",
    "    # Đọc file CSV\n",
    "    df = pd.read_csv(os.path.join(folder_path, file))\n",
    "    \n",
    "    # Thêm cột 'company' với tên công ty lấy từ tên file ở đầu DataFrame\n",
    "    company_name = file.split('.')[0]  # Lấy tên công ty từ tên file (ví dụ: \"ACB.csv\" -> \"ACB\")\n",
    "    df.insert(0, 'company', company_name)  # Thêm cột 'company' vào đầu DataFrame\n",
    "    \n",
    "    # Thêm DataFrame vào danh sách\n",
    "    dataframes.append(df)\n",
    "\n",
    "# Gộp tất cả các DataFrame lại thành một DataFrame duy nhất\n",
    "final_df = pd.concat(dataframes, ignore_index=True)\n",
    "\n",
    "# Hiển thị kết quả hoặc lưu vào file CSV mới\n",
    "print(final_df.head())\n",
    "# final_df.to_csv('merged_data.csv', index=False)  # Lưu dữ liệu vào file CSV nếu cần\n"
   ]
  },
  {
   "cell_type": "code",
   "execution_count": 36,
   "metadata": {},
   "outputs": [
    {
     "name": "stdout",
     "output_type": "stream",
     "text": [
      "Index(['company', 'period', 'short_asset', 'cash', 'short_invest',\n",
      "       'short_receivable', 'inventory', 'long_asset', 'fixed_asset', 'asset',\n",
      "       'debt', 'short_debt', 'long_debt', 'equity', 'capital', 'other_debt',\n",
      "       'un_distributed_income', 'minor_share_holder_profit', 'payable'],\n",
      "      dtype='object')\n"
     ]
    },
    {
     "data": {
      "text/plain": [
       "19"
      ]
     },
     "execution_count": 36,
     "metadata": {},
     "output_type": "execute_result"
    }
   ],
   "source": [
    "print(df.columns)\n",
    "len(df.columns)"
   ]
  },
  {
   "cell_type": "code",
   "execution_count": 35,
   "metadata": {},
   "outputs": [
    {
     "name": "stdout",
     "output_type": "stream",
     "text": [
      "Index(['period', 'cash', 'fixed_asset', 'asset', 'debt', 'equity', 'capital',\n",
      "       'central_bank_deposit', 'other_bank_deposit', 'other_bank_loan',\n",
      "       'stock_invest', 'customer_loan', 'bad_loan', 'provision',\n",
      "       'net_customer_loan', 'other_asset', 'other_bank_credit',\n",
      "       'owe_other_bank', 'owe_central_bank', 'valuable_paper',\n",
      "       'payable_interest', 'receivable_interest', 'deposit', 'other_debt',\n",
      "       'fund', 'un_distributed_income', 'minor_share_holder_profit',\n",
      "       'payable'],\n",
      "      dtype='object')\n"
     ]
    },
    {
     "data": {
      "text/plain": [
       "28"
      ]
     },
     "execution_count": 35,
     "metadata": {},
     "output_type": "execute_result"
    }
   ],
   "source": [
    "df_ACB = pd.read_csv('ACB.csv')\n",
    "print(df_ACB.columns)\n",
    "len(df_ACB.columns)"
   ]
  },
  {
   "cell_type": "code",
   "execution_count": 37,
   "metadata": {},
   "outputs": [
    {
     "name": "stdout",
     "output_type": "stream",
     "text": [
      "Index(['period', 'short_asset', 'cash', 'short_invest', 'short_receivable',\n",
      "       'inventory', 'long_asset', 'fixed_asset', 'asset', 'debt', 'short_debt',\n",
      "       'long_debt', 'equity', 'capital', 'other_debt', 'un_distributed_income',\n",
      "       'minor_share_holder_profit', 'payable'],\n",
      "      dtype='object')\n"
     ]
    },
    {
     "data": {
      "text/plain": [
       "18"
      ]
     },
     "execution_count": 37,
     "metadata": {},
     "output_type": "execute_result"
    }
   ],
   "source": [
    "df_HPG = pd.read_csv('HPG.csv')\n",
    "print(df_HPG.columns)\n",
    "len(df_HPG.columns)"
   ]
  },
  {
   "cell_type": "code",
   "execution_count": 42,
   "metadata": {},
   "outputs": [
    {
     "name": "stdout",
     "output_type": "stream",
     "text": [
      "Các cột chung giữa df_ACB và df_HPG:\n",
      "Index(['period', 'cash', 'fixed_asset', 'asset', 'debt', 'equity', 'capital',\n",
      "       'other_debt', 'un_distributed_income', 'minor_share_holder_profit',\n",
      "       'payable'],\n",
      "      dtype='object')\n",
      "11\n"
     ]
    }
   ],
   "source": [
    "# Lấy tên các cột chung giữa df_ACB và df_HPG\n",
    "common_columns = df_ACB.columns.intersection(df_HPG.columns)\n",
    "\n",
    "# In ra các cột chung\n",
    "if len(common_columns) > 0:\n",
    "    print(\"Các cột chung giữa df_ACB và df_HPG:\")\n",
    "    print(common_columns)\n",
    "    print(len(common_columns))\n",
    "else:\n",
    "    print(\"Không có cột chung giữa df_ACB và df_HPG.\")\n"
   ]
  },
  {
   "cell_type": "code",
   "execution_count": 43,
   "metadata": {},
   "outputs": [
    {
     "name": "stdout",
     "output_type": "stream",
     "text": [
      "  company  period  cash  fixed_asset   asset    debt  equity  capital  \\\n",
      "0     ACB    2024  5696         5412  864006  780544   83462    44667   \n",
      "1     ACB    2023  6909         4763  718795  647839   70956    38841   \n",
      "2     ACB    2022  8461         3981  607875  549437   58439    33774   \n",
      "3     ACB    2021  7510         3763  527770  482869   44901    27019   \n",
      "4     ACB    2020  6968         3783  444530  409082   35448    21616   \n",
      "\n",
      "   central_bank_deposit  other_bank_deposit  ...  un_distributed_income  \\\n",
      "0               25220.0            117781.0  ...                23734.0   \n",
      "1               18505.0            114644.0  ...                20286.0   \n",
      "2               13658.0             82339.0  ...                15172.0   \n",
      "3               32350.0             43713.0  ...                10445.0   \n",
      "4               16617.0             23311.0  ...                 7819.0   \n",
      "\n",
      "   minor_share_holder_profit  payable  short_asset  short_invest  \\\n",
      "0                        0.0   780544          NaN           NaN   \n",
      "1                        0.0   647839          NaN           NaN   \n",
      "2                        0.0   549437          NaN           NaN   \n",
      "3                        0.0   482869          NaN           NaN   \n",
      "4                        0.0   409082          NaN           NaN   \n",
      "\n",
      "   short_receivable  inventory  long_asset  short_debt  long_debt  \n",
      "0               NaN        NaN         NaN         NaN        NaN  \n",
      "1               NaN        NaN         NaN         NaN        NaN  \n",
      "2               NaN        NaN         NaN         NaN        NaN  \n",
      "3               NaN        NaN         NaN         NaN        NaN  \n",
      "4               NaN        NaN         NaN         NaN        NaN  \n",
      "\n",
      "[5 rows x 36 columns]\n"
     ]
    }
   ],
   "source": [
    "import pandas as pd\n",
    "import os\n",
    "\n",
    "# Đường dẫn thư mục chứa các file\n",
    "folder_path = \".\"\n",
    "\n",
    "# Lấy tất cả các file CSV trong thư mục\n",
    "files = [f for f in os.listdir(folder_path) if f.endswith('.csv')]\n",
    "\n",
    "# Danh sách chứa các DataFrame\n",
    "dataframes = []\n",
    "\n",
    "# Duyệt qua từng file và đọc dữ liệu\n",
    "for file in files:\n",
    "    df = pd.read_csv(os.path.join(folder_path, file))\n",
    "    \n",
    "    # Thêm cột 'company' vào đầu DataFrame (tên công ty từ tên file)\n",
    "    company_name = file.split('.')[0]  # Lấy tên công ty từ tên file\n",
    "    df.insert(0, 'company', company_name)  # Thêm cột 'company' vào đầu DataFrame\n",
    "    \n",
    "    # Thêm DataFrame vào danh sách\n",
    "    dataframes.append(df)\n",
    "\n",
    "# Gộp tất cả các DataFrame lại với nhau, bỏ qua sắp xếp cột\n",
    "final_df = pd.concat(dataframes, ignore_index=True, sort=False)\n",
    "\n",
    "# In kết quả\n",
    "print(final_df.head())\n"
   ]
  },
  {
   "cell_type": "code",
   "execution_count": 45,
   "metadata": {},
   "outputs": [
    {
     "name": "stdout",
     "output_type": "stream",
     "text": [
      "Số lượng loại khác nhau về các cột:\n",
      "Tập hợp cột: frozenset({'fixed_asset', 'other_bank_deposit', 'net_customer_loan', 'other_debt', 'bad_loan', 'other_bank_loan', 'other_asset', 'payable', 'period', 'cash', 'stock_invest', 'owe_central_bank', 'receivable_interest', 'other_bank_credit', 'valuable_paper', 'minor_share_holder_profit', 'central_bank_deposit', 'deposit', 'fund', 'asset', 'capital', 'provision', 'un_distributed_income', 'debt', 'equity', 'customer_loan', 'payable_interest', 'owe_other_bank'}) -> Số file: 14\n",
      "Danh sách file: ['ACB.csv', 'BID.csv', 'CTG.csv', 'HDB.csv', 'LPB.csv', 'MBB.csv', 'SHB.csv', 'SSB.csv', 'STB.csv', 'TCB.csv', 'TPB.csv', 'VCB.csv', 'VIB.csv', 'VPB.csv']\n",
      "Tập hợp cột: frozenset({'fixed_asset', 'minor_share_holder_profit', 'period', 'cash', 'asset', 'capital', 'short_receivable', 'long_debt', 'short_asset', 'other_debt', 'inventory', 'un_distributed_income', 'debt', 'equity', 'payable', 'long_asset', 'short_debt', 'short_invest'}) -> Số file: 16\n",
      "Danh sách file: ['BCM.csv', 'BVH.csv', 'FPT.csv', 'GAS.csv', 'GVR.csv', 'HPG.csv', 'MSN.csv', 'MWG.csv', 'PLX.csv', 'SAB.csv', 'SSI.csv', 'VHM.csv', 'VIC.csv', 'VJC.csv', 'VNM.csv', 'VRE.csv']\n"
     ]
    }
   ],
   "source": [
    "import os\n",
    "import pandas as pd\n",
    "\n",
    "# Đường dẫn tới thư mục chứa các file CSV\n",
    "folder_path = \".\"\n",
    "\n",
    "# Lấy tất cả các file CSV trong thư mục\n",
    "files = [f for f in os.listdir(folder_path) if f.endswith('.csv')]\n",
    "\n",
    "# Danh sách để lưu thông tin về tên các cột của mỗi DataFrame\n",
    "column_sets = {}\n",
    "\n",
    "# Đọc dữ liệu và kiểm tra tên các cột\n",
    "for file in files:\n",
    "    # Đọc file CSV\n",
    "    df = pd.read_csv(os.path.join(folder_path, file))\n",
    "    \n",
    "    # Lấy tập hợp tên cột và chuyển sang frozenset\n",
    "    column_set = frozenset(df.columns)\n",
    "    \n",
    "    # Thêm vào dictionary để phân loại theo tập hợp cột\n",
    "    if column_set not in column_sets:\n",
    "        column_sets[column_set] = []\n",
    "    \n",
    "    # Lưu tên file tương ứng với tập hợp cột\n",
    "    column_sets[column_set].append(file)\n",
    "\n",
    "# Hiển thị số lượng loại khác nhau về tên cột và phân loại chúng\n",
    "print(\"Số lượng loại khác nhau về các cột:\")\n",
    "for columns, files in column_sets.items():\n",
    "    print(f\"Tập hợp cột: {columns} -> Số file: {len(files)}\")\n",
    "    print(f\"Danh sách file: {files}\")\n"
   ]
  }
 ],
 "metadata": {
  "kernelspec": {
   "display_name": "env",
   "language": "python",
   "name": "python3"
  },
  "language_info": {
   "codemirror_mode": {
    "name": "ipython",
    "version": 3
   },
   "file_extension": ".py",
   "mimetype": "text/x-python",
   "name": "python",
   "nbconvert_exporter": "python",
   "pygments_lexer": "ipython3",
   "version": "3.11.6"
  }
 },
 "nbformat": 4,
 "nbformat_minor": 2
}
