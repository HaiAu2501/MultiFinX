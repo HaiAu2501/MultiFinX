{
 "cells": [
  {
   "cell_type": "code",
   "execution_count": 8,
   "metadata": {},
   "outputs": [
    {
     "name": "stdout",
     "output_type": "stream",
     "text": [
      "✅ Gộp dữ liệu hoàn tất! File lưu thành 'merged_data.csv'\n"
     ]
    }
   ],
   "source": [
    "import pandas as pd\n",
    "\n",
    "# Danh sách file cụ thể\n",
    "file_paths = [\n",
    "    \"ACB.csv\", \"BCM.csv\", \"BID.csv\", \"BVH.csv\", \"CTG.csv\", \"FPT.csv\", \"GAS.csv\", \"GVR.csv\", \"HDB.csv\", \"HPG.csv\",\n",
    "    \"LPB.csv\", \"MBB.csv\", \"MSN.csv\", \"MWG.csv\", \"PLX.csv\", \"SAB.csv\", \"SHB.csv\", \"SSB.csv\", \"SSI.csv\", \"STB.csv\",\n",
    "    \"TCB.csv\", \"TPB.csv\", \"VCB.csv\", \"VHM.csv\", \"VIB.csv\", \"VIC.csv\", \"VJC.csv\", \"VNM.csv\", \"VPB.csv\", \"VRE.csv\"\n",
    "]\n",
    "\n",
    "# Chỉ giữ lại các cột cần thiết\n",
    "columns_needed = ['period', 'quarter', 'year', 'price_to_earning', 'price_to_book', 'roe', 'earning_per_share']\n",
    "\n",
    "# Đọc và gộp dữ liệu\n",
    "df_list = []\n",
    "for file in file_paths:\n",
    "    try:\n",
    "        df = pd.read_csv(file)[columns_needed]  # Chỉ lấy các cột cần thiết\n",
    "        df[\"company\"] = file.replace(\".csv\", \"\")  # Thêm cột tên công ty\n",
    "        df_list.append(df)\n",
    "    except Exception as e:\n",
    "        print(f\"Lỗi khi đọc file {file}: {e}\")\n",
    "\n",
    "df_combined = pd.concat(df_list, ignore_index=True)\n",
    "\n",
    "# Lưu file kết quả\n",
    "df_combined.to_csv(\"merged_data.csv\", index=False)\n",
    "\n",
    "print(\"✅ Gộp dữ liệu hoàn tất! File lưu thành 'merged_data.csv'\")\n"
   ]
  },
  {
   "cell_type": "markdown",
   "metadata": {},
   "source": [
    "## 1.1. Giả thuyết 1\n",
    "\n",
    "### Kiểm định ANOVA: P/E trung bình có khác biệt giữa các khu vực (Region)?\n",
    "- $\\mathcal{H}_0$ (Giả thuyết không): Không có sự khác biệt đáng kể về doanh thu trung bình giữa các khu vực.\n",
    "- $\\mathcal{H}_1$ (Giả thuyết đối): Ít nhất một khu vực có doanh thu trung bình khác biệt đáng kể."
   ]
  },
  {
   "cell_type": "code",
   "execution_count": 10,
   "metadata": {},
   "outputs": [
    {
     "ename": "TypeError",
     "evalue": "At least two samples are required; got 1.",
     "output_type": "error",
     "traceback": [
      "\u001b[1;31m---------------------------------------------------------------------------\u001b[0m",
      "\u001b[1;31mTypeError\u001b[0m                                 Traceback (most recent call last)",
      "\u001b[1;32m~\\AppData\\Local\\Temp\\ipykernel_16588\\1708428997.py\u001b[0m in \u001b[0;36m?\u001b[1;34m()\u001b[0m\n\u001b[0;32m     11\u001b[0m \u001b[1;32mfor\u001b[0m \u001b[0mcriterion\u001b[0m \u001b[1;32min\u001b[0m \u001b[0mcriteria\u001b[0m\u001b[1;33m:\u001b[0m\u001b[1;33m\u001b[0m\u001b[1;33m\u001b[0m\u001b[0m\n\u001b[0;32m     12\u001b[0m     \u001b[0mgroups\u001b[0m \u001b[1;33m=\u001b[0m \u001b[1;33m[\u001b[0m\u001b[0mdf\u001b[0m\u001b[1;33m[\u001b[0m\u001b[0mdf\u001b[0m\u001b[1;33m[\u001b[0m\u001b[1;34m'company'\u001b[0m\u001b[1;33m]\u001b[0m \u001b[1;33m==\u001b[0m \u001b[0mcompany\u001b[0m\u001b[1;33m]\u001b[0m\u001b[1;33m[\u001b[0m\u001b[0mcriterion\u001b[0m\u001b[1;33m]\u001b[0m\u001b[1;33m.\u001b[0m\u001b[0mdropna\u001b[0m\u001b[1;33m(\u001b[0m\u001b[1;33m)\u001b[0m \u001b[1;32mfor\u001b[0m \u001b[0mcompany\u001b[0m \u001b[1;32min\u001b[0m \u001b[0mdf\u001b[0m\u001b[1;33m[\u001b[0m\u001b[1;34m'company'\u001b[0m\u001b[1;33m]\u001b[0m\u001b[1;33m.\u001b[0m\u001b[0munique\u001b[0m\u001b[1;33m(\u001b[0m\u001b[1;33m)\u001b[0m\u001b[1;33m]\u001b[0m\u001b[1;33m\u001b[0m\u001b[1;33m\u001b[0m\u001b[0m\n\u001b[0;32m     13\u001b[0m \u001b[1;33m\u001b[0m\u001b[0m\n\u001b[0;32m     14\u001b[0m     \u001b[1;31m# Kiểm định ANOVA\u001b[0m\u001b[1;33m\u001b[0m\u001b[1;33m\u001b[0m\u001b[0m\n\u001b[1;32m---> 15\u001b[1;33m     \u001b[0mstat\u001b[0m\u001b[1;33m,\u001b[0m \u001b[0mp_value\u001b[0m \u001b[1;33m=\u001b[0m \u001b[0mstats\u001b[0m\u001b[1;33m.\u001b[0m\u001b[0mf_oneway\u001b[0m\u001b[1;33m(\u001b[0m\u001b[1;33m*\u001b[0m\u001b[0mgroups\u001b[0m\u001b[1;33m)\u001b[0m\u001b[1;33m\u001b[0m\u001b[1;33m\u001b[0m\u001b[0m\n\u001b[0m\u001b[0;32m     16\u001b[0m \u001b[1;33m\u001b[0m\u001b[0m\n\u001b[0;32m     17\u001b[0m \u001b[1;33m\u001b[0m\u001b[0m\n\u001b[0;32m     18\u001b[0m \u001b[1;33m\u001b[0m\u001b[0m\n",
      "\u001b[1;32m~\\AppData\\Local\\Packages\\PythonSoftwareFoundation.Python.3.11_qbz5n2kfra8p0\\LocalCache\\local-packages\\Python311\\site-packages\\scipy\\stats\\_axis_nan_policy.py\u001b[0m in \u001b[0;36m?\u001b[1;34m(***failed resolving arguments***)\u001b[0m\n\u001b[0;32m    563\u001b[0m \u001b[1;33m\u001b[0m\u001b[0m\n\u001b[0;32m    564\u001b[0m                 \u001b[1;32mif\u001b[0m \u001b[0msentinel\u001b[0m\u001b[1;33m:\u001b[0m\u001b[1;33m\u001b[0m\u001b[1;33m\u001b[0m\u001b[0m\n\u001b[0;32m    565\u001b[0m                     \u001b[0msamples\u001b[0m \u001b[1;33m=\u001b[0m \u001b[0m_remove_sentinel\u001b[0m\u001b[1;33m(\u001b[0m\u001b[0msamples\u001b[0m\u001b[1;33m,\u001b[0m \u001b[0mpaired\u001b[0m\u001b[1;33m,\u001b[0m \u001b[0msentinel\u001b[0m\u001b[1;33m)\u001b[0m\u001b[1;33m\u001b[0m\u001b[1;33m\u001b[0m\u001b[0m\n\u001b[0;32m    566\u001b[0m \u001b[1;33m\u001b[0m\u001b[0m\n\u001b[1;32m--> 567\u001b[1;33m                 \u001b[1;32mif\u001b[0m \u001b[0mis_too_small\u001b[0m\u001b[1;33m(\u001b[0m\u001b[0msamples\u001b[0m\u001b[1;33m,\u001b[0m \u001b[0mkwds\u001b[0m\u001b[1;33m)\u001b[0m\u001b[1;33m:\u001b[0m\u001b[1;33m\u001b[0m\u001b[1;33m\u001b[0m\u001b[0m\n\u001b[0m\u001b[0;32m    568\u001b[0m                     \u001b[0mwarnings\u001b[0m\u001b[1;33m.\u001b[0m\u001b[0mwarn\u001b[0m\u001b[1;33m(\u001b[0m\u001b[0mtoo_small_msg\u001b[0m\u001b[1;33m,\u001b[0m \u001b[0mSmallSampleWarning\u001b[0m\u001b[1;33m,\u001b[0m \u001b[0mstacklevel\u001b[0m\u001b[1;33m=\u001b[0m\u001b[1;36m2\u001b[0m\u001b[1;33m)\u001b[0m\u001b[1;33m\u001b[0m\u001b[1;33m\u001b[0m\u001b[0m\n\u001b[0;32m    569\u001b[0m                     \u001b[0mres\u001b[0m \u001b[1;33m=\u001b[0m \u001b[0mnp\u001b[0m\u001b[1;33m.\u001b[0m\u001b[0mfull\u001b[0m\u001b[1;33m(\u001b[0m\u001b[0mn_out\u001b[0m\u001b[1;33m,\u001b[0m \u001b[0mNaN\u001b[0m\u001b[1;33m)\u001b[0m\u001b[1;33m\u001b[0m\u001b[1;33m\u001b[0m\u001b[0m\n\u001b[0;32m    570\u001b[0m                     \u001b[0mres\u001b[0m \u001b[1;33m=\u001b[0m \u001b[0m_add_reduced_axes\u001b[0m\u001b[1;33m(\u001b[0m\u001b[0mres\u001b[0m\u001b[1;33m,\u001b[0m \u001b[0mreduced_axes\u001b[0m\u001b[1;33m,\u001b[0m \u001b[0mkeepdims\u001b[0m\u001b[1;33m)\u001b[0m\u001b[1;33m\u001b[0m\u001b[1;33m\u001b[0m\u001b[0m\n",
      "\u001b[1;32m~\\AppData\\Local\\Packages\\PythonSoftwareFoundation.Python.3.11_qbz5n2kfra8p0\\LocalCache\\local-packages\\Python311\\site-packages\\scipy\\stats\\_stats_py.py\u001b[0m in \u001b[0;36m?\u001b[1;34m(samples, kwargs, axis)\u001b[0m\n\u001b[0;32m   3975\u001b[0m \u001b[1;32mdef\u001b[0m \u001b[0m_f_oneway_is_too_small\u001b[0m\u001b[1;33m(\u001b[0m\u001b[0msamples\u001b[0m\u001b[1;33m,\u001b[0m \u001b[0mkwargs\u001b[0m\u001b[1;33m=\u001b[0m\u001b[1;33m{\u001b[0m\u001b[1;33m}\u001b[0m\u001b[1;33m,\u001b[0m \u001b[0maxis\u001b[0m\u001b[1;33m=\u001b[0m\u001b[1;33m-\u001b[0m\u001b[1;36m1\u001b[0m\u001b[1;33m)\u001b[0m\u001b[1;33m:\u001b[0m\u001b[1;33m\u001b[0m\u001b[1;33m\u001b[0m\u001b[0m\n\u001b[0;32m   3976\u001b[0m     \u001b[0mmessage\u001b[0m \u001b[1;33m=\u001b[0m \u001b[1;34mf\"At least two samples are required; got {len(samples)}.\"\u001b[0m\u001b[1;33m\u001b[0m\u001b[1;33m\u001b[0m\u001b[0m\n\u001b[0;32m   3977\u001b[0m     \u001b[1;32mif\u001b[0m \u001b[0mlen\u001b[0m\u001b[1;33m(\u001b[0m\u001b[0msamples\u001b[0m\u001b[1;33m)\u001b[0m \u001b[1;33m<\u001b[0m \u001b[1;36m2\u001b[0m\u001b[1;33m:\u001b[0m\u001b[1;33m\u001b[0m\u001b[1;33m\u001b[0m\u001b[0m\n\u001b[1;32m-> 3978\u001b[1;33m         \u001b[1;32mraise\u001b[0m \u001b[0mTypeError\u001b[0m\u001b[1;33m(\u001b[0m\u001b[0mmessage\u001b[0m\u001b[1;33m)\u001b[0m\u001b[1;33m\u001b[0m\u001b[1;33m\u001b[0m\u001b[0m\n\u001b[0m\u001b[0;32m   3979\u001b[0m \u001b[1;33m\u001b[0m\u001b[0m\n\u001b[0;32m   3980\u001b[0m     \u001b[1;31m# Check this after forming alldata, so shape errors are detected\u001b[0m\u001b[1;33m\u001b[0m\u001b[1;33m\u001b[0m\u001b[0m\n\u001b[0;32m   3981\u001b[0m     \u001b[1;31m# and reported before checking for 0 length inputs.\u001b[0m\u001b[1;33m\u001b[0m\u001b[1;33m\u001b[0m\u001b[0m\n",
      "\u001b[1;31mTypeError\u001b[0m: At least two samples are required; got 1."
     ]
    }
   ],
   "source": [
    "import scipy.stats as stats\n",
    "\n",
    "\n",
    "df = df.dropna(subset=['price_to_earning', 'price_to_book', 'roe', 'earning_per_share'])\n",
    "\n",
    "\n",
    "# Danh sách tiêu chí cần kiểm định\n",
    "criteria = ['price_to_earning', 'price_to_book', 'roe', 'earning_per_share']\n",
    "\n",
    "# Thực hiện kiểm định ANOVA cho từng tiêu chí\n",
    "for criterion in criteria:\n",
    "    groups = [df[df['company'] == company][criterion].dropna() for company in df['company'].unique()]\n",
    "    \n",
    "    # Kiểm định ANOVA\n",
    "    stat, p_value = stats.f_oneway(*groups)\n",
    "    \n",
    "    \n",
    "\n",
    "    # Kiểm tra ý nghĩa thống kê\n",
    "    if p_value < 0.05:\n",
    "        print(f\"  → Có sự khác biệt đáng kể về {criterion} giữa các công ty (p < 0.05)\\n\")\n",
    "    else:\n",
    "        print(f\"  → Không có sự khác biệt đáng kể về {criterion} giữa các công ty (p >= 0.05)\\n\")\n"
   ]
  },
  {
   "cell_type": "code",
   "execution_count": 11,
   "metadata": {},
   "outputs": [
    {
     "name": "stdout",
     "output_type": "stream",
     "text": [
      "company\n",
      "VRE    26\n",
      "Name: count, dtype: int64\n"
     ]
    }
   ],
   "source": [
    "company_counts = df['company'].value_counts()\n",
    "print(company_counts)"
   ]
  },
  {
   "cell_type": "code",
   "execution_count": 12,
   "metadata": {},
   "outputs": [],
   "source": [
    "# Chỉ giữ lại các công ty có ít nhất 2 dòng dữ liệu\n",
    "valid_companies = company_counts[company_counts >= 2].index\n",
    "df_filtered = df[df['company'].isin(valid_companies)]\n"
   ]
  },
  {
   "cell_type": "code",
   "execution_count": 13,
   "metadata": {},
   "outputs": [
    {
     "name": "stdout",
     "output_type": "stream",
     "text": [
      "⚠️ Không đủ dữ liệu để thực hiện ANOVA cho price_to_earning (cần ít nhất 2 nhóm có từ 2 mẫu trở lên)\n",
      "\n",
      "⚠️ Không đủ dữ liệu để thực hiện ANOVA cho price_to_book (cần ít nhất 2 nhóm có từ 2 mẫu trở lên)\n",
      "\n",
      "⚠️ Không đủ dữ liệu để thực hiện ANOVA cho roe (cần ít nhất 2 nhóm có từ 2 mẫu trở lên)\n",
      "\n",
      "⚠️ Không đủ dữ liệu để thực hiện ANOVA cho earning_per_share (cần ít nhất 2 nhóm có từ 2 mẫu trở lên)\n",
      "\n"
     ]
    }
   ],
   "source": [
    "import scipy.stats as stats\n",
    "\n",
    "# Danh sách tiêu chí cần kiểm định\n",
    "criteria = ['price_to_earning', 'price_to_book', 'roe', 'earning_per_share']\n",
    "\n",
    "for criterion in criteria:\n",
    "    # Tạo danh sách nhóm dữ liệu hợp lệ\n",
    "    groups = [df_filtered[df_filtered['company'] == company][criterion].dropna() \n",
    "              for company in df_filtered['company'].unique()]\n",
    "    \n",
    "    # Kiểm tra xem có ít nhất 2 nhóm hợp lệ không\n",
    "    if len(groups) < 2 or any(len(group) < 2 for group in groups):\n",
    "        print(f\"⚠️ Không đủ dữ liệu để thực hiện ANOVA cho {criterion} (cần ít nhất 2 nhóm có từ 2 mẫu trở lên)\\n\")\n",
    "        continue\n",
    "\n",
    "    # Kiểm định ANOVA\n",
    "    stat, p_value = stats.f_oneway(*groups)\n",
    "    \n",
    "    print(f\"🔹 ANOVA cho {criterion}: F-statistic = {stat:.4f}, p-value = {p_value:.4f}\")\n",
    "\n",
    "    # Kiểm tra ý nghĩa thống kê\n",
    "    if p_value < 0.05:\n",
    "        print(f\"  → Có sự khác biệt đáng kể về {criterion} giữa các công ty (p < 0.05)\\n\")\n",
    "    else:\n",
    "        print(f\"  → Không có sự khác biệt đáng kể về {criterion} giữa các công ty (p >= 0.05)\\n\")\n"
   ]
  },
  {
   "cell_type": "markdown",
   "metadata": {},
   "source": [
    "## 1.2. Giả thuyết 2\n",
    "\n",
    "###  T-Test: Các tiêu chí trung bình trước và sau năm 2020 có khác biệt đáng kể?\n",
    "- $\\mathcal{H}_0$: Không có sự khác biệt đáng kể về các tiêu chí trung bình trước và sau năm 2020.\n",
    "- $\\mathcal{H}_1$: Có sự khác biệt đáng kể về doanh thu trung bình giữa hai giai đoạn."
   ]
  },
  {
   "cell_type": "code",
   "execution_count": 14,
   "metadata": {},
   "outputs": [
    {
     "name": "stdout",
     "output_type": "stream",
     "text": [
      "🔹 Kiểm định T-Test cho price_to_earning:\n",
      "   - T-Statistic: -2.0929\n",
      "   - P-Value: 0.0366\n",
      "   ✅ Có sự khác biệt có ý nghĩa thống kê giữa trước và sau 2020.\n",
      "--------------------------------------------------\n",
      "🔹 Kiểm định T-Test cho price_to_book:\n",
      "   - T-Statistic: 4.0618\n",
      "   - P-Value: 0.0001\n",
      "   ✅ Có sự khác biệt có ý nghĩa thống kê giữa trước và sau 2020.\n",
      "--------------------------------------------------\n",
      "🔹 Kiểm định T-Test cho roe:\n",
      "   - T-Statistic: 3.4436\n",
      "   - P-Value: 0.0006\n",
      "   ✅ Có sự khác biệt có ý nghĩa thống kê giữa trước và sau 2020.\n",
      "--------------------------------------------------\n",
      "🔹 Kiểm định T-Test cho earning_per_share:\n",
      "   - T-Statistic: -3.4525\n",
      "   - P-Value: 0.0006\n",
      "   ✅ Có sự khác biệt có ý nghĩa thống kê giữa trước và sau 2020.\n",
      "--------------------------------------------------\n"
     ]
    }
   ],
   "source": [
    "import pandas as pd\n",
    "from scipy.stats import ttest_ind\n",
    "\n",
    "\n",
    "# Chuyển đổi kiểu dữ liệu của cột 'year' (nếu chưa phải số)\n",
    "df_combined['year'] = pd.to_numeric(df_combined['year'], errors='coerce')\n",
    "\n",
    "# Tách dữ liệu thành hai nhóm\n",
    "df_before_2020 = df_combined[df_combined['year'] < 2020]\n",
    "df_after_2020 = df_combined[df_combined['year'] >= 2020]\n",
    "\n",
    "# Danh sách các tiêu chí cần kiểm định\n",
    "criteria = ['price_to_earning', 'price_to_book', 'roe', 'earning_per_share']\n",
    "\n",
    "# Thực hiện T-Test cho từng tiêu chí\n",
    "t_test_results = {}\n",
    "for crit in criteria:\n",
    "    t_stat, p_value = ttest_ind(df_before_2020[crit].dropna(), df_after_2020[crit].dropna(), equal_var=False)\n",
    "    t_test_results[crit] = {'T-Statistic': t_stat, 'P-Value': p_value}\n",
    "\n",
    "# Hiển thị kết quả\n",
    "for crit, result in t_test_results.items():\n",
    "    print(f\"🔹 Kiểm định T-Test cho {crit}:\")\n",
    "    print(f\"   - T-Statistic: {result['T-Statistic']:.4f}\")\n",
    "    print(f\"   - P-Value: {result['P-Value']:.4f}\")\n",
    "    if result['P-Value'] < 0.05:\n",
    "        print(\"   ✅ Có sự khác biệt có ý nghĩa thống kê giữa trước và sau 2020.\")\n",
    "    else:\n",
    "        print(\"   ❌ Không có sự khác biệt đáng kể giữa trước và sau 2020.\")\n",
    "    print(\"-\" * 50)\n"
   ]
  },
  {
   "cell_type": "markdown",
   "metadata": {},
   "source": [
    "## 1.2. Giả thuyết 2\n",
    "\n",
    "###  T-Test: Các tiêu chí trung bình giữa nhóm ngành ngân hàng và bất động sản có khác biệt đáng kể?\n",
    "- $\\mathcal{H}_0$: Không có sự khác biệt đáng kể giữa nhóm ngành ngân hàng và bất động sản.\n",
    "- $\\mathcal{H}_1$: Có sự khác biệt đáng kể về doanh thu trung bình giữa hai giai đoạn."
   ]
  },
  {
   "cell_type": "code",
   "execution_count": 15,
   "metadata": {},
   "outputs": [
    {
     "name": "stdout",
     "output_type": "stream",
     "text": [
      "🔹 Tiêu chí: price_to_earning\n",
      "   - T-statistic: -2.7742\n",
      "   - P-value: 0.0064\n",
      "   ✅ Kết luận: Có sự khác biệt có ý nghĩa thống kê giữa hai nhóm\n",
      "\n",
      "🔹 Tiêu chí: price_to_book\n",
      "   - T-statistic: -9.0976\n",
      "   - P-value: 0.0000\n",
      "   ✅ Kết luận: Có sự khác biệt có ý nghĩa thống kê giữa hai nhóm\n",
      "\n",
      "🔹 Tiêu chí: roe\n",
      "   - T-statistic: 3.7414\n",
      "   - P-value: 0.0003\n",
      "   ✅ Kết luận: Có sự khác biệt có ý nghĩa thống kê giữa hai nhóm\n",
      "\n",
      "🔹 Tiêu chí: earning_per_share\n",
      "   - T-statistic: -2.4577\n",
      "   - P-value: 0.0154\n",
      "   ✅ Kết luận: Có sự khác biệt có ý nghĩa thống kê giữa hai nhóm\n",
      "\n"
     ]
    }
   ],
   "source": [
    "import pandas as pd\n",
    "from scipy.stats import ttest_ind\n",
    "\n",
    "\n",
    "# Xác định nhóm công ty\n",
    "banking_companies = [\"ACB\", \"BID\", \"CTG\", \"HDB\", \"LPB\", \"MBB\", \"SHB\", \"SSB\", \"STB\", \"TCB\", \"TPB\", \"VCB\", \"VIB\", \"VPB\"]\n",
    "real_estate_companies = [\"BCM\", \"VHM\", \"VIC\", \"VRE\"]\n",
    "\n",
    "# Lọc dữ liệu theo từng nhóm\n",
    "df_banking = df_combined[df_combined[\"company\"].isin(banking_companies)]\n",
    "df_real_estate = df_combined[df_combined[\"company\"].isin(real_estate_companies)]\n",
    "\n",
    "# Các tiêu chí cần kiểm định\n",
    "criteria = [\"price_to_earning\", \"price_to_book\", \"roe\", \"earning_per_share\"]\n",
    "\n",
    "# Tiến hành kiểm định T-test cho từng tiêu chí\n",
    "results = {}\n",
    "for criterion in criteria:\n",
    "    t_stat, p_value = ttest_ind(df_banking[criterion].dropna(), df_real_estate[criterion].dropna(), equal_var=False)\n",
    "    results[criterion] = {\"t-statistic\": t_stat, \"p-value\": p_value}\n",
    "\n",
    "# Hiển thị kết quả\n",
    "for criterion, res in results.items():\n",
    "    print(f\"🔹 Tiêu chí: {criterion}\")\n",
    "    print(f\"   - T-statistic: {res['t-statistic']:.4f}\")\n",
    "    print(f\"   - P-value: {res['p-value']:.4f}\")\n",
    "    if res[\"p-value\"] < 0.05:\n",
    "        print(\"   ✅ Kết luận: Có sự khác biệt có ý nghĩa thống kê giữa hai nhóm\\n\")\n",
    "    else:\n",
    "        print(\"   ❌ Kết luận: Không có sự khác biệt đáng kể giữa hai nhóm\\n\")\n"
   ]
  },
  {
   "cell_type": "code",
   "execution_count": 16,
   "metadata": {},
   "outputs": [
    {
     "name": "stdout",
     "output_type": "stream",
     "text": [
      "Index(['period', 'quarter', 'year', 'price_to_earning', 'price_to_book', 'roe',\n",
      "       'earning_per_share', 'company'],\n",
      "      dtype='object')\n"
     ]
    }
   ],
   "source": [
    "print(df_combined.columns)  # Kiểm tra các cột có trong DataFrame\n"
   ]
  },
  {
   "cell_type": "code",
   "execution_count": 17,
   "metadata": {},
   "outputs": [
    {
     "name": "stdout",
     "output_type": "stream",
     "text": [
      "📌 Kết quả kiểm định T-Test giữa 2 quý đầu và 2 quý sau:\n",
      "\n",
      "🔹 price_to_earning:\n",
      "   T-Statistic = -0.5096\n",
      "   P-Value     = 0.6156\n",
      "   ❌ Kết luận: Không có sự khác biệt đáng kể giữa 2 quý đầu và 2 quý sau.\n",
      "\n",
      "🔹 price_to_book:\n",
      "   T-Statistic = 0.1381\n",
      "   P-Value     = 0.8929\n",
      "   ❌ Kết luận: Không có sự khác biệt đáng kể giữa 2 quý đầu và 2 quý sau.\n",
      "\n",
      "🔹 roe:\n",
      "   T-Statistic = -0.0668\n",
      "   P-Value     = 0.9476\n",
      "   ❌ Kết luận: Không có sự khác biệt đáng kể giữa 2 quý đầu và 2 quý sau.\n",
      "\n",
      "🔹 earning_per_share:\n",
      "   T-Statistic = -0.0722\n",
      "   P-Value     = 0.9436\n",
      "   ❌ Kết luận: Không có sự khác biệt đáng kể giữa 2 quý đầu và 2 quý sau.\n"
     ]
    }
   ],
   "source": [
    "import pandas as pd\n",
    "from scipy import stats\n",
    "\n",
    "# Chỉ lấy các cột cần thiết\n",
    "columns_needed = ['quarter', 'price_to_earning', 'price_to_book', 'roe', 'earning_per_share']\n",
    "df1 = df[columns_needed]\n",
    "\n",
    "# Chia dữ liệu thành hai nhóm: 2 quý đầu và 2 quý sau\n",
    "df1_q1_q2 = df[df['quarter'].isin([3])]  # Nhóm quý 1, 2\n",
    "df1_q3_q4 = df[df['quarter'].isin([1, 2, 4])]  # Nhóm quý 3, 4\n",
    "\n",
    "# Danh sách các tiêu chí để kiểm định\n",
    "criteria = ['price_to_earning', 'price_to_book', 'roe', 'earning_per_share']\n",
    "\n",
    "# Thực hiện kiểm định T-Test\n",
    "results = {}\n",
    "for criterion in criteria:\n",
    "    t_stat, p_value = stats.ttest_ind(df1_q1_q2[criterion].dropna(), df1_q3_q4[criterion].dropna(), equal_var=False)\n",
    "    results[criterion] = {\"T-Statistic\": t_stat, \"P-Value\": p_value}\n",
    "\n",
    "# In kết quả kiểm định\n",
    "print(\"📌 Kết quả kiểm định T-Test giữa 2 quý đầu và 2 quý sau:\")\n",
    "for key, value in results.items():\n",
    "    print(f\"\\n🔹 {key}:\")\n",
    "    print(f\"   T-Statistic = {value['T-Statistic']:.4f}\")\n",
    "    print(f\"   P-Value     = {value['P-Value']:.4f}\")\n",
    "\n",
    "    # Đánh giá kết quả\n",
    "    if value[\"P-Value\"] < 0.05:\n",
    "        print(\"   ✅ Kết luận: Có sự khác biệt đáng kể giữa 2 quý đầu và 2 quý sau.\")\n",
    "    else:\n",
    "        print(\"   ❌ Kết luận: Không có sự khác biệt đáng kể giữa 2 quý đầu và 2 quý sau.\")\n"
   ]
  },
  {
   "cell_type": "markdown",
   "metadata": {},
   "source": [
    "## 1.4. Giả thuyết 4\n",
    "\n",
    "### Kiểm định tương quan Pearson: Các tiêu chí có tương quan dương?\n",
    "- $\\mathcal{H}_0$: Không có mối tương quan đáng kể giữa các tiêu chí.\n",
    "- $\\mathcal{H}_1$: Có tương quan giữa các tiêu chí."
   ]
  },
  {
   "cell_type": "code",
   "execution_count": 18,
   "metadata": {},
   "outputs": [
    {
     "data": {
      "image/png": "[encoded data removed]",
      "text/plain": [
       "<Figure size 800x600 with 2 Axes>"
      ]
     },
     "metadata": {},
     "output_type": "display_data"
    },
    {
     "name": "stdout",
     "output_type": "stream",
     "text": [
      "\n",
      "✅ Ma trận p-value (kiểm định ý nghĩa thống kê):\n",
      "                   price_to_earning  price_to_book            roe  \\\n",
      "price_to_earning       1.000000e+00   1.208417e-07   3.915086e-08   \n",
      "price_to_book          1.208417e-07   1.000000e+00   2.952686e-42   \n",
      "roe                    3.915086e-08   2.952686e-42   1.000000e+00   \n",
      "earning_per_share      1.457037e-03   1.704635e-39  8.917200e-136   \n",
      "\n",
      "                   earning_per_share  \n",
      "price_to_earning        1.457037e-03  \n",
      "price_to_book           1.704635e-39  \n",
      "roe                    8.917200e-136  \n",
      "earning_per_share       1.000000e+00  \n"
     ]
    }
   ],
   "source": [
    "import pandas as pd\n",
    "import seaborn as sns\n",
    "import matplotlib.pyplot as plt\n",
    "\n",
    "\n",
    "# Chọn các cột cần phân tích\n",
    "columns_of_interest = ['price_to_earning', 'price_to_book', 'roe', 'earning_per_share']\n",
    "df_selected = df_combined[columns_of_interest].dropna()  # Loại bỏ dữ liệu bị thiếu\n",
    "\n",
    "# Tính ma trận hệ số tương quan Pearson\n",
    "correlation_matrix = df_selected.corr(method='pearson')\n",
    "\n",
    "# Vẽ heatmap biểu diễn ma trận tương quan\n",
    "plt.figure(figsize=(8,6))\n",
    "sns.heatmap(correlation_matrix, annot=True, cmap='coolwarm', fmt=\".2f\")\n",
    "plt.title(\"Ma trận tương quan Pearson giữa P/E, P/B, ROE, EPS\")\n",
    "plt.show()\n",
    "\n",
    "# Tính p-value cho từng cặp biến\n",
    "p_values = df_selected.corr(method=lambda x, y: stats.pearsonr(x, y)[1])  # Lấy p-value\n",
    "\n",
    "print(\"\\n✅ Ma trận p-value (kiểm định ý nghĩa thống kê):\")\n",
    "print(p_values)\n"
   ]
  },
  {
   "cell_type": "markdown",
   "metadata": {},
   "source": [
    "📌 $\\textbf{Kết luận}$\n",
    "- Hệ số tương quan dương mạnh nhất:\n",
    "\n",
    "    - ROE và EPS có tương quan mạnh (0.678, p-value ≈ 0), tức là ROE tăng thì EPS cũng có xu hướng tăng đáng kể.\n",
    "\n",
    "    - P/B và ROE có tương quan dương khá cao (0.412, p-value ≈ 0), nghĩa là ROE cao thường đi kèm với giá trị sổ sách trên cổ phiếu cao hơn.\n",
    "\n",
    "- Hệ số tương quan âm:\n",
    "    - P/E và ROE có tương quan âm nhỏ (-0.173, p-value ≈ 0), cho thấy khi ROE tăng thì P/E có xu hướng giảm nhẹ (có thể do nhà đầu tư trả giá thấp hơn cho cổ phiếu có lợi nhuận cao).\n",
    "\n",
    "- P-value rất nhỏ (<0.05) ở hầu hết các cặp, chứng tỏ các mối quan hệ đều có ý nghĩa thống kê.\n",
    "\n",
    "👉 Tóm lại: EPS, ROE và P/B có mối tương quan đáng kể, trong khi P/E có tương quan yếu hơn với các tiêu chí khác."
   ]
  },
  {
   "cell_type": "markdown",
   "metadata": {},
   "source": []
  },
  {
   "cell_type": "code",
   "execution_count": 29,
   "metadata": {},
   "outputs": [
    {
     "name": "stdout",
     "output_type": "stream",
     "text": [
      "Kết quả kiểm định Kruskal-Wallis cho price_to_earning:\n",
      "  - Hệ số thống kê (H): 556.4345\n",
      "  - Giá trị p: 0.0000\n",
      "  - Kết luận: Có sự khác biệt đáng kể\n",
      "--------------------------------------------------\n",
      "Kết quả kiểm định Kruskal-Wallis cho price_to_book:\n",
      "  - Hệ số thống kê (H): 649.7852\n",
      "  - Giá trị p: 0.0000\n",
      "  - Kết luận: Có sự khác biệt đáng kể\n",
      "--------------------------------------------------\n",
      "Kết quả kiểm định Kruskal-Wallis cho roe:\n",
      "  - Hệ số thống kê (H): 540.9364\n",
      "  - Giá trị p: 0.0000\n",
      "  - Kết luận: Có sự khác biệt đáng kể\n",
      "--------------------------------------------------\n",
      "Kết quả kiểm định Kruskal-Wallis cho earning_per_share:\n",
      "  - Hệ số thống kê (H): 524.8949\n",
      "  - Giá trị p: 0.0000\n",
      "  - Kết luận: Có sự khác biệt đáng kể\n",
      "--------------------------------------------------\n"
     ]
    }
   ],
   "source": [
    "import pandas as pd\n",
    "from scipy.stats import kruskal\n",
    "\n",
    "# Xác định danh sách tiêu chí cần kiểm định\n",
    "criteria = [\"price_to_earning\", \"price_to_book\", \"roe\", \"earning_per_share\"]\n",
    "\n",
    "# Thực hiện kiểm định Kruskal-Wallis\n",
    "results = {}\n",
    "\n",
    "for criterion in criteria:\n",
    "    groups = [df_combined[df_combined[\"company\"] == company][criterion].dropna() \n",
    "              for company in df_combined[\"company\"].unique()]\n",
    "    \n",
    "    stat, p_value = kruskal(*groups)\n",
    "    results[criterion] = (stat, p_value, \"Có sự khác biệt đáng kể\" if p_value < 0.05 else \"Không có sự khác biệt đáng kể\")\n",
    "\n",
    "# Hiển thị kết quả\n",
    "for criterion, (stat, p_value, conclusion) in results.items():\n",
    "    print(f\"Kết quả kiểm định Kruskal-Wallis cho {criterion}:\")\n",
    "    print(f\"  - Hệ số thống kê (H): {stat:.4f}\")\n",
    "    print(f\"  - Giá trị p: {p_value:.4f}\")\n",
    "    print(f\"  - Kết luận: {conclusion}\")\n",
    "    print(\"-\" * 50)\n"
   ]
  },
  {
   "cell_type": "markdown",
   "metadata": {},
   "source": []
  },
  {
   "cell_type": "code",
   "execution_count": null,
   "metadata": {},
   "outputs": [
    {
     "name": "stdout",
     "output_type": "stream",
     "text": [
      "Kết quả kiểm định Kruskal-Wallis cho price_to_earning:\n",
      "  - Hệ số thống kê (H): 556.4345\n",
      "  - Giá trị p: 0.0000\n",
      "  - Kết luận: Có sự khác biệt\n",
      "--------------------------------------------------\n",
      "Kết quả kiểm định Kruskal-Wallis cho price_to_book:\n",
      "  - Hệ số thống kê (H): 649.7852\n",
      "  - Giá trị p: 0.0000\n",
      "  - Kết luận: Có sự khác biệt\n",
      "--------------------------------------------------\n",
      "Kết quả kiểm định Kruskal-Wallis cho roe:\n",
      "  - Hệ số thống kê (H): 540.9364\n",
      "  - Giá trị p: 0.0000\n",
      "  - Kết luận: Có sự khác biệt\n",
      "--------------------------------------------------\n",
      "Kết quả kiểm định Kruskal-Wallis cho earning_per_share:\n",
      "  - Hệ số thống kê (H): 524.8949\n",
      "  - Giá trị p: 0.0000\n",
      "  - Kết luận: Có sự khác biệt\n",
      "--------------------------------------------------\n"
     ]
    }
   ],
   "source": [
    "import pandas as pd\n",
    "from scipy.stats import kruskal\n",
    "\n",
    "# Xác định danh sách tiêu chí cần kiểm định\n",
    "criteria = [\"price_to_earning\", \"price_to_book\", \"roe\", \"earning_per_share\"]\n",
    "\n",
    "# Thực hiện kiểm định Kruskal-Wallis\n",
    "results = {}\n",
    "\n",
    "for criterion in criteria:\n",
    "    groups = [df_combined[df_combined[\"company\"] == company][criterion].dropna() \n",
    "              for company in df_combined[\"company\"].unique()]\n",
    "    \n",
    "    stat, p_value = kruskal(*groups)\n",
    "    results[criterion] = (stat, p_value, \"Có sự khác biệt đáng kể\" if p_value < 0.05 else \"Không có sự khác biệt đáng kểkể\")\n",
    "\n",
    "# Hiển thị kết quả\n",
    "for criterion, (stat, p_value, conclusion) in results.items():\n",
    "    print(f\"Kết quả kiểm định Kruskal-Wallis cho {criterion}:\")\n",
    "    print(f\"  - Hệ số thống kê (H): {stat:.4f}\")\n",
    "    print(f\"  - Giá trị p: {p_value:.4f}\")\n",
    "    print(f\"  - Kết luận: {conclusion}\")\n",
    "    print(\"-\" * 50)\n"
   ]
  },
  {
   "cell_type": "markdown",
   "metadata": {},
   "source": []
  },
  {
   "cell_type": "code",
   "execution_count": 32,
   "metadata": {},
   "outputs": [
    {
     "name": "stdout",
     "output_type": "stream",
     "text": [
      "    period  quarter  year  price_to_earning  price_to_book    roe  \\\n",
      "0  2024-Q4        4  2024              10.2            1.0  0.103   \n",
      "1  2024-Q3        3  2024              10.6            1.1  0.105   \n",
      "2  2024-Q2        2  2024              10.4            1.2  0.119   \n",
      "3  2024-Q1        1  2024              13.1            1.5  0.122   \n",
      "4  2023-Q4        4  2023              12.0            1.4  0.124   \n",
      "\n",
      "   earning_per_share company   peg_ratio  book_to_market  eps_growth  \n",
      "0               1802     VRE   99.029126        1.000000         NaN  \n",
      "1               1794     VRE  100.952381        0.909091   -0.004440  \n",
      "2               1975     VRE   87.394958        0.833333    0.100892  \n",
      "3               1965     VRE  107.377049        0.666667   -0.005063  \n",
      "4               1940     VRE   96.774194        0.714286   -0.012723  \n"
     ]
    }
   ],
   "source": [
    "# Tạo PEG ratio (Price to Earning Growth)\n",
    "df[\"peg_ratio\"] = df[\"price_to_earning\"] / df[\"roe\"]\n",
    "\n",
    "# Tạo Book-to-Market Ratio\n",
    "df[\"book_to_market\"] = 1 / df[\"price_to_book\"]\n",
    "\n",
    "# Tính tăng trưởng EPS (so với quý trước)\n",
    "df[\"eps_growth\"] = df.groupby(\"company\")[\"earning_per_share\"].pct_change()\n",
    "\n",
    "# Xem kết quả\n",
    "print(df.head())\n"
   ]
  },
  {
   "cell_type": "code",
   "execution_count": 35,
   "metadata": {},
   "outputs": [
    {
     "name": "stdout",
     "output_type": "stream",
     "text": [
      "Tương quan PE/PB với ROE: r = -0.9208, p-value = 0.0000\n",
      "⏩ Kết luận: Có mối tương quan đáng kể giữa PE/PB và ROE.\n",
      "T-test EPS theo năm: p-value = 0.3992\n",
      "⏩ Kết luận: EPS không thay đổi đáng kể qua các năm.\n",
      "T-test PB giữa nhóm ROE cao & thấp: p-value = 0.4922\n",
      "⏩ Kết luận: Không có sự khác biệt đáng kể về PB giữa hai nhóm.\n",
      "Shapiro-Wilk test ROE: p-value = 0.0563\n",
      "⏩ Kết luận: ROE có thể coi là tuân theo phân phối chuẩn.\n"
     ]
    },
    {
     "data": {
      "image/png": "[encoded data removed]",
      "text/plain": [
       "<Figure size 1200x600 with 1 Axes>"
      ]
     },
     "metadata": {},
     "output_type": "display_data"
    },
    {
     "data": {
      "image/png": "[encoded data removed]",
      "text/plain": [
       "<Figure size 640x480 with 1 Axes>"
      ]
     },
     "metadata": {},
     "output_type": "display_data"
    }
   ],
   "source": [
    "import pandas as pd\n",
    "import numpy as np\n",
    "import scipy.stats as stats\n",
    "import seaborn as sns\n",
    "import matplotlib.pyplot as plt\n",
    "\n",
    "# Chuyển đổi dữ liệu nếu cần\n",
    "df['price_to_earning'] = pd.to_numeric(df['price_to_earning'], errors='coerce')\n",
    "df['price_to_book'] = pd.to_numeric(df['price_to_book'], errors='coerce')\n",
    "df['roe'] = pd.to_numeric(df['roe'], errors='coerce')\n",
    "df['earning_per_share'] = pd.to_numeric(df['earning_per_share'], errors='coerce')\n",
    "\n",
    "# 🔹 1. Tạo đặc trưng mới\n",
    "df['pe_pb_ratio'] = df['price_to_earning'] / df['price_to_book']\n",
    "df['roe_eps_ratio'] = df['roe'] / df['earning_per_share']\n",
    "\n",
    "# Tạo đặc trưng % thay đổi theo quý\n",
    "df['pb_change'] = df.groupby('company')['price_to_book'].pct_change()\n",
    "df['eps_growth'] = df.groupby('company')['earning_per_share'].pct_change()\n",
    "\n",
    "# Loại bỏ giá trị NaN sinh ra do `pct_change`\n",
    "df.dropna(inplace=True)\n",
    "\n",
    "# 🔹 2. Kiểm chứng giả thuyết\n",
    "\n",
    "## Giả thuyết 2: PE/PB có tương quan mạnh với ROE không? (Pearson correlation)\n",
    "corr, p_value = stats.pearsonr(df['pe_pb_ratio'], df['roe'])\n",
    "print(f\"Tương quan PE/PB với ROE: r = {corr:.4f}, p-value = {p_value:.4f}\")\n",
    "if p_value < 0.05:\n",
    "    print(\"⏩ Kết luận: Có mối tương quan đáng kể giữa PE/PB và ROE.\")\n",
    "else:\n",
    "    print(\"⏩ Kết luận: Không có mối tương quan đáng kể giữa PE/PB và ROE.\")\n",
    "\n",
    "## Giả thuyết 3: EPS có tăng trưởng qua các năm không? (T-test cặp)\n",
    "eps_yearly = df.groupby(['year'])['earning_per_share'].mean()\n",
    "t_stat, p_value = stats.ttest_rel(eps_yearly[:-1], eps_yearly[1:])\n",
    "print(f\"T-test EPS theo năm: p-value = {p_value:.4f}\")\n",
    "if p_value < 0.05:\n",
    "    print(\"⏩ Kết luận: EPS có sự tăng trưởng đáng kể qua các năm.\")\n",
    "else:\n",
    "    print(\"⏩ Kết luận: EPS không thay đổi đáng kể qua các năm.\")\n",
    "\n",
    "## Giả thuyết 4: PB trung bình ở nhóm ROE cao & thấp có khác nhau không? (T-test độc lập)\n",
    "median_roe = df['roe'].median()\n",
    "group_high = df[df['roe'] > median_roe]['price_to_book']\n",
    "group_low = df[df['roe'] <= median_roe]['price_to_book']\n",
    "t_stat, p_value = stats.ttest_ind(group_high, group_low, equal_var=False)\n",
    "print(f\"T-test PB giữa nhóm ROE cao & thấp: p-value = {p_value:.4f}\")\n",
    "if p_value < 0.05:\n",
    "    print(\"⏩ Kết luận: PB trung bình giữa hai nhóm ROE cao & thấp có sự khác biệt đáng kể.\")\n",
    "else:\n",
    "    print(\"⏩ Kết luận: Không có sự khác biệt đáng kể về PB giữa hai nhóm.\")\n",
    "\n",
    "## Giả thuyết 5: ROE có phân phối chuẩn không? (Shapiro-Wilk test)\n",
    "shapiro_test = stats.shapiro(df['roe'])\n",
    "print(f\"Shapiro-Wilk test ROE: p-value = {shapiro_test.pvalue:.4f}\")\n",
    "if shapiro_test.pvalue < 0.05:\n",
    "    print(\"⏩ Kết luận: ROE không tuân theo phân phối chuẩn.\")\n",
    "else:\n",
    "    print(\"⏩ Kết luận: ROE có thể coi là tuân theo phân phối chuẩn.\")\n",
    "\n",
    "# 🔹 3. Vẽ một số biểu đồ trực quan\n",
    "plt.figure(figsize=(12, 6))\n",
    "sns.histplot(df['roe'], kde=True, bins=30)\n",
    "plt.title(\"Phân phối của ROE\")\n",
    "plt.show()\n",
    "\n",
    "sns.boxplot(x='company', y='price_to_earning', data=df_combined)\n",
    "plt.xticks(rotation=90)\n",
    "plt.title(\"Biểu đồ Boxplot của PE giữa các công ty\")\n",
    "plt.show()\n"
   ]
  },
  {
   "cell_type": "markdown",
   "metadata": {},
   "source": []
  },
  {
   "cell_type": "code",
   "execution_count": 36,
   "metadata": {},
   "outputs": [
    {
     "name": "stdout",
     "output_type": "stream",
     "text": [
      "    period  quarter  year  price_to_earning  price_to_book    roe  \\\n",
      "3  2024-Q1        1  2024              13.1            1.5  0.122   \n",
      "4  2023-Q4        4  2023              12.0            1.4  0.124   \n",
      "5  2023-Q3        3  2023              14.4            1.6  0.119   \n",
      "6  2023-Q2        2  2023              16.9            1.7  0.107   \n",
      "7  2023-Q1        1  2023              19.9            2.0  0.103   \n",
      "\n",
      "   earning_per_share company   peg_ratio  book_to_market  eps_growth  \\\n",
      "3               1965     VRE  107.377049        0.666667   -0.005063   \n",
      "4               1940     VRE   96.774194        0.714286   -0.012723   \n",
      "5               1818     VRE  121.008403        0.625000   -0.062887   \n",
      "6               1588     VRE  157.943925        0.588235   -0.126513   \n",
      "7               1487     VRE  193.203883        0.500000   -0.063602   \n",
      "\n",
      "   pe_pb_ratio  roe_eps_ratio  pb_change industry  \n",
      "3     8.733333       0.000062   0.250000    Other  \n",
      "4     8.571429       0.000064  -0.066667    Other  \n",
      "5     9.000000       0.000065   0.142857    Other  \n",
      "6     9.941176       0.000067   0.062500    Other  \n",
      "7     9.950000       0.000069   0.176471    Other  \n"
     ]
    }
   ],
   "source": [
    "# Gán nhóm ngành cho từng công ty\n",
    "industry_mapping = {\n",
    "    \"ACB\": \"Banking\", \"BID\": \"Banking\", \"CTG\": \"Banking\", \"HDB\": \"Banking\", \"LPB\": \"Banking\",\n",
    "    \"MBB\": \"Banking\", \"SHB\": \"Banking\", \"SSB\": \"Banking\", \"STB\": \"Banking\", \"TCB\": \"Banking\",\n",
    "    \"TPB\": \"Banking\", \"VCB\": \"Banking\", \"VIB\": \"Banking\", \"VPB\": \"Banking\",\n",
    "    \"VHM\": \"Real Estate\", \"VIC\": \"Real Estate\", \"NVL\": \"Real Estate\",\n",
    "    \"MSN\": \"Consumer Goods\", \"MWG\": \"Consumer Goods\", \"SAB\": \"Consumer Goods\", \"VNM\": \"Consumer Goods\",\n",
    "    \"GAS\": \"Energy\", \"PLX\": \"Energy\",\n",
    "    \"FPT\": \"Technology\", \"BVH\": \"Insurance\", \"HPG\": \"Materials\", \"GVR\": \"Materials\",\n",
    "    \"SSI\": \"Financial Services\"\n",
    "}\n",
    "\n",
    "# Thêm cột nhóm ngành\n",
    "df[\"industry\"] = df[\"company\"].map(industry_mapping).fillna(\"Other\")\n",
    "\n",
    "# Kiểm tra kết quả\n",
    "print(df.head())\n"
   ]
  },
  {
   "cell_type": "code",
   "execution_count": 37,
   "metadata": {},
   "outputs": [
    {
     "name": "stdout",
     "output_type": "stream",
     "text": [
      "    period  quarter  year  price_to_earning  price_to_book    roe  \\\n",
      "3  2024-Q1        1  2024              13.1            1.5  0.122   \n",
      "4  2023-Q4        4  2023              12.0            1.4  0.124   \n",
      "5  2023-Q3        3  2023              14.4            1.6  0.119   \n",
      "6  2023-Q2        2  2023              16.9            1.7  0.107   \n",
      "7  2023-Q1        1  2023              19.9            2.0  0.103   \n",
      "\n",
      "   earning_per_share company   peg_ratio  book_to_market  eps_growth  \\\n",
      "3               1965     VRE  107.377049        0.666667         NaN   \n",
      "4               1940     VRE   96.774194        0.714286   -0.012723   \n",
      "5               1818     VRE  121.008403        0.625000   -0.062887   \n",
      "6               1588     VRE  157.943925        0.588235   -0.126513   \n",
      "7               1487     VRE  193.203883        0.500000   -0.063602   \n",
      "\n",
      "   pe_pb_ratio  roe_eps_ratio  pb_change industry          roa  roe_growth  \\\n",
      "3     8.733333       0.000062   0.250000    Other  1310.000000         NaN   \n",
      "4     8.571429       0.000064  -0.066667    Other  1385.714286         NaN   \n",
      "5     9.000000       0.000065   0.142857    Other  1136.250000         NaN   \n",
      "6     9.941176       0.000067   0.062500    Other   934.117647         NaN   \n",
      "7     9.950000       0.000069   0.176471    Other   743.500000   -0.155738   \n",
      "\n",
      "   pb_to_roe  \n",
      "3  12.295082  \n",
      "4  11.290323  \n",
      "5  13.445378  \n",
      "6  15.887850  \n",
      "7  19.417476  \n"
     ]
    }
   ],
   "source": [
    "import numpy as np\n",
    "\n",
    "# Thêm các chỉ số kinh tế mới\n",
    "\n",
    "# 1. Tỷ suất lợi nhuận trên tài sản (ROA) = EPS / Price to Book\n",
    "df[\"roa\"] = df[\"earning_per_share\"] / df[\"price_to_book\"]\n",
    "\n",
    "# 2. Tỷ lệ nợ trên vốn chủ sở hữu (D/E Ratio) - Giả sử có dữ liệu\n",
    "# df[\"de_ratio\"] = df[\"total_debt\"] / df[\"equity\"]\n",
    "\n",
    "# 3. Tốc độ tăng trưởng EPS theo năm (EPS Growth YoY)\n",
    "df[\"eps_growth\"] = df.groupby(\"company\")[\"earning_per_share\"].pct_change()\n",
    "\n",
    "# 4. Tăng trưởng ROE theo mùa (Seasonal ROE Growth)\n",
    "df[\"roe_growth\"] = df.groupby([\"company\", \"quarter\"])[\"roe\"].pct_change()\n",
    "\n",
    "# 5. Chỉ số P/B so với ROE (P/B to ROE Ratio)\n",
    "df[\"pb_to_roe\"] = df[\"price_to_book\"] / df[\"roe\"]\n",
    "\n",
    "# Kiểm tra kết quả\n",
    "print(df.head())\n"
   ]
  },
  {
   "cell_type": "code",
   "execution_count": 39,
   "metadata": {},
   "outputs": [
    {
     "name": "stdout",
     "output_type": "stream",
     "text": [
      "H1: ROE ngành ngân hàng vs BĐS nan\n",
      "H3: P/B có tương quan với ROE? 0.12464741218384282\n",
      "H4: EPS có xu hướng thay đổi theo mùa? 0.6721065354316685\n",
      "H5: P/E có ảnh hưởng đến tăng trưởng EPS? 0.4857866630972285\n",
      "H6: ROE ảnh hưởng đến giá cổ phiếu? 0.12464741218384232\n",
      "H8: Công ty P/E thấp có ROE cao hơn? nan\n"
     ]
    },
    {
     "name": "stderr",
     "output_type": "stream",
     "text": [
      "C:\\Users\\Admin\\AppData\\Local\\Temp\\ipykernel_16588\\1005231636.py:8: SmallSampleWarning: One or more sample arguments is too small; all returned values will be NaN. See documentation for sample size requirements.\n",
      "  t_stat, p_value = stats.ttest_ind(banking_roe, real_estate_roe)\n",
      "C:\\Users\\Admin\\AppData\\Local\\Temp\\ipykernel_16588\\1005231636.py:24: FutureWarning: Series.__getitem__ treating keys as positions is deprecated. In a future version, integer keys will always be treated as labels (consistent with DataFrame behavior). To access a value by position, use `ser.iloc[pos]`\n",
      "  print(\"H5: P/E có ảnh hưởng đến tăng trưởng EPS?\", model1.pvalues[1])\n",
      "C:\\Users\\Admin\\AppData\\Local\\Temp\\ipykernel_16588\\1005231636.py:28: FutureWarning: Series.__getitem__ treating keys as positions is deprecated. In a future version, integer keys will always be treated as labels (consistent with DataFrame behavior). To access a value by position, use `ser.iloc[pos]`\n",
      "  print(\"H6: ROE ảnh hưởng đến giá cổ phiếu?\", model2.pvalues[1])\n",
      "C:\\Users\\Admin\\AppData\\Local\\Temp\\ipykernel_16588\\1005231636.py:37: SmallSampleWarning: One or more sample arguments is too small; all returned values will be NaN. See documentation for sample size requirements.\n",
      "  t_stat, p_value = stats.ttest_ind(low_pe_roe, high_pe_roe)\n"
     ]
    }
   ],
   "source": [
    "import scipy.stats as stats\n",
    "import statsmodels.api as sm\n",
    "import statsmodels.formula.api as smf\n",
    "\n",
    "# 1. Ngành ngân hàng có ROE trung bình cao hơn ngành bất động sản? (T-test)\n",
    "banking_roe = df[df[\"industry\"] == \"Banking\"][\"roe\"].dropna()\n",
    "real_estate_roe = df[df[\"industry\"] == \"Real Estate\"][\"roe\"].dropna()\n",
    "t_stat, p_value = stats.ttest_ind(banking_roe, real_estate_roe)\n",
    "print(\"H1: ROE ngành ngân hàng vs BĐS\", p_value)\n",
    "\n",
    "\n",
    "# 3. Mối quan hệ giữa P/B và ROE có ý nghĩa thống kê? (Tương quan Pearson)\n",
    "correlation, p_value = stats.pearsonr(df[\"price_to_book\"].dropna(), df[\"roe\"].dropna())\n",
    "print(\"H3: P/B có tương quan với ROE?\", p_value)\n",
    "\n",
    "# 4. Có xu hướng tăng trưởng EPS vào một quý nhất định trong năm? (Kruskal-Wallis Test)\n",
    "kw_result = stats.kruskal(\n",
    "    *[df[df[\"quarter\"] == q][\"earning_per_share\"].dropna() for q in df[\"quarter\"].unique()]\n",
    ")\n",
    "print(\"H4: EPS có xu hướng thay đổi theo mùa?\", kw_result.pvalue)\n",
    "\n",
    "# 5. Các công ty có P/E cao có xu hướng tăng trưởng EPS nhanh hơn? (Hồi quy tuyến tính)\n",
    "model1 = smf.ols(\"eps_growth ~ price_to_earning\", data=df).fit()\n",
    "print(\"H5: P/E có ảnh hưởng đến tăng trưởng EPS?\", model1.pvalues[1])\n",
    "\n",
    "# 6. ROE có ảnh hưởng đến tăng trưởng giá cổ phiếu không? (Hồi quy tuyến tính)\n",
    "model2 = smf.ols(\"price_to_book ~ roe\", data=df).fit()\n",
    "print(\"H6: ROE ảnh hưởng đến giá cổ phiếu?\", model2.pvalues[1])\n",
    "\n",
    "# 7. Doanh nghiệp có nợ/vốn chủ sở hữu cao có xu hướng ROE cao hơn không? (T-test, giả sử có D/E Ratio)\n",
    "# t_stat, p_value = stats.ttest_ind(df[df[\"de_ratio\"] > 1][\"roe\"].dropna(), df[df[\"de_ratio\"] <= 1][\"roe\"].dropna())\n",
    "# print(\"H7: D/E Ratio có ảnh hưởng đến ROE?\", p_value)\n",
    "\n",
    "# 8. Các công ty có P/E thấp hơn 10 có lợi nhuận cao hơn nhóm còn lại? (T-test)\n",
    "low_pe_roe = df[df[\"price_to_earning\"] < 10][\"roe\"].dropna()\n",
    "high_pe_roe = df[df[\"price_to_earning\"] >= 10][\"roe\"].dropna()\n",
    "t_stat, p_value = stats.ttest_ind(low_pe_roe, high_pe_roe)\n",
    "print(\"H8: Công ty P/E thấp có ROE cao hơn?\", p_value)\n"
   ]
  }
 ],
 "metadata": {
  "kernelspec": {
   "display_name": "Python 3",
   "language": "python",
   "name": "python3"
  },
  "language_info": {
   "codemirror_mode": {
    "name": "ipython",
    "version": 3
   },
   "file_extension": ".py",
   "mimetype": "text/x-python",
   "name": "python",
   "nbconvert_exporter": "python",
   "pygments_lexer": "ipython3",
   "version": "3.11.9"
  }
 },
 "nbformat": 4,
 "nbformat_minor": 2
}
