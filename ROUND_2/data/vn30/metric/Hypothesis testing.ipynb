{
 "cells": [
  {
   "cell_type": "code",
   "execution_count": 6,
   "metadata": {},
   "outputs": [
    {
     "ename": "MergeError",
     "evalue": "Passing 'suffixes' which cause duplicate columns {'roe_x', 'book_value_per_share_x', 'payable_on_equity_x', 'quarter_x', 'equity_on_liability_x', 'earning_per_share_x', 'equity_on_total_asset_x', 'price_to_earning_x', 'roa_x', 'price_to_book_x', 'eps_change_x', 'book_value_per_share_change_x', 'year_x', 'asset_on_equity_x'} is not allowed.",
     "output_type": "error",
     "traceback": [
      "\u001b[1;31m---------------------------------------------------------------------------\u001b[0m",
      "\u001b[1;31mMergeError\u001b[0m                                Traceback (most recent call last)",
      "Cell \u001b[1;32mIn[6], line 106\u001b[0m\n\u001b[0;32m    104\u001b[0m \u001b[38;5;28;01mfor\u001b[39;00m name, df \u001b[38;5;129;01min\u001b[39;00m dfs\u001b[38;5;241m.\u001b[39mitems():\n\u001b[0;32m    105\u001b[0m     \u001b[38;5;28;01mif\u001b[39;00m name \u001b[38;5;241m!=\u001b[39m \u001b[38;5;124m\"\u001b[39m\u001b[38;5;124mVPB.csv\u001b[39m\u001b[38;5;124m\"\u001b[39m:\n\u001b[1;32m--> 106\u001b[0m         merged_df_left \u001b[38;5;241m=\u001b[39m \u001b[43mpd\u001b[49m\u001b[38;5;241;43m.\u001b[39;49m\u001b[43mmerge\u001b[49m\u001b[43m(\u001b[49m\u001b[43mmerged_df_left\u001b[49m\u001b[43m,\u001b[49m\u001b[43m \u001b[49m\u001b[43mdf\u001b[49m\u001b[43m,\u001b[49m\u001b[43m \u001b[49m\u001b[43mon\u001b[49m\u001b[38;5;241;43m=\u001b[39;49m\u001b[43m[\u001b[49m\u001b[38;5;124;43m'\u001b[39;49m\u001b[38;5;124;43mperiod\u001b[39;49m\u001b[38;5;124;43m'\u001b[39;49m\u001b[43m]\u001b[49m\u001b[43m,\u001b[49m\u001b[43m \u001b[49m\u001b[43mhow\u001b[49m\u001b[38;5;241;43m=\u001b[39;49m\u001b[38;5;124;43m'\u001b[39;49m\u001b[38;5;124;43mleft\u001b[39;49m\u001b[38;5;124;43m'\u001b[39;49m\u001b[43m)\u001b[49m\n\u001b[0;32m    108\u001b[0m \u001b[38;5;66;03m# In ra head của DataFrame kết quả\u001b[39;00m\n\u001b[0;32m    109\u001b[0m \u001b[38;5;28mprint\u001b[39m(merged_df_left\u001b[38;5;241m.\u001b[39mhead(\u001b[38;5;241m10\u001b[39m))\n",
      "File \u001b[1;32m~\\AppData\\Local\\Packages\\PythonSoftwareFoundation.Python.3.11_qbz5n2kfra8p0\\LocalCache\\local-packages\\Python311\\site-packages\\pandas\\core\\reshape\\merge.py:184\u001b[0m, in \u001b[0;36mmerge\u001b[1;34m(left, right, how, on, left_on, right_on, left_index, right_index, sort, suffixes, copy, indicator, validate)\u001b[0m\n\u001b[0;32m    169\u001b[0m \u001b[38;5;28;01melse\u001b[39;00m:\n\u001b[0;32m    170\u001b[0m     op \u001b[38;5;241m=\u001b[39m _MergeOperation(\n\u001b[0;32m    171\u001b[0m         left_df,\n\u001b[0;32m    172\u001b[0m         right_df,\n\u001b[1;32m   (...)\u001b[0m\n\u001b[0;32m    182\u001b[0m         validate\u001b[38;5;241m=\u001b[39mvalidate,\n\u001b[0;32m    183\u001b[0m     )\n\u001b[1;32m--> 184\u001b[0m     \u001b[38;5;28;01mreturn\u001b[39;00m \u001b[43mop\u001b[49m\u001b[38;5;241;43m.\u001b[39;49m\u001b[43mget_result\u001b[49m\u001b[43m(\u001b[49m\u001b[43mcopy\u001b[49m\u001b[38;5;241;43m=\u001b[39;49m\u001b[43mcopy\u001b[49m\u001b[43m)\u001b[49m\n",
      "File \u001b[1;32m~\\AppData\\Local\\Packages\\PythonSoftwareFoundation.Python.3.11_qbz5n2kfra8p0\\LocalCache\\local-packages\\Python311\\site-packages\\pandas\\core\\reshape\\merge.py:888\u001b[0m, in \u001b[0;36m_MergeOperation.get_result\u001b[1;34m(self, copy)\u001b[0m\n\u001b[0;32m    884\u001b[0m     \u001b[38;5;28mself\u001b[39m\u001b[38;5;241m.\u001b[39mleft, \u001b[38;5;28mself\u001b[39m\u001b[38;5;241m.\u001b[39mright \u001b[38;5;241m=\u001b[39m \u001b[38;5;28mself\u001b[39m\u001b[38;5;241m.\u001b[39m_indicator_pre_merge(\u001b[38;5;28mself\u001b[39m\u001b[38;5;241m.\u001b[39mleft, \u001b[38;5;28mself\u001b[39m\u001b[38;5;241m.\u001b[39mright)\n\u001b[0;32m    886\u001b[0m join_index, left_indexer, right_indexer \u001b[38;5;241m=\u001b[39m \u001b[38;5;28mself\u001b[39m\u001b[38;5;241m.\u001b[39m_get_join_info()\n\u001b[1;32m--> 888\u001b[0m result \u001b[38;5;241m=\u001b[39m \u001b[38;5;28;43mself\u001b[39;49m\u001b[38;5;241;43m.\u001b[39;49m\u001b[43m_reindex_and_concat\u001b[49m\u001b[43m(\u001b[49m\n\u001b[0;32m    889\u001b[0m \u001b[43m    \u001b[49m\u001b[43mjoin_index\u001b[49m\u001b[43m,\u001b[49m\u001b[43m \u001b[49m\u001b[43mleft_indexer\u001b[49m\u001b[43m,\u001b[49m\u001b[43m \u001b[49m\u001b[43mright_indexer\u001b[49m\u001b[43m,\u001b[49m\u001b[43m \u001b[49m\u001b[43mcopy\u001b[49m\u001b[38;5;241;43m=\u001b[39;49m\u001b[43mcopy\u001b[49m\n\u001b[0;32m    890\u001b[0m \u001b[43m\u001b[49m\u001b[43m)\u001b[49m\n\u001b[0;32m    891\u001b[0m result \u001b[38;5;241m=\u001b[39m result\u001b[38;5;241m.\u001b[39m__finalize__(\u001b[38;5;28mself\u001b[39m, method\u001b[38;5;241m=\u001b[39m\u001b[38;5;28mself\u001b[39m\u001b[38;5;241m.\u001b[39m_merge_type)\n\u001b[0;32m    893\u001b[0m \u001b[38;5;28;01mif\u001b[39;00m \u001b[38;5;28mself\u001b[39m\u001b[38;5;241m.\u001b[39mindicator:\n",
      "File \u001b[1;32m~\\AppData\\Local\\Packages\\PythonSoftwareFoundation.Python.3.11_qbz5n2kfra8p0\\LocalCache\\local-packages\\Python311\\site-packages\\pandas\\core\\reshape\\merge.py:840\u001b[0m, in \u001b[0;36m_MergeOperation._reindex_and_concat\u001b[1;34m(self, join_index, left_indexer, right_indexer, copy)\u001b[0m\n\u001b[0;32m    837\u001b[0m left \u001b[38;5;241m=\u001b[39m \u001b[38;5;28mself\u001b[39m\u001b[38;5;241m.\u001b[39mleft[:]\n\u001b[0;32m    838\u001b[0m right \u001b[38;5;241m=\u001b[39m \u001b[38;5;28mself\u001b[39m\u001b[38;5;241m.\u001b[39mright[:]\n\u001b[1;32m--> 840\u001b[0m llabels, rlabels \u001b[38;5;241m=\u001b[39m \u001b[43m_items_overlap_with_suffix\u001b[49m\u001b[43m(\u001b[49m\n\u001b[0;32m    841\u001b[0m \u001b[43m    \u001b[49m\u001b[38;5;28;43mself\u001b[39;49m\u001b[38;5;241;43m.\u001b[39;49m\u001b[43mleft\u001b[49m\u001b[38;5;241;43m.\u001b[39;49m\u001b[43m_info_axis\u001b[49m\u001b[43m,\u001b[49m\u001b[43m \u001b[49m\u001b[38;5;28;43mself\u001b[39;49m\u001b[38;5;241;43m.\u001b[39;49m\u001b[43mright\u001b[49m\u001b[38;5;241;43m.\u001b[39;49m\u001b[43m_info_axis\u001b[49m\u001b[43m,\u001b[49m\u001b[43m \u001b[49m\u001b[38;5;28;43mself\u001b[39;49m\u001b[38;5;241;43m.\u001b[39;49m\u001b[43msuffixes\u001b[49m\n\u001b[0;32m    842\u001b[0m \u001b[43m\u001b[49m\u001b[43m)\u001b[49m\n\u001b[0;32m    844\u001b[0m \u001b[38;5;28;01mif\u001b[39;00m left_indexer \u001b[38;5;129;01mis\u001b[39;00m \u001b[38;5;129;01mnot\u001b[39;00m \u001b[38;5;28;01mNone\u001b[39;00m \u001b[38;5;129;01mand\u001b[39;00m \u001b[38;5;129;01mnot\u001b[39;00m is_range_indexer(left_indexer, \u001b[38;5;28mlen\u001b[39m(left)):\n\u001b[0;32m    845\u001b[0m     \u001b[38;5;66;03m# Pinning the index here (and in the right code just below) is not\u001b[39;00m\n\u001b[0;32m    846\u001b[0m     \u001b[38;5;66;03m#  necessary, but makes the `.take` more performant if we have e.g.\u001b[39;00m\n\u001b[0;32m    847\u001b[0m     \u001b[38;5;66;03m#  a MultiIndex for left.index.\u001b[39;00m\n\u001b[0;32m    848\u001b[0m     lmgr \u001b[38;5;241m=\u001b[39m left\u001b[38;5;241m.\u001b[39m_mgr\u001b[38;5;241m.\u001b[39mreindex_indexer(\n\u001b[0;32m    849\u001b[0m         join_index,\n\u001b[0;32m    850\u001b[0m         left_indexer,\n\u001b[1;32m   (...)\u001b[0m\n\u001b[0;32m    855\u001b[0m         use_na_proxy\u001b[38;5;241m=\u001b[39m\u001b[38;5;28;01mTrue\u001b[39;00m,\n\u001b[0;32m    856\u001b[0m     )\n",
      "File \u001b[1;32m~\\AppData\\Local\\Packages\\PythonSoftwareFoundation.Python.3.11_qbz5n2kfra8p0\\LocalCache\\local-packages\\Python311\\site-packages\\pandas\\core\\reshape\\merge.py:2757\u001b[0m, in \u001b[0;36m_items_overlap_with_suffix\u001b[1;34m(left, right, suffixes)\u001b[0m\n\u001b[0;32m   2755\u001b[0m     dups\u001b[38;5;241m.\u001b[39mextend(rlabels[(rlabels\u001b[38;5;241m.\u001b[39mduplicated()) \u001b[38;5;241m&\u001b[39m (\u001b[38;5;241m~\u001b[39mright\u001b[38;5;241m.\u001b[39mduplicated())]\u001b[38;5;241m.\u001b[39mtolist())\n\u001b[0;32m   2756\u001b[0m \u001b[38;5;28;01mif\u001b[39;00m dups:\n\u001b[1;32m-> 2757\u001b[0m     \u001b[38;5;28;01mraise\u001b[39;00m MergeError(\n\u001b[0;32m   2758\u001b[0m         \u001b[38;5;124mf\u001b[39m\u001b[38;5;124m\"\u001b[39m\u001b[38;5;124mPassing \u001b[39m\u001b[38;5;124m'\u001b[39m\u001b[38;5;124msuffixes\u001b[39m\u001b[38;5;124m'\u001b[39m\u001b[38;5;124m which cause duplicate columns \u001b[39m\u001b[38;5;132;01m{\u001b[39;00m\u001b[38;5;28mset\u001b[39m(dups)\u001b[38;5;132;01m}\u001b[39;00m\u001b[38;5;124m is \u001b[39m\u001b[38;5;124m\"\u001b[39m\n\u001b[0;32m   2759\u001b[0m         \u001b[38;5;124mf\u001b[39m\u001b[38;5;124m\"\u001b[39m\u001b[38;5;124mnot allowed.\u001b[39m\u001b[38;5;124m\"\u001b[39m,\n\u001b[0;32m   2760\u001b[0m     )\n\u001b[0;32m   2762\u001b[0m \u001b[38;5;28;01mreturn\u001b[39;00m llabels, rlabels\n",
      "\u001b[1;31mMergeError\u001b[0m: Passing 'suffixes' which cause duplicate columns {'roe_x', 'book_value_per_share_x', 'payable_on_equity_x', 'quarter_x', 'equity_on_liability_x', 'earning_per_share_x', 'equity_on_total_asset_x', 'price_to_earning_x', 'roa_x', 'price_to_book_x', 'eps_change_x', 'book_value_per_share_change_x', 'year_x', 'asset_on_equity_x'} is not allowed."
     ]
    }
   ],
   "source": [
    "import pandas as pd\n",
    "import io\n",
    "\n",
    "# Tên các file CSV\n",
    "file_contents = {\n",
    "    \"VPB.csv\": \"\"\"period,quarter,year,price_to_earning,price_to_book,roe,roa,earning_per_share,book_value_per_share,interest_margin,non_interest_on_toi,bad_debt_percentage,provision_on_bad_debt,cost_of_financing,equity_on_total_asset,equity_on_loan,cost_to_income,equity_on_liability,eps_change,asset_on_equity,pre_provision_on_toi,post_tax_on_toi,loan_on_earn_asset,loan_on_asset,loan_on_deposit,deposit_on_earn_asset,bad_debt_on_asset,liquidity_on_liability,payable_on_equity,cancel_debt,book_value_per_share_change,credit_growth\n",
    "2024-Q4,4,2024,9.8,1.0,0.114,0.018,1988,18562,0.058,0.252,0.042,0.562,0.044,0.159,0.213,0.215,0.2,0.196,6.3,0.643,0.286,0.777,0.75,1.427,0.545,0.031,0.28,5.3,0.042,0.035,0.224\n",
    "2024-Q3,3,2024,12.1,1.1,0.109,0.016,1662,17928,0.06,0.193,0.048,0.507,0.048,0.166,0.224,0.249,0.2,0.138,6.0,0.603,0.276,0.773,0.74,1.335,0.579,0.036,0.285,5.0,0.042,0.03,0.218\n",
    "2024-Q2,2,2024,12.8,1.1,0.098,0.014,1460,17403,0.057,0.231,0.051,0.481,0.053,0.16,0.221,0.206,0.2,0.046,6.3,0.643,0.226,0.77,0.722,1.324,0.581,0.037,0.282,5.3,0.044,-0.034,0.278\n",
    "2024-Q1,1,2024,13.4,1.0,0.093,0.015,1396,18015,0.056,0.156,0.048,0.534,0.063,0.174,0.245,0.258,0.2,0.103,5.8,0.557,0.234,0.758,0.709,1.278,0.593,0.034,0.299,4.8,0.043,0.021,0.257\n",
    "2023-Q4,4,2023,14.4,1.0,0.087,0.014,1267,17639,0.056,0.172,0.05,0.517,0.066,0.171,0.247,0.271,0.2,-0.023,5.8,0.568,0.158,0.744,0.693,1.28,0.581,0.035,0.313,4.8,0.048,0.272,0.292\n",
    "\"\"\",\n",
    "    \"VRE.csv\": \"\"\"period,quarter,year,price_to_earning,price_to_book,value_before_ebitda,roe,roa,days_receivable,days_inventory,days_payable,ebit_on_interest,earning_per_share,book_value_per_share,equity_on_total_asset,equity_on_liability,current_payment,quick_payment,eps_change,ebitda_on_stock,gross_profit_margin,operating_profit_margin,post_tax_margin,debt_on_equity,debt_on_asset,debt_on_ebitda,short_on_long_debt,asset_on_equity,capital_balance,cash_on_equity,cash_on_capitalize,cash_circulation,revenue_on_work_capital,capex_on_fixed_asset,revenue_on_asset,post_tax_on_pre_tax,ebit_on_revenue,pre_tax_on_ebit,payable_on_equity,ebitda_on_stock_change,book_value_per_share_change\n",
    "2024-Q4,4,2024,10.2,1.0,8.3,0.103,0.08,244,41,43,6.0,1802,18449,0.759,3.2,2.1,2.0,0.004,2212,0.565,0.418,0.51,0.1,0.1,0.8,0.8,1.3,6392,0.069,0.069,242,1.5,-13.21,0.2,0.8,0.418,1.5,0.3,-0.022,0.027\n",
    "2024-Q3,3,2024,10.6,1.1,7.1,0.105,0.083,303,44,59,6.0,1794,17971,0.768,3.3,2.1,2.0,-0.091,2262,0.524,0.405,0.436,0.1,0.1,0.6,1.6,1.3,6567,0.084,0.093,288,1.2,-25.663,0.2,0.8,0.405,1.3,0.3,-0.099,0.023\n",
    "\"\"\",\n",
    "    \"VNM.csv\": \"\"\"period,quarter,year,price_to_earning,price_to_book,value_before_ebitda,roe,roa,days_receivable,days_inventory,days_payable,ebit_on_interest,earning_per_share,book_value_per_share,equity_on_total_asset,equity_on_liability,current_payment,quick_payment,eps_change,ebitda_on_stock,gross_profit_margin,operating_profit_margin,post_tax_margin,debt_on_equity,debt_on_asset,debt_on_ebitda,short_on_long_debt,asset_on_equity,capital_balance,cash_on_equity,cash_on_capitalize,cash_circulation,revenue_on_work_capital,capex_on_fixed_asset,revenue_on_asset,post_tax_on_pre_tax,ebit_on_revenue,pre_tax_on_ebit,payable_on_equity,ebitda_on_stock_change,book_value_per_share_change\n",
    "2024-Q4,4,2024,13.9,4.0,11.2,0.294,0.174,112,60,39,34.9,4494,15444,0.586,1.9,2.0,1.7,-0.021,5981.0,0.401,0.149,0.137,0.3,0.2,0.7,57.7,1.7,19094,0.062,0.017,132,3.3,-0.138,1.1,0.8,0.149,1.1,0.5,-0.031,0.029\n",
    "2024-Q3,3,2024,15.2,4.6,10.8,0.309,0.17,106,60,36,42.2,4590,15010,0.544,1.6,1.8,1.6,-0.009,6172.0,0.412,0.17,0.155,0.2,0.1,0.6,52.5,1.8,18561,0.074,0.02,129,3.5,-0.157,1.1,0.8,0.17,1.1,0.6,-0.002,-0.087\n",
    "\"\"\",\n",
    "    \"VJC.csv\": \"\"\"period,quarter,year,price_to_earning,price_to_book,value_before_ebitda,roe,roa,days_receivable,days_inventory,days_payable,ebit_on_interest,earning_per_share,book_value_per_share,equity_on_total_asset,equity_on_liability,current_payment,quick_payment,eps_change,ebitda_on_stock,gross_profit_margin,operating_profit_margin,post_tax_margin,debt_on_equity,debt_on_asset,debt_on_ebitda,short_on_long_debt,asset_on_equity,capital_balance,cash_on_equity,cash_on_capitalize,cash_circulation,revenue_on_work_capital,capex_on_fixed_asset,revenue_on_asset,post_tax_on_pre_tax,ebit_on_revenue,pre_tax_on_ebit,payable_on_equity,ebitda_on_stock_change,book_value_per_share_change\n",
    "2024-Q4,4,2024,37.2,3.1,24.4,0.088,0.015,24,8,44,-0.2,2632,31218,0.17,0.2,1.3,1.2,-0.067,6710,0.051,,0.001,2.6,0.4,10.3,0.5,5.9,8536,0.269,0.086,-12,15.0,-0.925,0.8,0.2,,-0.8,4.9,0.541,0.013\n",
    "2024-Q3,3,2024,37.2,3.4,38.0,0.096,0.018,23,6,47,2.1,2822,30832,0.178,0.2,1.1,1.1,0.4,4354,0.121,0.084,0.031,2.3,0.4,12.9,0.9,5.6,4547,0.123,0.038,-17,16.0,-1.349,0.8,0.8,0.084,0.5,4.6,0.906,0.013\n",
    "\"\"\",\n",
    "    \"VIC.csv\": \"\"\"period,quarter,year,price_to_earning,price_to_book,value_before_ebitda,roe,roa,days_receivable,days_inventory,days_payable,ebit_on_interest,earning_per_share,book_value_per_share,equity_on_total_asset,equity_on_liability,current_payment,quick_payment,eps_change,ebitda_on_stock,gross_profit_margin,operating_profit_margin,post_tax_margin,debt_on_equity,debt_on_asset,debt_on_ebitda,short_on_long_debt,asset_on_equity,capital_balance,cash_on_equity,cash_on_capitalize,cash_circulation,revenue_on_work_capital,capex_on_fixed_asset,revenue_on_asset,post_tax_on_pre_tax,ebit_on_revenue,pre_tax_on_ebit,payable_on_equity,ebitda_on_stock_change,book_value_per_share_change\n",
    "2024-Q4,4,2024,16.9,1.4,26.2,0.09,0.016,-151,229,84,-0.4,3069,36075,0.164,0.2,0.8,0.6,0.229,4067.0,0.153,,0.031,1.5,0.3,14.0,0.7,6.1,-114470,0.278,0.215,-6,,-0.296,0.3,0.4,,-2.0,4.5,1.386,0.023\n",
    "2024-Q3,3,2024,16.8,1.2,55.8,0.074,0.013,-110,278,71,0.8,2498,35261,0.17,0.3,0.9,0.6,1.662,1705.0,0.208,0.07,0.084,1.3,0.3,31.0,0.8,5.9,-46421,0.165,0.175,97,,-0.261,0.2,1.1,0.07,1.1,3.8,0.263,0.041\n",
    "\"\"\",\n",
    "    \"VIB.csv\": \"\"\"period,quarter,year,price_to_earning,price_to_book,roe,roa,earning_per_share,book_value_per_share,interest_margin,non_interest_on_toi,bad_debt_percentage,provision_on_bad_debt,cost_of_financing,equity_on_total_asset,equity_on_loan,cost_to_income,equity_on_liability,eps_change,asset_on_equity,pre_provision_on_toi,post_tax_on_toi,loan_on_earn_asset,loan_on_asset,loan_on_deposit,deposit_on_earn_asset,bad_debt_on_asset,liquidity_on_liability,payable_on_equity,cancel_debt,book_value_per_share_change,credit_growth\n",
    "2024-Q4,4,2024,8.5,1.5,0.181,0.016,2418,14051,0.036,0.228,0.035,0.501,0.044,0.085,0.129,0.332,0.1,0.003,11.8,0.534,0.364,0.669,0.657,1.173,0.571,0.023,0.371,10.8,0.01,0.048,0.217\n",
    "2024-Q3,3,2024,8.0,1.4,0.189,0.017,2411,13407,0.04,0.178,0.039,0.471,0.048,0.09,0.134,0.361,0.1,-0.071,11.2,0.511,0.324,0.68,0.668,1.164,0.584,0.026,0.363,10.2,0.012,0.042,0.211\n",
    "\"\"\",\n",
    "    \"VHM.csv\": \"\"\"period,quarter,year,price_to_earning,price_to_book,value_before_ebitda,roe,roa,days_receivable,days_inventory,days_payable,ebit_on_interest,earning_per_share,book_value_per_share,equity_on_total_asset,equity_on_liability,current_payment,quick_payment,eps_change,ebitda_on_stock,gross_profit_margin,operating_profit_margin,post_tax_margin,debt_on_equity,debt_on_asset,debt_on_ebitda,short_on_long_debt,asset_on_equity,capital_balance,cash_on_equity,cash_on_capitalize,cash_circulation,revenue_on_work_capital,capex_on_fixed_asset,revenue_on_asset,post_tax_on_pre_tax,ebit_on_revenue,pre_tax_on_ebit,payable_on_equity,ebitda_on_stock_change,book_value_per_share_change\n",
    "2024-Q4,4,2024,6.2,1.0,10.5,0.164,0.062,41,260,107,3.3,7590,49199,0.36,0.6,1.0,0.8,0.523,5877,0.361,0.253,0.348,0.4,0.1,2.8,1.1,2.8,-2884,0.132,0.149,195,8.8,-0.901,0.2,0.7,0.253,1.9,1.5,0.681,0.01\n",
    "2024-Q3,3,2024,8.6,0.9,15.1,0.108,0.043,174,359,118,4.7,4983,48724,0.381,0.7,1.2,1.0,-0.121,3496,0.293,0.21,0.236,0.3,0.1,3.8,0.5,2.6,56167,0.095,0.127,415,2.1,-1.08,0.2,0.7,0.21,1.5,1.4,-0.299,0.041\n",
    "\"\"\",\n",
    "    \"VCB.csv\": \"\"\"period,quarter,year,price_to_earning,price_to_book,roe,roa,earning_per_share,book_value_per_share,interest_margin,non_interest_on_toi,bad_debt_percentage,provision_on_bad_debt,cost_of_financing,equity_on_total_asset,equity_on_loan,cost_to_income,equity_on_liability,eps_change,asset_on_equity,pre_provision_on_toi,post_tax_on_toi,loan_on_earn_asset,loan_on_asset,loan_on_deposit,deposit_on_earn_asset,bad_debt_on_asset,liquidity_on_liability,payable_on_equity,cancel_debt,book_value_per_share_change,credit_growth\n",
    "2024-Q4,4,2024,16.4,2.8,0.184,0.017,4048,23810,0.029,0.218,0.01,2.233,0.022,0.095,0.137,0.398,0.1,-0.023,10.5,0.482,0.484,0.714,0.695,0.957,0.747,0.007,0.332,9.5,0.001,0.046,0.141\n",
    "2024-Q3,3,2024,14.9,2.7,0.198,0.019,4143,22774,0.03,0.194,0.012,2.046,0.025,0.098,0.136,0.345,0.1,0.039,10.2,0.525,0.509,0.749,0.725,0.98,0.764,0.009,0.299,9.2,0.004,0.047,0.178\n",
    "\"\"\",\n",
    "    \"TPB.csv\": \"\"\"period,quarter,year,price_to_earning,price_to_book,roe,roa,earning_per_share,book_value_per_share,interest_margin,non_interest_on_toi,bad_debt_percentage,provision_on_bad_debt,cost_of_financing,equity_on_total_asset,equity_on_loan,cost_to_income,equity_on_liability,eps_change,asset_on_equity,pre_provision_on_toi,post_tax_on_toi,loan_on_earn_asset,loan_on_asset,loan_on_deposit,deposit_on_earn_asset,bad_debt_on_asset,liquidity_on_liability,payable_on_equity,cancel_debt,book_value_per_share_change,credit_growth\n",
    "2024-Q4,4,2024,7.0,1.1,0.173,0.016,2298,14230,0.035,0.401,0.015,0.813,0.038,0.09,0.15,0.35,0.1,0.249,11.1,0.519,0.333,0.626,0.599,1.031,0.607,0.009,0.405,10.1,0.016,0.035,0.22\n",
    "2024-Q3,3,2024,9.3,1.3,0.142,0.013,1840,13744,0.04,0.206,0.023,0.588,0.04,0.094,0.155,0.357,0.1,0.025,10.6,0.514,0.346,0.646,0.609,1.044,0.619,0.014,0.382,9.6,0.021,0.02,0.304\n",
    "\"\"\",\n",
    "    \"TCB.csv\": \"\"\"period,quarter,year,price_to_earning,price_to_book,roe,roa,earning_per_share,book_value_per_share,interest_margin,non_interest_on_toi,bad_debt_percentage,provision_on_bad_debt,cost_of_financing,equity_on_total_asset,equity_on_loan,cost_to_income,equity_on_liability,eps_change,asset_on_equity,pre_provision_on_toi,post_tax_on_toi,loan_on_earn_asset,loan_on_asset,loan_on_deposit,deposit_on_earn_asset,bad_debt_on_asset,liquidity_on_liability,payable_on_equity,cancel_debt,book_value_per_share_change,credit_growth\n",
    "2024-Q4,4,2024,8.9,1.3,0.156,0.024,3046,20940,0.042,0.1,0.011,1.139,0.033,0.151,0.234,0.496,0.2,-0.047,6.6,0.367,0.358,0.686,0.645,1.184,0.579,0.007,0.365,5.6,0.004,0.025,0.218\n",
    "2024-Q3,3,2024,7.6,1.2,0.168,0.026,3197,20434,0.044,0.24,0.013,1.035,0.036,0.156,0.231,0.292,0.2,0.052,6.4,0.569,0.493,0.732,0.676,1.265,0.579,0.009,0.312,5.4,0.006,0.042,0.317\n",
    "\"\"\",\n",
    "    \"SSI.csv\": \"\"\"period,quarter,year,price_to_earning,price_to_book,value_before_ebitda,roe,roa,days_receivable,days_payable,earning_per_share,book_value_per_share,equity_on_total_asset,equity_on_liability,current_payment,quick_payment,eps_change,ebitda_on_stock,gross_profit_margin,operating_profit_margin,post_tax_margin,debt_on_equity,debt_on_asset,debt_on_ebitda,short_on_long_debt,asset_on_equity,capital_balance,cash_on_equity,cash_on_capitalize,revenue_on_work_capital,capex_on_fixed_asset,revenue_on_asset,post_tax_on_pre_tax,ebit_on_revenue,pre_tax_on_ebit,payable_on_equity,ebitda_on_stock_change,book_value_per_share_change\n",
    "2024-Q4,4,2024,18.4,2.0,18.0,0.114,0.04,945.0,54,1445,13597.0,0.363,0.6,1.5,1.5,-0.03,2913.0,0.457,0.416,0.193,1.7,0.6,8.8,,2.8,24333,0.009,0.005,0.4,-1.743,0.1,0.8,0.416,0.6,1.7,-0.06,0.113\n",
    "2024-Q3,3,2024,18.7,2.3,17.2,0.126,0.048,909.0,23,1489,12220.0,0.362,0.6,1.5,1.5,0.029,3100.0,0.686,0.656,0.392,1.6,0.6,6.8,,2.8,22303,0.027,0.013,0.4,-0.643,0.1,0.8,0.656,0.7,1.7,-0.068,-0.029\n",
    "\"\"\",\n",
    "    \"STB.csv\": \"\"\"period,quarter,year,price_to_earning,price_to_book,roe,roa,earning_per_share,book_value_per_share,interest_margin,non_interest_on_toi,bad_debt_percentage,provision_on_bad_debt,cost_of_financing,equity_on_total_asset,equity_on_loan,cost_to_income,equity_on_liability,eps_change,asset_on_equity,pre_provision_on_toi,post_tax_on_toi,loan_on_earn_asset,loan_on_asset,loan_on_deposit,deposit_on_earn_asset,bad_debt_on_asset,liquidity_on_liability,payable_on_equity,cancel_debt,book_value_per_share_change,credit_growth\n",
    "2024-Q4,4,2024,7.2,1.3,0.2,0.014,5350,29159,0.036,0.177,0.024,0.684,0.041,0.073,0.102,0.425,0.1,0.153,13.6,0.447,0.486,0.734,0.721,0.951,0.771,0.017,0.288,12.6,0.001,0.072,0.117\n",
    "2024-Q3,3,2024,7.2,1.2,0.184,0.013,4640,27201,0.036,0.121,0.025,0.75,0.045,0.073,0.098,0.454,0.1,0.069,13.7,0.437,0.304,0.764,0.748,0.927,0.824,0.018,0.257,12.7,0.0,0.045,0.113\n",
    "\"\"\",\n",
    "    \"SAB.csv\": \"\"\"period,quarter,year,price_to_earning,price_to_book,value_before_ebitda,roe,roa,days_receivable,days_inventory,days_payable,ebit_on_interest,earning_per_share,book_value_per_share,equity_on_total_asset,equity_on_liability,current_payment,quick_payment,eps_change,ebitda_on_stock,gross_profit_margin,operating_profit_margin,post_tax_margin,debt_on_equity,debt_on_asset,debt_on_ebitda,short_on_long_debt,asset_on_equity,capital_balance,cash_on_equity,cash_on_capitalize,cash_circulation,revenue_on_work_capital,capex_on_fixed_asset,revenue_on_asset,post_tax_on_pre_tax,ebit_on_revenue,pre_tax_on_ebit,payable_on_equity,ebitda_on_stock_change,book_value_per_share_change\n",
    "2024-Q4,4,2024,15.0,2.8,12.3,0.182,0.128,199,35,42,172.1,3376,18152,0.696,2.7,2.9,2.7,0.004,3888,0.28,0.094,0.108,0.0,0.0,0.1,1.4,1.4,16410,0.183,0.069,192,1.8,-0.078,0.9,0.8,0.094,1.5,0.4,-0.261,-0.066\n",
    "2024-Q3,3,2024,16.6,2.9,12.9,0.172,0.131,220,32,26,192.2,3361,19442,0.774,4.4,4.3,3.9,0.018,5262,0.297,0.155,0.146,0.0,0.0,0.1,0.7,1.3,18408,0.207,0.079,225,1.7,-0.071,1.0,0.8,0.155,1.2,0.2,0.056,0.046\n",
    "\"\"\",\n",
    "    \"PLX.csv\": \"\"\"period,quarter,year,price_to_earning,price_to_book,value_before_ebitda,roe,roa,days_receivable,days_payable,earning_per_share,book_value_per_share,equity_on_total_asset,equity_on_liability,current_payment,quick_payment,eps_change,ebitda_on_stock,gross_profit_margin,operating_profit_margin,post_tax_margin,debt_on_equity,debt_on_asset,debt_on_ebitda,short_on_long_debt,asset_on_equity,capital_balance,cash_on_equity,cash_on_capitalize,cash_circulation,revenue_on_work_capital,capex_on_fixed_asset,revenue_on_asset,post_tax_on_pre_tax,ebit_on_revenue,pre_tax_on_ebit,payable_on_equity,ebitda_on_stock_change,book_value_per_share_change\n",
    "2024-Q4,4,2024,18.2,2.0,12.0,0.111,0.036,11,21,32,7.0,2274,20475,0.32,0.6,1.3,1.2,-0.067,6710,0.051,,0.001,2.6,0.4,10.3,0.5,5.9,8536,0.269,0.086,-12,15.0,-0.925,0.8,0.2,,-0.8,4.9,0.541,0.013\n",
    "2024-Q3,3,2024,18.9,2.2,11.5,0.118,0.039,11,23,32,-0.9,2349,20031,0.363,0.7,1.2,0.9,-0.4,4354,0.121,0.084,0.031,2.3,0.4,12.9,0.9,5.6,4547,0.123,0.038,-17,16.0,-1.349,0.8,0.8,0.084,0.5,4.6,0.906,0.013\n",
    "\"\"\",\n",
    "    \"SHB.csv\": \"\"\"period,quarter,year,price_to_earning,price_to_book,roe,roa,earning_per_share,book_value_per_share,interest_margin,non_interest_on_toi,bad_debt_percentage,provision_on_bad_debt,cost_of_financing,equity_on_total_asset,equity_on_loan,cost_to_income,equity_on_liability,eps_change,asset_on_equity,pre_provision_on_toi,post_tax_on_toi,loan_on_earn_asset,loan_on_asset,loan_on_deposit,deposit_on_earn_asset,bad_debt_on_asset,liquidity_on_liability,payable_on_equity,cancel_debt,book_value_per_share_change,credit_growth\n",
    "2024-Q4,4,2024,5.1,0.8,0.171,0.013,2267,14230,0.033,0.119,0.026,0.651,0.047,0.077,0.111,0.242,0.1,0.18,12.9,0.602,0.211,0.75,0.696,1.04,0.721,0.018,0.267,11.9,0.014,0.038,0.186\n",
    "2024-Q3,3,2024,5.2,0.7,0.148,0.012,1922,13714,0.03,0.153,0.031,0.621,0.055,0.081,0.116,0.301,0.1,-0.039,12.3,0.559,0.452,0.744,0.699,1.019,0.729,0.022,0.28,11.3,0.009,-0.006,0.144\n",
    "\"\"\",\n",
    "    \"MWG.csv\": \"\"\"period,quarter,year,price_to_earning,price_to_book,value_before_ebitda,roe,roa,days_receivable,days_inventory,days_payable,ebit_on_interest,earning_per_share,book_value_per_share,equity_on_total_asset,equity_on_liability,current_payment,quick_payment,eps_change,ebitda_on_stock,gross_profit_margin,operating_profit_margin,post_tax_margin,debt_on_equity,debt_on_asset,debt_on_ebitda,short_on_long_debt,asset_on_equity,capital_balance,cash_on_equity,cash_on_capitalize,cash_circulation,revenue_on_work_capital,capex_on_fixed_asset,revenue_on_asset,post_tax_on_pre_tax,ebit_on_revenue,pre_tax_on_ebit,payable_on_equity,ebitda_on_stock_change,book_value_per_share_change\n",
    "2024-Q4,4,2024,23.4,3.1,14.5,0.146,0.057,61,75,29,1.7,2546,18992,0.395,0.7,1.6,1.0,0.255,4783,0.191,0.016,0.024,1.0,0.4,3.7,,2.5,23677,0.062,0.017,132,3.3,-0.06,2.1,0.8,0.016,1.9,1.5,0.056,0.031\n",
    "2024-Q3,3,2024,33.6,3.7,15.5,0.118,0.047,67,78,34,3.5,2028,18416,0.402,0.7,1.8,1.2,0.346,4528,0.202,0.031,0.023,0.9,0.4,3.5,2.9,2.5,27604,0.358,0.111,111,5.5,-0.027,2.1,0.7,0.031,1.0,1.5,0.129,0.03\n",
    "\"\"\",\n",
    "    \"MBB.csv\": \"\"\"period,quarter,year,price_to_earning,price_to_book,roe,roa,earning_per_share,book_value_per_share,interest_margin,non_interest_on_toi,bad_debt_percentage,provision_on_bad_debt,cost_of_financing,equity_on_total_asset,equity_on_loan,cost_to_income,equity_on_liability,eps_change,asset_on_equity,pre_provision_on_toi,post_tax_on_toi,loan_on_earn_asset,loan_on_asset,loan_on_deposit,deposit_on_earn_asset,bad_debt_on_asset,liquidity_on_liability,payable_on_equity,cancel_debt,book_value_per_share_change,credit_growth\n",
    "2024-Q4,4,2024,6.4,1.2,0.221,0.022,3709,19182,0.041,0.327,0.016,0.922,0.032,0.104,0.151,0.317,0.1,0.061,9.6,0.539,0.385,0.713,0.688,1.088,0.655,0.011,0.324,8.6,0.014,0.064,0.271\n",
    "2024-Q3,3,2024,6.4,1.2,0.22,0.023,3496,18029,0.044,0.18,0.022,0.688,0.037,0.107,0.157,0.296,0.1,0.001,9.4,0.563,0.46,0.708,0.682,1.119,0.633,0.015,0.331,8.4,0.015,0.056,0.309\n",
    "\"\"\",\n",
    "    \"GAS.csv\": \"\"\"period,quarter,year,price_to_earning,price_to_book,value_before_ebitda,roe,roa,days_receivable,days_payable,earning_per_share,book_value_per_share,equity_on_total_asset,equity_on_liability,current_payment,quick_payment,eps_change,ebitda_on_stock,gross_profit_margin,operating_profit_margin,post_tax_margin,debt_on_equity,debt_on_asset,debt_on_ebitda,short_on_long_debt,asset_on_equity,capital_balance,cash_on_equity,cash_on_capitalize,cash_circulation,revenue_on_work_capital,capex_on_fixed_asset,revenue_on_asset,post_tax_on_pre_tax,ebit_on_revenue,pre_tax_on_ebit,payable_on_equity,ebitda_on_stock_change,book_value_per_share_change\n",
    "2024-Q4,4,2024,15.5,2.7,10.4,0.167,0.123,159,18,28,39.8,4438,25717,0.736,3.0,3.9,3.6,-0.061,6367,0.162,0.091,0.082,0.1,0.0,0.3,0.4,1.4,42715,0.09,0.035,149,2.3,-0.102,1.2,0.8,0.091,1.1,0.3,-0.132,0.034\n",
    "2024-Q3,3,2024,15.5,2.9,9.7,0.185,0.126,156,10,21,41.6,4728,24864,0.634,1.9,2.6,2.5,0.013,7339,0.166,0.114,0.1,0.1,0.0,0.3,0.3,1.6,41191,0.203,0.076,146,2.3,-0.106,1.1,0.8,0.114,1.1,0.5,0.005,-0.163\n",
    "\"\"\",\n",
    "    \"CTG.csv\": \"\"\"period,quarter,year,price_to_earning,price_to_book,roe,roa,earning_per_share,book_value_per_share,interest_margin,non_interest_on_toi,bad_debt_percentage,provision_on_bad_debt,cost_of_financing,equity_on_total_asset,equity_on_loan,cost_to_income,equity_on_liability,eps_change,asset_on_equity,pre_provision_on_toi,post_tax_on_toi,loan_on_earn_asset,loan_on_asset,loan_on_deposit,deposit_on_earn_asset,bad_debt_on_asset,liquidity_on_liability,payable_on_equity,cancel_debt,book_value_per_share_change,credit_growth\n",
    "2024-Q4,4,2024,8.8,1.5,0.185,0.011,4720,27654,0.029,0.234,0.012,1.747,0.031,0.062,0.086,0.309,0.1,0.17,16.1,0.557,0.464,0.743,0.722,1.072,0.693,0.009,0.289,15.1,0.012,0.053,0.169\n",
    "2024-Q3,3,2024,9.2,1.4,0.166,0.011,4035,26254,0.03,0.289,0.014,1.53,0.034,0.063,0.088,0.278,0.1,0.067,15.8,0.572,0.237,0.743,0.72,1.058,0.702,0.01,0.289,14.8,0.018,0.037,0.158\n",
    "\"\"\",\n",
    "    \"BVH.csv\": \"\"\"period,quarter,year,price_to_earning,price_to_book,value_before_ebitda,roe,roa,days_payable,earning_per_share,book_value_per_share,equity_on_total_asset,equity_on_liability,current_payment,quick_payment,eps_change,ebitda_on_stock,debt_on_equity,debt_on_asset,debt_on_ebitda,short_on_long_debt,asset_on_equity,capital_balance,cash_on_equity,cash_on_capitalize,revenue_on_work_capital,capex_on_fixed_asset,revenue_on_asset,post_tax_on_pre_tax,pre_tax_on_ebit,payable_on_equity,ebitda_on_stock_change,book_value_per_share_change\n",
    "2024-Q4,4,2024,19.0,1.8,-5.9,0.095,0.009,-67294,2810,30370.0,0.09,0.1,3.0,3.0,0.093,-9120.0,0.1,0.0,-0.5,,11.1,80325,0.062,0.037,0.0,-0.072,0.0,0.8,-0.3,9.7,0.091,-0.01\n",
    "2024-Q3,3,2024,16.3,1.4,-6.1,0.086,0.008,-21669,2571,30673.0,0.096,0.1,3.5,3.5,0.057,-8356.0,0.1,0.0,-0.3,6284.6,10.5,79293,0.105,0.066,0.0,-0.055,0.0,0.8,-0.4,9.0,0.041,0.022\n",
    "\"\"\",\n",
    "    \"HPG.csv\": \"\"\"period,quarter,year,price_to_earning,price_to_book,value_before_ebitda,roe,roa,days_receivable,days_inventory,days_payable,ebit_on_interest,earning_per_share,book_value_per_share,equity_on_total_asset,equity_on_liability,current_payment,quick_payment,eps_change,ebitda_on_stock,gross_profit_margin,operating_profit_margin,post_tax_margin,debt_on_equity,debt_on_asset,debt_on_ebitda,short_on_long_debt,asset_on_equity,capital_balance,cash_on_equity,cash_on_capitalize,cash_circulation,revenue_on_work_capital,capex_on_fixed_asset,revenue_on_asset,post_tax_on_pre_tax,ebit_on_revenue,pre_tax_on_ebit,payable_on_equity,ebitda_on_stock_change,book_value_per_share_change\n",
    "2024-Q4,4,2024,14.5,1.5,11.3,0.111,0.058,30,123,37.0,6.4,1879,17878,0.509,1.0,1.2,0.5,-0.014,3536,0.127,0.105,0.081,0.7,0.4,3.4,2.1,2.0,11575,0.06,0.04,116.0,12.2,-0.509,0.7,0.9,0.105,0.9,1.0,-0.004,0.025\n",
    "2024-Q3,3,2024,13.8,1.5,11.1,0.115,0.063,34,112,30.0,7.0,1905,17446,0.528,1.1,1.2,0.6,0.091,3550,0.139,0.109,0.089,0.7,0.4,3.2,2.2,1.9,11847,0.076,0.05,117.0,10.6,-0.504,0.7,0.9,0.109,0.9,0.9,0.05,0.028\n",
    "\"\"\"\n",
    "}\n",
    "\n",
    "# Đọc từng file CSV vào DataFrame\n",
    "dfs = {}\n",
    "for name, content in file_contents.items():\n",
    "    dfs[name] = pd.read_csv(io.StringIO(content))\n",
    "\n",
    "# Lấy DataFrame đầu tiên làm bảng trái\n",
    "merged_df_left = dfs[\"VPB.csv\"].copy()\n",
    "\n",
    "# Lặp qua các DataFrame còn lại và thực hiện left join\n",
    "for name, df in dfs.items():\n",
    "    if name != \"VPB.csv\":\n",
    "        merged_df_left = pd.merge(merged_df_left, df, on=['period'], how='left')\n",
    "\n",
    "# In ra head của DataFrame kết quả\n",
    "print(merged_df_left.head(10))\n",
    "\n",
    "# Xuất DataFrame kết quả ra CSV (tùy chọn)\n",
    "# merged_df_left.to_csv(\"merged_data_left_join.csv\", index=False)"
   ]
  },
  {
   "cell_type": "code",
   "execution_count": 12,
   "metadata": {},
   "outputs": [
    {
     "name": "stdout",
     "output_type": "stream",
     "text": [
      "✅ Gộp dữ liệu hoàn tất! File lưu thành 'merged_data.csv'\n"
     ]
    }
   ],
   "source": [
    "import pandas as pd\n",
    "\n",
    "# Danh sách file cụ thể\n",
    "file_paths = [\n",
    "    \"ACB.csv\", \"BCM.csv\", \"BID.csv\", \"BVH.csv\", \"CTG.csv\", \"FPT.csv\", \"GAS.csv\", \"GVR.csv\", \"HDB.csv\", \"HPG.csv\",\n",
    "    \"LPB.csv\", \"MBB.csv\", \"MSN.csv\", \"MWG.csv\", \"PLX.csv\", \"SAB.csv\", \"SHB.csv\", \"SSB.csv\", \"SSI.csv\", \"STB.csv\",\n",
    "    \"TCB.csv\", \"TPB.csv\", \"VCB.csv\", \"VHM.csv\", \"VIB.csv\", \"VIC.csv\", \"VJC.csv\", \"VNM.csv\", \"VPB.csv\", \"VRE.csv\"\n",
    "]\n",
    "\n",
    "# Chỉ giữ lại các cột cần thiết\n",
    "columns_needed = ['period', 'quarter', 'year', 'price_to_earning', 'price_to_book', 'roe', 'earning_per_share']\n",
    "\n",
    "# Đọc và gộp dữ liệu\n",
    "df_list = []\n",
    "for file in file_paths:\n",
    "    try:\n",
    "        df = pd.read_csv(file)[columns_needed]  # Chỉ lấy các cột cần thiết\n",
    "        df[\"company\"] = file.replace(\".csv\", \"\")  # Thêm cột tên công ty\n",
    "        df_list.append(df)\n",
    "    except Exception as e:\n",
    "        print(f\"Lỗi khi đọc file {file}: {e}\")\n",
    "\n",
    "df_combined = pd.concat(df_list, ignore_index=True)\n",
    "\n",
    "# Lưu file kết quả\n",
    "df_combined.to_csv(\"merged_data.csv\", index=False)\n",
    "\n",
    "print(\"✅ Gộp dữ liệu hoàn tất! File lưu thành 'merged_data.csv'\")\n"
   ]
  },
  {
   "cell_type": "markdown",
   "metadata": {},
   "source": [
    "## 1.1. Giả thuyết 1\n",
    "\n",
    "### Kiểm định ANOVA: P/E trung bình có khác biệt giữa các khu vực (Region)?\n",
    "- $\\mathcal{H}_0$ (Giả thuyết không): Không có sự khác biệt đáng kể về doanh thu trung bình giữa các khu vực.\n",
    "- $\\mathcal{H}_1$ (Giả thuyết đối): Ít nhất một khu vực có doanh thu trung bình khác biệt đáng kể."
   ]
  },
  {
   "cell_type": "code",
   "execution_count": 16,
   "metadata": {},
   "outputs": [
    {
     "ename": "TypeError",
     "evalue": "At least two samples are required; got 1.",
     "output_type": "error",
     "traceback": [
      "\u001b[1;31m---------------------------------------------------------------------------\u001b[0m",
      "\u001b[1;31mTypeError\u001b[0m                                 Traceback (most recent call last)",
      "\u001b[1;32m~\\AppData\\Local\\Temp\\ipykernel_13504\\1221229161.py\u001b[0m in \u001b[0;36m?\u001b[1;34m()\u001b[0m\n\u001b[0;32m     10\u001b[0m \u001b[1;32mfor\u001b[0m \u001b[0mcriterion\u001b[0m \u001b[1;32min\u001b[0m \u001b[0mcriteria\u001b[0m\u001b[1;33m:\u001b[0m\u001b[1;33m\u001b[0m\u001b[1;33m\u001b[0m\u001b[0m\n\u001b[0;32m     11\u001b[0m     \u001b[0mgroups\u001b[0m \u001b[1;33m=\u001b[0m \u001b[1;33m[\u001b[0m\u001b[0mdf\u001b[0m\u001b[1;33m[\u001b[0m\u001b[0mdf\u001b[0m\u001b[1;33m[\u001b[0m\u001b[1;34m'company'\u001b[0m\u001b[1;33m]\u001b[0m \u001b[1;33m==\u001b[0m \u001b[0mcompany\u001b[0m\u001b[1;33m]\u001b[0m\u001b[1;33m[\u001b[0m\u001b[0mcriterion\u001b[0m\u001b[1;33m]\u001b[0m\u001b[1;33m.\u001b[0m\u001b[0mdropna\u001b[0m\u001b[1;33m(\u001b[0m\u001b[1;33m)\u001b[0m \u001b[1;32mfor\u001b[0m \u001b[0mcompany\u001b[0m \u001b[1;32min\u001b[0m \u001b[0mdf\u001b[0m\u001b[1;33m[\u001b[0m\u001b[1;34m'company'\u001b[0m\u001b[1;33m]\u001b[0m\u001b[1;33m.\u001b[0m\u001b[0munique\u001b[0m\u001b[1;33m(\u001b[0m\u001b[1;33m)\u001b[0m\u001b[1;33m]\u001b[0m\u001b[1;33m\u001b[0m\u001b[1;33m\u001b[0m\u001b[0m\n\u001b[0;32m     12\u001b[0m \u001b[1;33m\u001b[0m\u001b[0m\n\u001b[0;32m     13\u001b[0m     \u001b[1;31m# Kiểm định ANOVA\u001b[0m\u001b[1;33m\u001b[0m\u001b[1;33m\u001b[0m\u001b[0m\n\u001b[1;32m---> 14\u001b[1;33m     \u001b[0mp_value\u001b[0m \u001b[1;33m=\u001b[0m \u001b[0mstats\u001b[0m\u001b[1;33m.\u001b[0m\u001b[0mf_oneway\u001b[0m\u001b[1;33m(\u001b[0m\u001b[1;33m*\u001b[0m\u001b[0mgroups\u001b[0m\u001b[1;33m)\u001b[0m\u001b[1;33m\u001b[0m\u001b[1;33m\u001b[0m\u001b[0m\n\u001b[0m\u001b[0;32m     15\u001b[0m \u001b[1;33m\u001b[0m\u001b[0m\n\u001b[0;32m     16\u001b[0m \u001b[1;33m\u001b[0m\u001b[0m\n\u001b[0;32m     17\u001b[0m \u001b[1;33m\u001b[0m\u001b[0m\n",
      "\u001b[1;32m~\\AppData\\Local\\Packages\\PythonSoftwareFoundation.Python.3.11_qbz5n2kfra8p0\\LocalCache\\local-packages\\Python311\\site-packages\\scipy\\stats\\_axis_nan_policy.py\u001b[0m in \u001b[0;36m?\u001b[1;34m(***failed resolving arguments***)\u001b[0m\n\u001b[0;32m    563\u001b[0m \u001b[1;33m\u001b[0m\u001b[0m\n\u001b[0;32m    564\u001b[0m                 \u001b[1;32mif\u001b[0m \u001b[0msentinel\u001b[0m\u001b[1;33m:\u001b[0m\u001b[1;33m\u001b[0m\u001b[1;33m\u001b[0m\u001b[0m\n\u001b[0;32m    565\u001b[0m                     \u001b[0msamples\u001b[0m \u001b[1;33m=\u001b[0m \u001b[0m_remove_sentinel\u001b[0m\u001b[1;33m(\u001b[0m\u001b[0msamples\u001b[0m\u001b[1;33m,\u001b[0m \u001b[0mpaired\u001b[0m\u001b[1;33m,\u001b[0m \u001b[0msentinel\u001b[0m\u001b[1;33m)\u001b[0m\u001b[1;33m\u001b[0m\u001b[1;33m\u001b[0m\u001b[0m\n\u001b[0;32m    566\u001b[0m \u001b[1;33m\u001b[0m\u001b[0m\n\u001b[1;32m--> 567\u001b[1;33m                 \u001b[1;32mif\u001b[0m \u001b[0mis_too_small\u001b[0m\u001b[1;33m(\u001b[0m\u001b[0msamples\u001b[0m\u001b[1;33m,\u001b[0m \u001b[0mkwds\u001b[0m\u001b[1;33m)\u001b[0m\u001b[1;33m:\u001b[0m\u001b[1;33m\u001b[0m\u001b[1;33m\u001b[0m\u001b[0m\n\u001b[0m\u001b[0;32m    568\u001b[0m                     \u001b[0mwarnings\u001b[0m\u001b[1;33m.\u001b[0m\u001b[0mwarn\u001b[0m\u001b[1;33m(\u001b[0m\u001b[0mtoo_small_msg\u001b[0m\u001b[1;33m,\u001b[0m \u001b[0mSmallSampleWarning\u001b[0m\u001b[1;33m,\u001b[0m \u001b[0mstacklevel\u001b[0m\u001b[1;33m=\u001b[0m\u001b[1;36m2\u001b[0m\u001b[1;33m)\u001b[0m\u001b[1;33m\u001b[0m\u001b[1;33m\u001b[0m\u001b[0m\n\u001b[0;32m    569\u001b[0m                     \u001b[0mres\u001b[0m \u001b[1;33m=\u001b[0m \u001b[0mnp\u001b[0m\u001b[1;33m.\u001b[0m\u001b[0mfull\u001b[0m\u001b[1;33m(\u001b[0m\u001b[0mn_out\u001b[0m\u001b[1;33m,\u001b[0m \u001b[0mNaN\u001b[0m\u001b[1;33m)\u001b[0m\u001b[1;33m\u001b[0m\u001b[1;33m\u001b[0m\u001b[0m\n\u001b[0;32m    570\u001b[0m                     \u001b[0mres\u001b[0m \u001b[1;33m=\u001b[0m \u001b[0m_add_reduced_axes\u001b[0m\u001b[1;33m(\u001b[0m\u001b[0mres\u001b[0m\u001b[1;33m,\u001b[0m \u001b[0mreduced_axes\u001b[0m\u001b[1;33m,\u001b[0m \u001b[0mkeepdims\u001b[0m\u001b[1;33m)\u001b[0m\u001b[1;33m\u001b[0m\u001b[1;33m\u001b[0m\u001b[0m\n",
      "\u001b[1;32m~\\AppData\\Local\\Packages\\PythonSoftwareFoundation.Python.3.11_qbz5n2kfra8p0\\LocalCache\\local-packages\\Python311\\site-packages\\scipy\\stats\\_stats_py.py\u001b[0m in \u001b[0;36m?\u001b[1;34m(samples, kwargs, axis)\u001b[0m\n\u001b[0;32m   3975\u001b[0m \u001b[1;32mdef\u001b[0m \u001b[0m_f_oneway_is_too_small\u001b[0m\u001b[1;33m(\u001b[0m\u001b[0msamples\u001b[0m\u001b[1;33m,\u001b[0m \u001b[0mkwargs\u001b[0m\u001b[1;33m=\u001b[0m\u001b[1;33m{\u001b[0m\u001b[1;33m}\u001b[0m\u001b[1;33m,\u001b[0m \u001b[0maxis\u001b[0m\u001b[1;33m=\u001b[0m\u001b[1;33m-\u001b[0m\u001b[1;36m1\u001b[0m\u001b[1;33m)\u001b[0m\u001b[1;33m:\u001b[0m\u001b[1;33m\u001b[0m\u001b[1;33m\u001b[0m\u001b[0m\n\u001b[0;32m   3976\u001b[0m     \u001b[0mmessage\u001b[0m \u001b[1;33m=\u001b[0m \u001b[1;34mf\"At least two samples are required; got {len(samples)}.\"\u001b[0m\u001b[1;33m\u001b[0m\u001b[1;33m\u001b[0m\u001b[0m\n\u001b[0;32m   3977\u001b[0m     \u001b[1;32mif\u001b[0m \u001b[0mlen\u001b[0m\u001b[1;33m(\u001b[0m\u001b[0msamples\u001b[0m\u001b[1;33m)\u001b[0m \u001b[1;33m<\u001b[0m \u001b[1;36m2\u001b[0m\u001b[1;33m:\u001b[0m\u001b[1;33m\u001b[0m\u001b[1;33m\u001b[0m\u001b[0m\n\u001b[1;32m-> 3978\u001b[1;33m         \u001b[1;32mraise\u001b[0m \u001b[0mTypeError\u001b[0m\u001b[1;33m(\u001b[0m\u001b[0mmessage\u001b[0m\u001b[1;33m)\u001b[0m\u001b[1;33m\u001b[0m\u001b[1;33m\u001b[0m\u001b[0m\n\u001b[0m\u001b[0;32m   3979\u001b[0m \u001b[1;33m\u001b[0m\u001b[0m\n\u001b[0;32m   3980\u001b[0m     \u001b[1;31m# Check this after forming alldata, so shape errors are detected\u001b[0m\u001b[1;33m\u001b[0m\u001b[1;33m\u001b[0m\u001b[0m\n\u001b[0;32m   3981\u001b[0m     \u001b[1;31m# and reported before checking for 0 length inputs.\u001b[0m\u001b[1;33m\u001b[0m\u001b[1;33m\u001b[0m\u001b[0m\n",
      "\u001b[1;31mTypeError\u001b[0m: At least two samples are required; got 1."
     ]
    }
   ],
   "source": [
    "import scipy.stats as stats\n",
    "\n",
    "df = df.dropna(subset=['price_to_earning', 'price_to_book', 'roe', 'earning_per_share'])\n",
    "\n",
    "\n",
    "# Danh sách tiêu chí cần kiểm định\n",
    "criteria = ['price_to_earning', 'price_to_book', 'roe', 'earning_per_share']\n",
    "\n",
    "# Thực hiện kiểm định ANOVA cho từng tiêu chí\n",
    "for criterion in criteria:\n",
    "    groups = [df[df['company'] == company][criterion].dropna() for company in df['company'].unique()]\n",
    "    \n",
    "    # Kiểm định ANOVA\n",
    "    p_value = stats.f_oneway(*groups)\n",
    "    \n",
    "    \n",
    "\n",
    "    # Kiểm tra ý nghĩa thống kê\n",
    "    if p_value < 0.05:\n",
    "        print(f\"  → Có sự khác biệt đáng kể về {criterion} giữa các công ty (p < 0.05)\\n\")\n",
    "    else:\n",
    "        print(f\"  → Không có sự khác biệt đáng kể về {criterion} giữa các công ty (p >= 0.05)\\n\")\n"
   ]
  },
  {
   "cell_type": "code",
   "execution_count": 15,
   "metadata": {},
   "outputs": [
    {
     "name": "stdout",
     "output_type": "stream",
     "text": [
      "company\n",
      "VRE    26\n",
      "Name: count, dtype: int64\n"
     ]
    }
   ],
   "source": [
    "company_counts = df['company'].value_counts()\n",
    "print(company_counts)"
   ]
  },
  {
   "cell_type": "code",
   "execution_count": 17,
   "metadata": {},
   "outputs": [],
   "source": [
    "# Chỉ giữ lại các công ty có ít nhất 2 dòng dữ liệu\n",
    "valid_companies = company_counts[company_counts >= 2].index\n",
    "df_filtered = df[df['company'].isin(valid_companies)]\n"
   ]
  },
  {
   "cell_type": "code",
   "execution_count": 18,
   "metadata": {},
   "outputs": [
    {
     "name": "stdout",
     "output_type": "stream",
     "text": [
      "⚠️ Không đủ dữ liệu để thực hiện ANOVA cho price_to_earning (cần ít nhất 2 nhóm có từ 2 mẫu trở lên)\n",
      "\n",
      "⚠️ Không đủ dữ liệu để thực hiện ANOVA cho price_to_book (cần ít nhất 2 nhóm có từ 2 mẫu trở lên)\n",
      "\n",
      "⚠️ Không đủ dữ liệu để thực hiện ANOVA cho roe (cần ít nhất 2 nhóm có từ 2 mẫu trở lên)\n",
      "\n",
      "⚠️ Không đủ dữ liệu để thực hiện ANOVA cho earning_per_share (cần ít nhất 2 nhóm có từ 2 mẫu trở lên)\n",
      "\n"
     ]
    }
   ],
   "source": [
    "import scipy.stats as stats\n",
    "\n",
    "# Danh sách tiêu chí cần kiểm định\n",
    "criteria = ['price_to_earning', 'price_to_book', 'roe', 'earning_per_share']\n",
    "\n",
    "for criterion in criteria:\n",
    "    # Tạo danh sách nhóm dữ liệu hợp lệ\n",
    "    groups = [df_filtered[df_filtered['company'] == company][criterion].dropna() \n",
    "              for company in df_filtered['company'].unique()]\n",
    "    \n",
    "    # Kiểm tra xem có ít nhất 2 nhóm hợp lệ không\n",
    "    if len(groups) < 2 or any(len(group) < 2 for group in groups):\n",
    "        print(f\"⚠️ Không đủ dữ liệu để thực hiện ANOVA cho {criterion} (cần ít nhất 2 nhóm có từ 2 mẫu trở lên)\\n\")\n",
    "        continue\n",
    "\n",
    "    # Kiểm định ANOVA\n",
    "    stat, p_value = stats.f_oneway(*groups)\n",
    "    \n",
    "    print(f\"🔹 ANOVA cho {criterion}: F-statistic = {stat:.4f}, p-value = {p_value:.4f}\")\n",
    "\n",
    "    # Kiểm tra ý nghĩa thống kê\n",
    "    if p_value < 0.05:\n",
    "        print(f\"  → Có sự khác biệt đáng kể về {criterion} giữa các công ty (p < 0.05)\\n\")\n",
    "    else:\n",
    "        print(f\"  → Không có sự khác biệt đáng kể về {criterion} giữa các công ty (p >= 0.05)\\n\")\n"
   ]
  },
  {
   "cell_type": "markdown",
   "metadata": {},
   "source": [
    "## 1.2. Giả thuyết 2\n",
    "\n",
    "###  T-Test: Các tiêu chí trung bình trước và sau năm 2020 có khác biệt đáng kể?\n",
    "- $\\mathcal{H}_0$: Không có sự khác biệt đáng kể về các tiêu chí trung bình trước và sau năm 2020.\n",
    "- $\\mathcal{H}_1$: Có sự khác biệt đáng kể về doanh thu trung bình giữa hai giai đoạn."
   ]
  },
  {
   "cell_type": "code",
   "execution_count": 55,
   "metadata": {},
   "outputs": [
    {
     "name": "stdout",
     "output_type": "stream",
     "text": [
      "🔹 Kiểm định T-Test cho price_to_earning:\n",
      "   - T-Statistic: -2.0929\n",
      "   - P-Value: 0.0366\n",
      "   ✅ Có sự khác biệt có ý nghĩa thống kê giữa trước và sau 2020.\n",
      "--------------------------------------------------\n",
      "🔹 Kiểm định T-Test cho price_to_book:\n",
      "   - T-Statistic: 4.0618\n",
      "   - P-Value: 0.0001\n",
      "   ✅ Có sự khác biệt có ý nghĩa thống kê giữa trước và sau 2020.\n",
      "--------------------------------------------------\n",
      "🔹 Kiểm định T-Test cho roe:\n",
      "   - T-Statistic: 3.4436\n",
      "   - P-Value: 0.0006\n",
      "   ✅ Có sự khác biệt có ý nghĩa thống kê giữa trước và sau 2020.\n",
      "--------------------------------------------------\n",
      "🔹 Kiểm định T-Test cho earning_per_share:\n",
      "   - T-Statistic: -3.4525\n",
      "   - P-Value: 0.0006\n",
      "   ✅ Có sự khác biệt có ý nghĩa thống kê giữa trước và sau 2020.\n",
      "--------------------------------------------------\n"
     ]
    }
   ],
   "source": [
    "import pandas as pd\n",
    "from scipy.stats import ttest_ind\n",
    "\n",
    "\n",
    "# Chuyển đổi kiểu dữ liệu của cột 'year' (nếu chưa phải số)\n",
    "df_combined['year'] = pd.to_numeric(df_combined['year'], errors='coerce')\n",
    "\n",
    "# Tách dữ liệu thành hai nhóm\n",
    "df_before_2020 = df_combined[df_combined['year'] < 2020]\n",
    "df_after_2020 = df_combined[df_combined['year'] >= 2020]\n",
    "\n",
    "# Danh sách các tiêu chí cần kiểm định\n",
    "criteria = ['price_to_earning', 'price_to_book', 'roe', 'earning_per_share']\n",
    "\n",
    "# Thực hiện T-Test cho từng tiêu chí\n",
    "t_test_results = {}\n",
    "for crit in criteria:\n",
    "    t_stat, p_value = ttest_ind(df_before_2020[crit].dropna(), df_after_2020[crit].dropna(), equal_var=False)\n",
    "    t_test_results[crit] = {'T-Statistic': t_stat, 'P-Value': p_value}\n",
    "\n",
    "# Hiển thị kết quả\n",
    "for crit, result in t_test_results.items():\n",
    "    print(f\"🔹 Kiểm định T-Test cho {crit}:\")\n",
    "    print(f\"   - T-Statistic: {result['T-Statistic']:.4f}\")\n",
    "    print(f\"   - P-Value: {result['P-Value']:.4f}\")\n",
    "    if result['P-Value'] < 0.05:\n",
    "        print(\"   ✅ Có sự khác biệt có ý nghĩa thống kê giữa trước và sau 2020.\")\n",
    "    else:\n",
    "        print(\"   ❌ Không có sự khác biệt đáng kể giữa trước và sau 2020.\")\n",
    "    print(\"-\" * 50)\n"
   ]
  },
  {
   "cell_type": "markdown",
   "metadata": {},
   "source": [
    "## 1.2. Giả thuyết 2\n",
    "\n",
    "###  T-Test: Các tiêu chí trung bình giữa nhóm ngành ngân hàng và bất động sản có khác biệt đáng kể?\n",
    "- $\\mathcal{H}_0$: Không có sự khác biệt đáng kể giữa nhóm ngành ngân hàng và bất động sản.\n",
    "- $\\mathcal{H}_1$: Có sự khác biệt đáng kể về doanh thu trung bình giữa hai giai đoạn."
   ]
  },
  {
   "cell_type": "code",
   "execution_count": 58,
   "metadata": {},
   "outputs": [
    {
     "name": "stdout",
     "output_type": "stream",
     "text": [
      "🔹 Tiêu chí: price_to_earning\n",
      "   - T-statistic: -2.7742\n",
      "   - P-value: 0.0064\n",
      "   ✅ Kết luận: Có sự khác biệt có ý nghĩa thống kê giữa hai nhóm\n",
      "\n",
      "🔹 Tiêu chí: price_to_book\n",
      "   - T-statistic: -9.0976\n",
      "   - P-value: 0.0000\n",
      "   ✅ Kết luận: Có sự khác biệt có ý nghĩa thống kê giữa hai nhóm\n",
      "\n",
      "🔹 Tiêu chí: roe\n",
      "   - T-statistic: 3.7414\n",
      "   - P-value: 0.0003\n",
      "   ✅ Kết luận: Có sự khác biệt có ý nghĩa thống kê giữa hai nhóm\n",
      "\n",
      "🔹 Tiêu chí: earning_per_share\n",
      "   - T-statistic: -2.4577\n",
      "   - P-value: 0.0154\n",
      "   ✅ Kết luận: Có sự khác biệt có ý nghĩa thống kê giữa hai nhóm\n",
      "\n"
     ]
    }
   ],
   "source": [
    "import pandas as pd\n",
    "from scipy.stats import ttest_ind\n",
    "\n",
    "\n",
    "# Xác định nhóm công ty\n",
    "banking_companies = [\"ACB\", \"BID\", \"CTG\", \"HDB\", \"LPB\", \"MBB\", \"SHB\", \"SSB\", \"STB\", \"TCB\", \"TPB\", \"VCB\", \"VIB\", \"VPB\"]\n",
    "real_estate_companies = [\"BCM\", \"VHM\", \"VIC\", \"VRE\"]\n",
    "\n",
    "# Lọc dữ liệu theo từng nhóm\n",
    "df_banking = df_combined[df_combined[\"company\"].isin(banking_companies)]\n",
    "df_real_estate = df_combined[df_combined[\"company\"].isin(real_estate_companies)]\n",
    "\n",
    "# Các tiêu chí cần kiểm định\n",
    "criteria = [\"price_to_earning\", \"price_to_book\", \"roe\", \"earning_per_share\"]\n",
    "\n",
    "# Tiến hành kiểm định T-test cho từng tiêu chí\n",
    "results = {}\n",
    "for criterion in criteria:\n",
    "    t_stat, p_value = ttest_ind(df_banking[criterion].dropna(), df_real_estate[criterion].dropna(), equal_var=False)\n",
    "    results[criterion] = {\"t-statistic\": t_stat, \"p-value\": p_value}\n",
    "\n",
    "# Hiển thị kết quả\n",
    "for criterion, res in results.items():\n",
    "    print(f\"🔹 Tiêu chí: {criterion}\")\n",
    "    print(f\"   - T-statistic: {res['t-statistic']:.4f}\")\n",
    "    print(f\"   - P-value: {res['p-value']:.4f}\")\n",
    "    if res[\"p-value\"] < 0.05:\n",
    "        print(\"   ✅ Kết luận: Có sự khác biệt có ý nghĩa thống kê giữa hai nhóm\\n\")\n",
    "    else:\n",
    "        print(\"   ❌ Kết luận: Không có sự khác biệt đáng kể giữa hai nhóm\\n\")\n"
   ]
  },
  {
   "cell_type": "code",
   "execution_count": 49,
   "metadata": {},
   "outputs": [
    {
     "name": "stdout",
     "output_type": "stream",
     "text": [
      "Index(['period', 'quarter', 'year', 'price_to_earning', 'price_to_book', 'roe',\n",
      "       'earning_per_share', 'company'],\n",
      "      dtype='object')\n"
     ]
    }
   ],
   "source": [
    "print(df_combined.columns)  # Kiểm tra các cột có trong DataFrame\n"
   ]
  },
  {
   "cell_type": "code",
   "execution_count": 46,
   "metadata": {},
   "outputs": [
    {
     "name": "stdout",
     "output_type": "stream",
     "text": [
      "📌 Kết quả kiểm định T-Test giữa 2 quý đầu và 2 quý sau:\n",
      "\n",
      "🔹 price_to_earning:\n",
      "   T-Statistic = -0.5096\n",
      "   P-Value     = 0.6156\n",
      "   ❌ Kết luận: Không có sự khác biệt đáng kể giữa 2 quý đầu và 2 quý sau.\n",
      "\n",
      "🔹 price_to_book:\n",
      "   T-Statistic = 0.1381\n",
      "   P-Value     = 0.8929\n",
      "   ❌ Kết luận: Không có sự khác biệt đáng kể giữa 2 quý đầu và 2 quý sau.\n",
      "\n",
      "🔹 roe:\n",
      "   T-Statistic = -0.0668\n",
      "   P-Value     = 0.9476\n",
      "   ❌ Kết luận: Không có sự khác biệt đáng kể giữa 2 quý đầu và 2 quý sau.\n",
      "\n",
      "🔹 earning_per_share:\n",
      "   T-Statistic = -0.0722\n",
      "   P-Value     = 0.9436\n",
      "   ❌ Kết luận: Không có sự khác biệt đáng kể giữa 2 quý đầu và 2 quý sau.\n"
     ]
    }
   ],
   "source": [
    "import pandas as pd\n",
    "from scipy import stats\n",
    "\n",
    "# Chỉ lấy các cột cần thiết\n",
    "columns_needed = ['quarter', 'price_to_earning', 'price_to_book', 'roe', 'earning_per_share']\n",
    "df1 = df[columns_needed]\n",
    "\n",
    "# Chia dữ liệu thành hai nhóm: 2 quý đầu và 2 quý sau\n",
    "df1_q1_q2 = df[df['quarter'].isin([3])]  # Nhóm quý 1, 2\n",
    "df1_q3_q4 = df[df['quarter'].isin([1, 2, 4])]  # Nhóm quý 3, 4\n",
    "\n",
    "# Danh sách các tiêu chí để kiểm định\n",
    "criteria = ['price_to_earning', 'price_to_book', 'roe', 'earning_per_share']\n",
    "\n",
    "# Thực hiện kiểm định T-Test\n",
    "results = {}\n",
    "for criterion in criteria:\n",
    "    t_stat, p_value = stats.ttest_ind(df1_q1_q2[criterion].dropna(), df1_q3_q4[criterion].dropna(), equal_var=False)\n",
    "    results[criterion] = {\"T-Statistic\": t_stat, \"P-Value\": p_value}\n",
    "\n",
    "# In kết quả kiểm định\n",
    "print(\"📌 Kết quả kiểm định T-Test giữa 2 quý đầu và 2 quý sau:\")\n",
    "for key, value in results.items():\n",
    "    print(f\"\\n🔹 {key}:\")\n",
    "    print(f\"   T-Statistic = {value['T-Statistic']:.4f}\")\n",
    "    print(f\"   P-Value     = {value['P-Value']:.4f}\")\n",
    "\n",
    "    # Đánh giá kết quả\n",
    "    if value[\"P-Value\"] < 0.05:\n",
    "        print(\"   ✅ Kết luận: Có sự khác biệt đáng kể giữa 2 quý đầu và 2 quý sau.\")\n",
    "    else:\n",
    "        print(\"   ❌ Kết luận: Không có sự khác biệt đáng kể giữa 2 quý đầu và 2 quý sau.\")\n"
   ]
  },
  {
   "cell_type": "markdown",
   "metadata": {},
   "source": [
    "## 1.4. Giả thuyết 4\n",
    "\n",
    "### Kiểm định tương quan Pearson: Các tiêu chí có tương quan dương?\n",
    "- $\\mathcal{H}_0$: Không có mối tương quan đáng kể giữa các tiêu chí.\n",
    "- $\\mathcal{H}_1$: Có tương quan giữa các tiêu chí."
   ]
  },
  {
   "cell_type": "code",
   "execution_count": 61,
   "metadata": {},
   "outputs": [
    {
     "data": {
      "image/png": "[encoded data removed]",
      "text/plain": [
       "<Figure size 800x600 with 2 Axes>"
      ]
     },
     "metadata": {},
     "output_type": "display_data"
    },
    {
     "name": "stdout",
     "output_type": "stream",
     "text": [
      "\n",
      "✅ Ma trận p-value (kiểm định ý nghĩa thống kê):\n",
      "                   price_to_earning  price_to_book            roe  \\\n",
      "price_to_earning       1.000000e+00   1.208417e-07   3.915086e-08   \n",
      "price_to_book          1.208417e-07   1.000000e+00   2.952686e-42   \n",
      "roe                    3.915086e-08   2.952686e-42   1.000000e+00   \n",
      "earning_per_share      1.457037e-03   1.704635e-39  8.917200e-136   \n",
      "\n",
      "                   earning_per_share  \n",
      "price_to_earning        1.457037e-03  \n",
      "price_to_book           1.704635e-39  \n",
      "roe                    8.917200e-136  \n",
      "earning_per_share       1.000000e+00  \n"
     ]
    }
   ],
   "source": [
    "import pandas as pd\n",
    "import seaborn as sns\n",
    "import matplotlib.pyplot as plt\n",
    "\n",
    "\n",
    "# Chọn các cột cần phân tích\n",
    "columns_of_interest = ['price_to_earning', 'price_to_book', 'roe', 'earning_per_share']\n",
    "df_selected = df_combined[columns_of_interest].dropna()  # Loại bỏ dữ liệu bị thiếu\n",
    "\n",
    "# Tính ma trận hệ số tương quan Pearson\n",
    "correlation_matrix = df_selected.corr(method='pearson')\n",
    "\n",
    "# Vẽ heatmap biểu diễn ma trận tương quan\n",
    "plt.figure(figsize=(8,6))\n",
    "sns.heatmap(correlation_matrix, annot=True, cmap='coolwarm', fmt=\".2f\")\n",
    "plt.title(\"Ma trận tương quan Pearson giữa P/E, P/B, ROE, EPS\")\n",
    "plt.show()\n",
    "\n",
    "# Tính p-value cho từng cặp biến\n",
    "p_values = df_selected.corr(method=lambda x, y: stats.pearsonr(x, y)[1])  # Lấy p-value\n",
    "\n",
    "print(\"\\n✅ Ma trận p-value (kiểm định ý nghĩa thống kê):\")\n",
    "print(p_values)\n"
   ]
  },
  {
   "cell_type": "markdown",
   "metadata": {},
   "source": [
    "📌 $\\textbf{Kết luận}$\n",
    "- Hệ số tương quan dương mạnh nhất:\n",
    "\n",
    "    - ROE và EPS có tương quan mạnh (0.678, p-value ≈ 0), tức là ROE tăng thì EPS cũng có xu hướng tăng đáng kể.\n",
    "\n",
    "    - P/B và ROE có tương quan dương khá cao (0.412, p-value ≈ 0), nghĩa là ROE cao thường đi kèm với giá trị sổ sách trên cổ phiếu cao hơn.\n",
    "\n",
    "- Hệ số tương quan âm:\n",
    "    - P/E và ROE có tương quan âm nhỏ (-0.173, p-value ≈ 0), cho thấy khi ROE tăng thì P/E có xu hướng giảm nhẹ (có thể do nhà đầu tư trả giá thấp hơn cho cổ phiếu có lợi nhuận cao).\n",
    "\n",
    "- P-value rất nhỏ (<0.05) ở hầu hết các cặp, chứng tỏ các mối quan hệ đều có ý nghĩa thống kê.\n",
    "\n",
    "👉 Tóm lại: EPS, ROE và P/B có mối tương quan đáng kể, trong khi P/E có tương quan yếu hơn với các tiêu chí khác."
   ]
  }
 ],
 "metadata": {
  "kernelspec": {
   "display_name": "Python 3",
   "language": "python",
   "name": "python3"
  },
  "language_info": {
   "codemirror_mode": {
    "name": "ipython",
    "version": 3
   },
   "file_extension": ".py",
   "mimetype": "text/x-python",
   "name": "python",
   "nbconvert_exporter": "python",
   "pygments_lexer": "ipython3",
   "version": "3.11.9"
  }
 },
 "nbformat": 4,
 "nbformat_minor": 2
}
