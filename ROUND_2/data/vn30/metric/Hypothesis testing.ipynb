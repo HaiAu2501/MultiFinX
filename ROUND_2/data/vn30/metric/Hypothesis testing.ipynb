{
 "cells": [
  {
   "cell_type": "code",
   "execution_count": 195,
   "metadata": {},
   "outputs": [
    {
     "name": "stdout",
     "output_type": "stream",
     "text": [
      "✅ Gộp dữ liệu hoàn tất! File lưu thành 'Merged_data.csv'\n"
     ]
    }
   ],
   "source": [
    "import pandas as pd\n",
    "\n",
    "# Danh sách file cụ thể\n",
    "file_paths = [\n",
    "    \"ACB.csv\", \"BCM.csv\", \"BID.csv\", \"BVH.csv\", \"CTG.csv\", \"FPT.csv\", \"GAS.csv\", \"GVR.csv\", \"HDB.csv\", \"HPG.csv\",\n",
    "    \"LPB.csv\", \"MBB.csv\", \"MSN.csv\", \"MWG.csv\", \"PLX.csv\", \"SAB.csv\", \"SHB.csv\", \"SSB.csv\", \"SSI.csv\", \"STB.csv\",\n",
    "    \"TCB.csv\", \"TPB.csv\", \"VCB.csv\", \"VHM.csv\", \"VIB.csv\", \"VIC.csv\", \"VJC.csv\", \"VNM.csv\", \"VPB.csv\", \"VRE.csv\"\n",
    "]\n",
    "\n",
    "# Chỉ giữ lại các cột cần thiết\n",
    "columns_needed = ['period', 'quarter', 'year', 'price_to_earning', 'price_to_book', 'roe', 'earning_per_share']\n",
    "\n",
    "# Đọc và gộp dữ liệu\n",
    "df_list = []\n",
    "for file in file_paths:\n",
    "    try:\n",
    "        df = pd.read_csv(file)[columns_needed]  # Chỉ lấy các cột cần thiết\n",
    "        df[\"company\"] = file.replace(\".csv\", \"\")  # Thêm cột tên công ty\n",
    "        df_list.append(df)\n",
    "    except Exception as e:\n",
    "        print(f\"Lỗi khi đọc file {file}: {e}\")\n",
    "\n",
    "df_combined = pd.concat(df_list, ignore_index=True)\n",
    "\n",
    "# Lưu file kết quả\n",
    "df_combined.to_csv(\"Merged_data.csv\", index=False)\n",
    "\n",
    "print(\"✅ Gộp dữ liệu hoàn tất! File lưu thành 'Merged_data.csv'\")\n"
   ]
  },
  {
   "cell_type": "markdown",
   "metadata": {},
   "source": [
    "## 1.1. Giả thuyết 1\n",
    "\n",
    "### Kiểm định ANOVA: P/E, PB, ROE, EPS trung bình có khác biệt giữa các công ty?\n",
    "- $\\mathcal{H}_0$ (Giả thuyết không): Không có sự khác biệt đáng kể giữa các công ty.\n",
    "- $\\mathcal{H}_1$ (Giả thuyết đối): Ít nhất một công ty có tiêu chí khác biệt đáng kể."
   ]
  },
  {
   "cell_type": "code",
   "execution_count": 53,
   "metadata": {},
   "outputs": [
    {
     "name": "stdout",
     "output_type": "stream",
     "text": [
      "🔹 ANOVA cho price_to_earning: F-statistic = 5.7699, p-value = 0.0000\n",
      "  → Có sự khác biệt đáng kể về price_to_earning giữa các công ty (p < 0.05)\n",
      "\n",
      "🔹 ANOVA cho price_to_book: F-statistic = 53.7497, p-value = 0.0000\n",
      "  → Có sự khác biệt đáng kể về price_to_book giữa các công ty (p < 0.05)\n",
      "\n",
      "🔹 ANOVA cho roe: F-statistic = 31.7958, p-value = 0.0000\n",
      "  → Có sự khác biệt đáng kể về roe giữa các công ty (p < 0.05)\n",
      "\n",
      "🔹 ANOVA cho earning_per_share: F-statistic = 38.2516, p-value = 0.0000\n",
      "  → Có sự khác biệt đáng kể về earning_per_share giữa các công ty (p < 0.05)\n",
      "\n"
     ]
    }
   ],
   "source": [
    "import scipy.stats as stats\n",
    "\n",
    "# Danh sách tiêu chí cần kiểm định\n",
    "criteria = ['price_to_earning', 'price_to_book', 'roe', 'earning_per_share']\n",
    "\n",
    "for criterion in criteria:\n",
    "    # Tạo danh sách nhóm dữ liệu hợp lệ\n",
    "    groups = [df_combined[df_combined['company'] == company][criterion].dropna() \n",
    "              for company in df_combined['company'].unique()]\n",
    "    \n",
    "    # Kiểm tra xem có ít nhất 2 nhóm hợp lệ không\n",
    "    if len(groups) < 2 or any(len(group) < 2 for group in groups):\n",
    "        print(f\"⚠️ Không đủ dữ liệu để thực hiện ANOVA cho {criterion} (cần ít nhất 2 nhóm có từ 2 mẫu trở lên)\\n\")\n",
    "        continue\n",
    "\n",
    "    # Kiểm định ANOVA\n",
    "    stat, p_value = stats.f_oneway(*groups)\n",
    "    \n",
    "    print(f\"🔹 ANOVA cho {criterion}: F-statistic = {stat:.4f}, p-value = {p_value:.4f}\")\n",
    "\n",
    "    # Kiểm tra ý nghĩa thống kê\n",
    "    if p_value < 0.05:\n",
    "        print(f\"  → Có sự khác biệt đáng kể về {criterion} giữa các công ty (p < 0.05)\\n\")\n",
    "    else:\n",
    "        print(f\"  → Không có sự khác biệt đáng kể về {criterion} giữa các công ty (p >= 0.05)\\n\")\n"
   ]
  },
  {
   "cell_type": "markdown",
   "metadata": {},
   "source": [
    "## 1.2. Giả thuyết 2\n",
    "\n",
    "###  T-Test: Các tiêu chí trung bình trước và sau năm 2020 có khác biệt đáng kể?\n",
    "- $\\mathcal{H}_0$: Không có sự khác biệt đáng kể về các tiêu chí trung bình trước và sau năm 2020.\n",
    "- $\\mathcal{H}_1$: Có sự khác biệt đáng kể về doanh thu trung bình giữa hai giai đoạn."
   ]
  },
  {
   "cell_type": "code",
   "execution_count": 43,
   "metadata": {},
   "outputs": [
    {
     "name": "stdout",
     "output_type": "stream",
     "text": [
      "🔹 Kiểm định T-Test cho price_to_earning:\n",
      "   - T-Statistic: -2.0929\n",
      "   - P-Value: 0.0366\n",
      "   ✅ Có sự khác biệt có ý nghĩa thống kê giữa trước và sau 2020.\n",
      "--------------------------------------------------\n",
      "🔹 Kiểm định T-Test cho price_to_book:\n",
      "   - T-Statistic: 4.0618\n",
      "   - P-Value: 0.0001\n",
      "   ✅ Có sự khác biệt có ý nghĩa thống kê giữa trước và sau 2020.\n",
      "--------------------------------------------------\n",
      "🔹 Kiểm định T-Test cho roe:\n",
      "   - T-Statistic: 3.4436\n",
      "   - P-Value: 0.0006\n",
      "   ✅ Có sự khác biệt có ý nghĩa thống kê giữa trước và sau 2020.\n",
      "--------------------------------------------------\n",
      "🔹 Kiểm định T-Test cho earning_per_share:\n",
      "   - T-Statistic: -3.4525\n",
      "   - P-Value: 0.0006\n",
      "   ✅ Có sự khác biệt có ý nghĩa thống kê giữa trước và sau 2020.\n",
      "--------------------------------------------------\n"
     ]
    }
   ],
   "source": [
    "import pandas as pd\n",
    "from scipy.stats import ttest_ind\n",
    "\n",
    "\n",
    "# Chuyển đổi kiểu dữ liệu của cột 'year' (nếu chưa phải số)\n",
    "df_combined['year'] = pd.to_numeric(df_combined['year'], errors='coerce')\n",
    "\n",
    "# Tách dữ liệu thành hai nhóm\n",
    "df_before_2020 = df_combined[df_combined['year'] < 2020]\n",
    "df_after_2020 = df_combined[df_combined['year'] >= 2020]\n",
    "\n",
    "# Danh sách các tiêu chí cần kiểm định\n",
    "criteria = ['price_to_earning', 'price_to_book', 'roe', 'earning_per_share']\n",
    "\n",
    "# Thực hiện T-Test cho từng tiêu chí\n",
    "t_test_results = {}\n",
    "for crit in criteria:\n",
    "    t_stat, p_value = ttest_ind(df_before_2020[crit].dropna(), df_after_2020[crit].dropna(), equal_var=False)\n",
    "    t_test_results[crit] = {'T-Statistic': t_stat, 'P-Value': p_value}\n",
    "\n",
    "# Hiển thị kết quả\n",
    "for crit, result in t_test_results.items():\n",
    "    print(f\"🔹 Kiểm định T-Test cho {crit}:\")\n",
    "    print(f\"   - T-Statistic: {result['T-Statistic']:.4f}\")\n",
    "    print(f\"   - P-Value: {result['P-Value']:.4f}\")\n",
    "    if result['P-Value'] < 0.05:\n",
    "        print(\"   ✅ Có sự khác biệt có ý nghĩa thống kê giữa trước và sau 2020.\")\n",
    "    else:\n",
    "        print(\"   ❌ Không có sự khác biệt đáng kể giữa trước và sau 2020.\")\n",
    "    print(\"-\" * 50)\n"
   ]
  },
  {
   "cell_type": "markdown",
   "metadata": {},
   "source": [
    "## 1.3. Giả thuyết 3\n",
    "\n",
    "###  T-Test: Các tiêu chí trung bình giữa nhóm ngành ngân hàng và bất động sản có khác biệt đáng kể?\n",
    "- $\\mathcal{H}_0$: Không có sự khác biệt đáng kể giữa nhóm ngành ngân hàng và bất động sản.\n",
    "- $\\mathcal{H}_1$: Có sự khác biệt đáng kể về doanh thu trung bình giữa hai giai đoạn."
   ]
  },
  {
   "cell_type": "code",
   "execution_count": 15,
   "metadata": {},
   "outputs": [
    {
     "name": "stdout",
     "output_type": "stream",
     "text": [
      "🔹 Tiêu chí: price_to_earning\n",
      "   - T-statistic: -2.7742\n",
      "   - P-value: 0.0064\n",
      "   ✅ Kết luận: Có sự khác biệt có ý nghĩa thống kê giữa hai nhóm\n",
      "\n",
      "🔹 Tiêu chí: price_to_book\n",
      "   - T-statistic: -9.0976\n",
      "   - P-value: 0.0000\n",
      "   ✅ Kết luận: Có sự khác biệt có ý nghĩa thống kê giữa hai nhóm\n",
      "\n",
      "🔹 Tiêu chí: roe\n",
      "   - T-statistic: 3.7414\n",
      "   - P-value: 0.0003\n",
      "   ✅ Kết luận: Có sự khác biệt có ý nghĩa thống kê giữa hai nhóm\n",
      "\n",
      "🔹 Tiêu chí: earning_per_share\n",
      "   - T-statistic: -2.4577\n",
      "   - P-value: 0.0154\n",
      "   ✅ Kết luận: Có sự khác biệt có ý nghĩa thống kê giữa hai nhóm\n",
      "\n"
     ]
    }
   ],
   "source": [
    "import pandas as pd\n",
    "from scipy.stats import ttest_ind\n",
    "\n",
    "\n",
    "# Xác định nhóm công ty\n",
    "banking_companies = [\"ACB\", \"BID\", \"CTG\", \"HDB\", \"LPB\", \"MBB\", \"SHB\", \"SSB\", \"STB\", \"TCB\", \"TPB\", \"VCB\", \"VIB\", \"VPB\"]\n",
    "real_estate_companies = [\"BCM\", \"VHM\", \"VIC\", \"VRE\"]\n",
    "\n",
    "# Lọc dữ liệu theo từng nhóm\n",
    "df_banking = df_combined[df_combined[\"company\"].isin(banking_companies)]\n",
    "df_real_estate = df_combined[df_combined[\"company\"].isin(real_estate_companies)]\n",
    "\n",
    "# Các tiêu chí cần kiểm định\n",
    "criteria = [\"price_to_earning\", \"price_to_book\", \"roe\", \"earning_per_share\"]\n",
    "\n",
    "# Tiến hành kiểm định T-test cho từng tiêu chí\n",
    "results = {}\n",
    "for criterion in criteria:\n",
    "    t_stat, p_value = ttest_ind(df_banking[criterion].dropna(), df_real_estate[criterion].dropna(), equal_var=False)\n",
    "    results[criterion] = {\"t-statistic\": t_stat, \"p-value\": p_value}\n",
    "\n",
    "# Hiển thị kết quả\n",
    "for criterion, res in results.items():\n",
    "    print(f\"🔹 Tiêu chí: {criterion}\")\n",
    "    print(f\"   - T-statistic: {res['t-statistic']:.4f}\")\n",
    "    print(f\"   - P-value: {res['p-value']:.4f}\")\n",
    "    if res[\"p-value\"] < 0.05:\n",
    "        print(\"   ✅ Kết luận: Có sự khác biệt có ý nghĩa thống kê giữa hai nhóm\\n\")\n",
    "    else:\n",
    "        print(\"   ❌ Kết luận: Không có sự khác biệt đáng kể giữa hai nhóm\\n\")\n"
   ]
  },
  {
   "cell_type": "code",
   "execution_count": 45,
   "metadata": {},
   "outputs": [
    {
     "name": "stdout",
     "output_type": "stream",
     "text": [
      "Index(['period', 'quarter', 'year', 'price_to_earning', 'price_to_book', 'roe',\n",
      "       'earning_per_share', 'company'],\n",
      "      dtype='object')\n"
     ]
    }
   ],
   "source": [
    "print(df_combined.columns)  # Kiểm tra các cột có trong DataFrame\n"
   ]
  },
  {
   "cell_type": "markdown",
   "metadata": {},
   "source": [
    "## 1.4. Giả thuyết 4\n",
    "\n",
    "###  T-Test: Các tiêu chí trung bình giữa 2 qúy đầu năm và 2 quý cuối năm có khác biệt đáng kể?\n",
    "- $\\mathcal{H}_0$: Không có sự khác biệt đáng kể giữa 2 qúy đầu năm và 2 quý cuối năm.\n",
    "- $\\mathcal{H}_1$: Có sự khác biệt đáng kể về trung bình các tiêu chí giữa hai giai đoạn."
   ]
  },
  {
   "cell_type": "code",
   "execution_count": 50,
   "metadata": {},
   "outputs": [
    {
     "name": "stdout",
     "output_type": "stream",
     "text": [
      "📌 Kết quả kiểm định T-Test giữa 2 quý đầu và 2 quý sau:\n",
      "\n",
      "🔹 price_to_earning:\n",
      "   T-Statistic = -1.2386\n",
      "   P-Value     = 0.2158\n",
      "   ❌ Kết luận: Không có sự khác biệt đáng kể giữa 2 quý đầu và 2 quý sau.\n",
      "\n",
      "🔹 price_to_book:\n",
      "   T-Statistic = 0.2235\n",
      "   P-Value     = 0.8232\n",
      "   ❌ Kết luận: Không có sự khác biệt đáng kể giữa 2 quý đầu và 2 quý sau.\n",
      "\n",
      "🔹 roe:\n",
      "   T-Statistic = 0.0845\n",
      "   P-Value     = 0.9326\n",
      "   ❌ Kết luận: Không có sự khác biệt đáng kể giữa 2 quý đầu và 2 quý sau.\n",
      "\n",
      "🔹 earning_per_share:\n",
      "   T-Statistic = -1.0155\n",
      "   P-Value     = 0.3101\n",
      "   ❌ Kết luận: Không có sự khác biệt đáng kể giữa 2 quý đầu và 2 quý sau.\n"
     ]
    }
   ],
   "source": [
    "import pandas as pd\n",
    "from scipy import stats\n",
    "\n",
    "# Chỉ lấy các cột cần thiết\n",
    "columns_needed = ['quarter', 'price_to_earning', 'price_to_book', 'roe', 'earning_per_share']\n",
    "df1 = df_combined[columns_needed]\n",
    "\n",
    "# Chia dữ liệu thành hai nhóm: 2 quý đầu và 2 quý sau\n",
    "df1_q1_q2 = df1[df1['quarter'].isin([1, 2])]  # Nhóm quý 1, 2\n",
    "df1_q3_q4 = df1[df1['quarter'].isin([3, 4])]  # Nhóm quý 3, 4\n",
    "\n",
    "# Danh sách các tiêu chí để kiểm định\n",
    "criteria = ['price_to_earning', 'price_to_book', 'roe', 'earning_per_share']\n",
    "\n",
    "# Thực hiện kiểm định T-Test\n",
    "results = {}\n",
    "for criterion in criteria:\n",
    "    t_stat, p_value = stats.ttest_ind(df1_q1_q2[criterion].dropna(), df1_q3_q4[criterion].dropna(), equal_var=False)\n",
    "    results[criterion] = {\"T-Statistic\": t_stat, \"P-Value\": p_value}\n",
    "\n",
    "# In kết quả kiểm định\n",
    "print(\"📌 Kết quả kiểm định T-Test giữa 2 quý đầu và 2 quý sau:\")\n",
    "for key, value in results.items():\n",
    "    print(f\"\\n🔹 {key}:\")\n",
    "    print(f\"   T-Statistic = {value['T-Statistic']:.4f}\")\n",
    "    print(f\"   P-Value     = {value['P-Value']:.4f}\")\n",
    "\n",
    "    # Đánh giá kết quả\n",
    "    if value[\"P-Value\"] < 0.05:\n",
    "        print(\"   ✅ Kết luận: Có sự khác biệt đáng kể giữa 2 quý đầu và 2 quý sau.\")\n",
    "    else:\n",
    "        print(\"   ❌ Kết luận: Không có sự khác biệt đáng kể giữa 2 quý đầu và 2 quý sau.\")\n"
   ]
  },
  {
   "cell_type": "markdown",
   "metadata": {},
   "source": [
    "## 1.5. Giả thuyết 5\n",
    "\n",
    "### Kiểm định tương quan Pearson: Các tiêu chí có tương quan dương?\n",
    "- $\\mathcal{H}_0$: Không có mối tương quan đáng kể giữa các tiêu chí.\n",
    "- $\\mathcal{H}_1$: Có tương quan giữa các tiêu chí."
   ]
  },
  {
   "cell_type": "code",
   "execution_count": 18,
   "metadata": {},
   "outputs": [
    {
     "data": {
      "image/png": "[encoded data removed]",
      "text/plain": [
       "<Figure size 800x600 with 2 Axes>"
      ]
     },
     "metadata": {},
     "output_type": "display_data"
    },
    {
     "name": "stdout",
     "output_type": "stream",
     "text": [
      "\n",
      "✅ Ma trận p-value (kiểm định ý nghĩa thống kê):\n",
      "                   price_to_earning  price_to_book            roe  \\\n",
      "price_to_earning       1.000000e+00   1.208417e-07   3.915086e-08   \n",
      "price_to_book          1.208417e-07   1.000000e+00   2.952686e-42   \n",
      "roe                    3.915086e-08   2.952686e-42   1.000000e+00   \n",
      "earning_per_share      1.457037e-03   1.704635e-39  8.917200e-136   \n",
      "\n",
      "                   earning_per_share  \n",
      "price_to_earning        1.457037e-03  \n",
      "price_to_book           1.704635e-39  \n",
      "roe                    8.917200e-136  \n",
      "earning_per_share       1.000000e+00  \n"
     ]
    }
   ],
   "source": [
    "import pandas as pd\n",
    "import seaborn as sns\n",
    "import matplotlib.pyplot as plt\n",
    "\n",
    "\n",
    "# Chọn các cột cần phân tích\n",
    "columns_of_interest = ['price_to_earning', 'price_to_book', 'roe', 'earning_per_share']\n",
    "df_selected = df_combined[columns_of_interest].dropna()  # Loại bỏ dữ liệu bị thiếu\n",
    "\n",
    "# Tính ma trận hệ số tương quan Pearson\n",
    "correlation_matrix = df_selected.corr(method='pearson')\n",
    "\n",
    "# Vẽ heatmap biểu diễn ma trận tương quan\n",
    "plt.figure(figsize=(8,6))\n",
    "sns.heatmap(correlation_matrix, annot=True, cmap='coolwarm', fmt=\".2f\")\n",
    "plt.title(\"Ma trận tương quan Pearson giữa P/E, P/B, ROE, EPS\")\n",
    "plt.show()\n",
    "\n",
    "# Tính p-value cho từng cặp biến\n",
    "p_values = df_selected.corr(method=lambda x, y: stats.pearsonr(x, y)[1])  # Lấy p-value\n",
    "\n",
    "print(\"\\n✅ Ma trận p-value (kiểm định ý nghĩa thống kê):\")\n",
    "print(p_values)\n"
   ]
  },
  {
   "cell_type": "markdown",
   "metadata": {},
   "source": [
    "📌 $\\textbf{Kết luận}$\n",
    "- Hệ số tương quan dương mạnh nhất:\n",
    "\n",
    "    - ROE và EPS có tương quan mạnh (0.678, p-value ≈ 0), tức là ROE tăng thì EPS cũng có xu hướng tăng đáng kể.\n",
    "\n",
    "    - P/B và ROE có tương quan dương khá cao (0.412, p-value ≈ 0), nghĩa là ROE cao thường đi kèm với giá trị sổ sách trên cổ phiếu cao hơn.\n",
    "\n",
    "- Hệ số tương quan âm:\n",
    "    - P/E và ROE có tương quan âm nhỏ (-0.173, p-value ≈ 0), cho thấy khi ROE tăng thì P/E có xu hướng giảm nhẹ (có thể do nhà đầu tư trả giá thấp hơn cho cổ phiếu có lợi nhuận cao).\n",
    "\n",
    "- P-value rất nhỏ (<0.05) ở hầu hết các cặp, chứng tỏ các mối quan hệ đều có ý nghĩa thống kê.\n",
    "\n",
    "👉 Tóm lại: EPS, ROE và P/B có mối tương quan đáng kể, trong khi P/E có tương quan yếu hơn với các tiêu chí khác."
   ]
  },
  {
   "cell_type": "markdown",
   "metadata": {},
   "source": [
    "## 1.6. Giả thuyết 6\n",
    "\n",
    "### Kiểm định Kruskal-Wallis: Các tiêu chí trung bình có khác nhau giữa các công ty?\n",
    "- $\\mathcal{H}_0$: Không có sự khác biệt đáng kể về trung bình các tiêu chí (P/E, P/B, ROE, EPS) giữa các khu vực.\n",
    "- $\\mathcal{H}_1$: Có ít nhất một khu vực có tiêu chí khác biệt đáng kể."
   ]
  },
  {
   "cell_type": "code",
   "execution_count": 51,
   "metadata": {},
   "outputs": [
    {
     "name": "stdout",
     "output_type": "stream",
     "text": [
      "Kết quả kiểm định Kruskal-Wallis cho price_to_earning:\n",
      "  - Hệ số thống kê (H): 556.4345\n",
      "  - Giá trị p: 0.0000\n",
      "  -> Kết luận: Có sự khác biệt đáng kể\n",
      "--------------------------------------------------\n",
      "Kết quả kiểm định Kruskal-Wallis cho price_to_book:\n",
      "  - Hệ số thống kê (H): 649.7852\n",
      "  - Giá trị p: 0.0000\n",
      "  -> Kết luận: Có sự khác biệt đáng kể\n",
      "--------------------------------------------------\n",
      "Kết quả kiểm định Kruskal-Wallis cho roe:\n",
      "  - Hệ số thống kê (H): 540.9364\n",
      "  - Giá trị p: 0.0000\n",
      "  -> Kết luận: Có sự khác biệt đáng kể\n",
      "--------------------------------------------------\n",
      "Kết quả kiểm định Kruskal-Wallis cho earning_per_share:\n",
      "  - Hệ số thống kê (H): 524.8949\n",
      "  - Giá trị p: 0.0000\n",
      "  -> Kết luận: Có sự khác biệt đáng kể\n",
      "--------------------------------------------------\n"
     ]
    }
   ],
   "source": [
    "import pandas as pd\n",
    "from scipy.stats import kruskal\n",
    "\n",
    "# Xác định danh sách tiêu chí cần kiểm định\n",
    "criteria = [\"price_to_earning\", \"price_to_book\", \"roe\", \"earning_per_share\"]\n",
    "\n",
    "# Thực hiện kiểm định Kruskal-Wallis\n",
    "results = {}\n",
    "\n",
    "for criterion in criteria:\n",
    "    groups = [df_combined[df_combined[\"company\"] == company][criterion].dropna() \n",
    "              for company in df_combined[\"company\"].unique()]\n",
    "    \n",
    "    stat, p_value = kruskal(*groups)\n",
    "    results[criterion] = (stat, p_value, \"Có sự khác biệt đáng kể\" if p_value < 0.05 else \"Không có sự khác biệt đáng kể\")\n",
    "\n",
    "# Hiển thị kết quả\n",
    "for criterion, (stat, p_value, conclusion) in results.items():\n",
    "    print(f\"Kết quả kiểm định Kruskal-Wallis cho {criterion}:\")\n",
    "    print(f\"  - Hệ số thống kê (H): {stat:.4f}\")\n",
    "    print(f\"  - Giá trị p: {p_value:.4f}\")\n",
    "    print(f\"  -> Kết luận: {conclusion}\")\n",
    "    print(\"-\" * 50)\n"
   ]
  },
  {
   "cell_type": "markdown",
   "metadata": {},
   "source": [
    "## 2. Tạo đặc trưng mới và thực hiện kiểm chứng các giả thuyết"
   ]
  },
  {
   "cell_type": "code",
   "execution_count": 76,
   "metadata": {},
   "outputs": [
    {
     "name": "stdout",
     "output_type": "stream",
     "text": [
      "      period  quarter  year  price_to_earning  price_to_book    roe  \\\n",
      "38   2015-Q2        2  2015              19.9            1.5  0.077   \n",
      "101  2015-Q2        2  2015              13.5            2.1  0.161   \n",
      "181  2015-Q2        2  2015              11.4            1.2  0.106   \n",
      "221  2015-Q2        2  2015               8.6            1.7  0.214   \n",
      "261  2015-Q2        2  2015               6.6            2.1  0.344   \n",
      "\n",
      "     earning_per_share company    industry  \n",
      "38               351.0     ACB     Banking  \n",
      "101             1366.0     BID     Banking  \n",
      "181             1190.0     CTG     Banking  \n",
      "221             1896.0     FPT  Technology  \n",
      "261             6742.0     GAS      Energy  \n"
     ]
    }
   ],
   "source": [
    "# Gán nhóm ngành cho từng công ty\n",
    "industry_mapping = {\n",
    "    \"ACB\": \"Banking\", \"BID\": \"Banking\", \"CTG\": \"Banking\", \"HDB\": \"Banking\", \"LPB\": \"Banking\",\n",
    "    \"MBB\": \"Banking\", \"SHB\": \"Banking\", \"SSB\": \"Banking\", \"STB\": \"Banking\", \"TCB\": \"Banking\",\n",
    "    \"TPB\": \"Banking\", \"VCB\": \"Banking\", \"VIB\": \"Banking\", \"VPB\": \"Banking\",\n",
    "    \"VHM\": \"Real Estate\", \"VIC\": \"Real Estate\", \"NVL\": \"Real Estate\",\n",
    "    \"MSN\": \"Consumer Goods\", \"MWG\": \"Consumer Goods\", \"SAB\": \"Consumer Goods\", \"VNM\": \"Consumer Goods\",\n",
    "    \"GAS\": \"Energy\", \"PLX\": \"Energy\",\n",
    "    \"FPT\": \"Technology\", \"BVH\": \"Insurance\", \"HPG\": \"Materials\", \"GVR\": \"Materials\",\n",
    "    \"SSI\": \"Financial Services\"\n",
    "}\n",
    "\n",
    "# Thêm cột nhóm ngành\n",
    "df_combined[\"industry\"] = df_combined[\"company\"].map(industry_mapping).fillna(\"Other\")\n",
    "\n",
    "# Kiểm tra kết quả\n",
    "print(df_combined.head())\n"
   ]
  },
  {
   "cell_type": "code",
   "execution_count": 78,
   "metadata": {},
   "outputs": [],
   "source": [
    "# 🔹 Tạo 4 đặc trưng mới\n",
    "df_combined['pe_roe_ratio'] = df_combined['price_to_earning'] / df_combined['roe']\n",
    "df_combined['pb_roe_ratio'] = df_combined['price_to_book'] / df_combined['roe']\n",
    "df_combined['eps_quarter_growth'] = df_combined.groupby('company')['earning_per_share'].pct_change()\n",
    "df_combined['roe_moving_avg'] = df_combined.groupby('company')['roe'].rolling(window=2).mean().reset_index(level=0, drop=True)\n",
    "\n",
    "# Loại bỏ giá trị NaN sinh ra do `pct_change` và `rolling`\n",
    "df.dropna(inplace=True)\n"
   ]
  },
  {
   "cell_type": "markdown",
   "metadata": {},
   "source": [
    "## 2.1. Giả thuyết 7 \n",
    "\n",
    "### Kiểm định ANOVA: Giá trị trung bình của pe_roe_ratio có khác nhau giữa các công ty không? (ANOVA)\n",
    "\n",
    "- $\\mathcal{H}_0$: Không có sự khác biệt về pe_roe_ratio trung bình giữa các công ty.\n",
    "- $\\mathcal{H}_1$: Có ít nhất một khu vực có pe_roe_ratio trung bình khác biệt đáng kể."
   ]
  },
  {
   "cell_type": "code",
   "execution_count": 79,
   "metadata": {},
   "outputs": [
    {
     "name": "stdout",
     "output_type": "stream",
     "text": [
      "ANOVA PE/ROE giữa các công ty: p-value = 0.0000\n",
      "⏩ Kết luận: Có sự khác biệt đáng kể về PE/ROE giữa các công ty.\n"
     ]
    }
   ],
   "source": [
    "import scipy.stats as stats\n",
    "\n",
    "anova_result = stats.f_oneway(*[df_combined[df_combined['company'] == c]['pe_roe_ratio'] for c in df_combined['company'].unique()])\n",
    "print(f\"ANOVA PE/ROE giữa các công ty: p-value = {anova_result.pvalue:.4f}\")\n",
    "if anova_result.pvalue < 0.05:\n",
    "    print(\"⏩ Kết luận: Có sự khác biệt đáng kể về PE/ROE giữa các công ty.\")\n",
    "else:\n",
    "    print(\"⏩ Kết luận: Không có sự khác biệt đáng kể về PE/ROE giữa các công ty.\")\n",
    "\n"
   ]
  },
  {
   "cell_type": "markdown",
   "metadata": {},
   "source": [
    "## 2.2. Giả thuyết 8 \n",
    "\n",
    "### Kiểm định Pearson: PB/ROE có mối tương quan với EPS không?\n",
    "- $\\mathcal{H}_0$: Không có mối tương quan giữa PB/ROE với EPS.\n",
    "- $\\mathcal{H}_1$: Có mối tương quan đáng kể giữa PB/ROE với EPS."
   ]
  },
  {
   "cell_type": "code",
   "execution_count": 81,
   "metadata": {},
   "outputs": [
    {
     "name": "stdout",
     "output_type": "stream",
     "text": [
      "Tương quan PB/ROE với EPS: r = -0.1139, p-value = 0.0004\n",
      "⏩ Kết luận: Có mối tương quan đáng kể giữa PB/ROE và EPS.\n"
     ]
    }
   ],
   "source": [
    "corr, p_value = stats.pearsonr(df_combined['pb_roe_ratio'], df_combined['earning_per_share'])\n",
    "print(f\"Tương quan PB/ROE với EPS: r = {corr:.4f}, p-value = {p_value:.4f}\")\n",
    "if p_value < 0.05:\n",
    "    print(\"⏩ Kết luận: Có mối tương quan đáng kể giữa PB/ROE và EPS.\")\n",
    "else:\n",
    "    print(\"⏩ Kết luận: Không có mối tương quan đáng kể giữa PB/ROE và EPS.\")\n"
   ]
  },
  {
   "cell_type": "markdown",
   "metadata": {},
   "source": [
    "## 2.3. Giả thuyết 9\n",
    "\n",
    "### T-Test: EPS có xu hướng tăng trưởng theo thời gian không? \n",
    "\n",
    "- $\\mathcal{H}_0$: EPS không có xu hướng tăng trưởng đáng kể.\n",
    "- $\\mathcal{H}_1$: EPS có xu hướng tăng trưởng theo thời gian"
   ]
  },
  {
   "cell_type": "code",
   "execution_count": 82,
   "metadata": {},
   "outputs": [
    {
     "name": "stdout",
     "output_type": "stream",
     "text": [
      "T-test EPS theo năm: p-value = 0.2742\n",
      "⏩ Kết luận: EPS không có xu hướng tăng trưởng đáng kể.\n"
     ]
    }
   ],
   "source": [
    "eps_yearly = df_combined.groupby(['year'])['earning_per_share'].mean()\n",
    "t_stat, p_value = stats.ttest_rel(eps_yearly[:-1], eps_yearly[1:])\n",
    "print(f\"T-test EPS theo năm: p-value = {p_value:.4f}\")\n",
    "if p_value < 0.05:\n",
    "    print(\"⏩ Kết luận: EPS có xu hướng tăng trưởng theo thời gian.\")\n",
    "else:\n",
    "    print(\"⏩ Kết luận: EPS không có xu hướng tăng trưởng đáng kể.\")\n"
   ]
  },
  {
   "cell_type": "markdown",
   "metadata": {},
   "source": [
    "## 2.4. Giả thuyết 10 \n",
    "\n",
    "### T-Test: ROE trung bình của các công ty có giá trị PB trên trung bình có khác biệt đáng kể so với nhóm dưới trung bình không?\n",
    "\n",
    "- $\\mathcal{H}_0$: Không có sự khác biệt đáng kể về ROE giữa nhóm PB cao và thấp.\n",
    "- $\\mathcal{H}_1$: ROE trung bình có sự khác biệt đáng kể giữa hai nhóm PB."
   ]
  },
  {
   "cell_type": "code",
   "execution_count": 83,
   "metadata": {},
   "outputs": [
    {
     "name": "stdout",
     "output_type": "stream",
     "text": [
      "T-test ROE giữa nhóm PB cao & thấp: p-value = 0.0000\n",
      "⏩ Kết luận: ROE trung bình có sự khác biệt đáng kể giữa nhóm PB cao và thấp.\n"
     ]
    }
   ],
   "source": [
    "median_pb = df_combined['price_to_book'].median()\n",
    "group_high = df_combined[df_combined['price_to_book'] > median_pb]['roe']\n",
    "group_low = df_combined[df_combined['price_to_book'] <= median_pb]['roe']\n",
    "t_stat, p_value = stats.ttest_ind(group_high, group_low, equal_var=False)\n",
    "print(f\"T-test ROE giữa nhóm PB cao & thấp: p-value = {p_value:.4f}\")\n",
    "if p_value < 0.05:\n",
    "    print(\"⏩ Kết luận: ROE trung bình có sự khác biệt đáng kể giữa nhóm PB cao và thấp.\")\n",
    "else:\n",
    "    print(\"⏩ Kết luận: Không có sự khác biệt đáng kể về ROE giữa hai nhóm PB.\")\n"
   ]
  },
  {
   "cell_type": "markdown",
   "metadata": {},
   "source": [
    "## 2.5. Giả thuyết 11 \n",
    "\n",
    "### Q-Q plot Test: ROE có phân phối chuẩn không? \n",
    "\n",
    "- $\\mathcal{H}_0$: ROE không tuân theo phân phối chuẩn.\n",
    "- $\\mathcal{H}_1$: ROE có thể coi là tuân theo phân phối chuẩn."
   ]
  },
  {
   "cell_type": "code",
   "execution_count": 122,
   "metadata": {},
   "outputs": [
    {
     "name": "stdout",
     "output_type": "stream",
     "text": [
      "✅ Phân phối có thể coi là gần chuẩn dựa trên Skewness & Kurtosis.\n",
      "\n"
     ]
    },
    {
     "data": {
      "image/png": "[encoded data removed]",
      "text/plain": [
       "<Figure size 1200x600 with 1 Axes>"
      ]
     },
     "metadata": {},
     "output_type": "display_data"
    }
   ],
   "source": [
    "# 🔹 Kiểm tra Skewness & Kurtosis\n",
    "skewness = stats.skew(df_combined['roe'])\n",
    "kurt = stats.kurtosis(df_combined['roe'])\n",
    "\n",
    "# 🔹 Kết luận\n",
    "if abs(skewness) < 0.7 and abs(kurt) < 3.5:\n",
    "    print(\"✅ Phân phối có thể coi là gần chuẩn dựa trên Skewness & Kurtosis.\\n\")\n",
    "else:\n",
    "    print(\"❌ Phân phối không tuân theo phân phối chuẩn do lệch hoặc có đuôi dài.\\n\")\n",
    "# 🔹 3. Vẽ biểu đồ trực quan\n",
    "plt.figure(figsize=(12, 6))\n",
    "sns.histplot(df_combined['roe'], kde=True, bins=30)\n",
    "plt.title(\"Phân phối của ROE\")\n",
    "plt.show()\n"
   ]
  },
  {
   "cell_type": "markdown",
   "metadata": {},
   "source": [
    "## 3. Tính toán các độ đo kinh tế học và kiểm chứng giả thuyết"
   ]
  },
  {
   "cell_type": "code",
   "execution_count": null,
   "metadata": {},
   "outputs": [
    {
     "name": "stdout",
     "output_type": "stream",
     "text": [
      "✅ Gộp dữ liệu hoàn tất! File lưu thành 'merged_data.csv'\n"
     ]
    }
   ],
   "source": [
    "import pandas as pd\n",
    "\n",
    "# Danh sách file cụ thể\n",
    "file_paths = [\n",
    "    \"ACB.csv\", \"BCM.csv\", \"BID.csv\", \"BVH.csv\", \"CTG.csv\", \"FPT.csv\", \"GAS.csv\", \"GVR.csv\", \"HDB.csv\", \"HPG.csv\",\n",
    "    \"LPB.csv\", \"MBB.csv\", \"MSN.csv\", \"MWG.csv\", \"PLX.csv\", \"SAB.csv\", \"SHB.csv\", \"SSB.csv\", \"SSI.csv\", \"STB.csv\",\n",
    "    \"TCB.csv\", \"TPB.csv\", \"VCB.csv\", \"VHM.csv\", \"VIB.csv\", \"VIC.csv\", \"VJC.csv\", \"VNM.csv\", \"VPB.csv\", \"VRE.csv\"\n",
    "]\n",
    "\n",
    "# Chỉ giữ lại các cột cần thiết\n",
    "columns_needed = ['period', 'quarter', 'year', 'price_to_earning', 'price_to_book', 'roe', 'earning_per_share', 'equity_on_liability'\n",
    ", 'asset_on_equity', 'equity_on_total_asset', 'roa', 'payable_on_equity', 'book_value_per_share_change', 'eps_change', 'book_value_per_share']\n",
    "\n",
    "# Đọc và gộp dữ liệu\n",
    "df_list = []\n",
    "for file in file_paths:\n",
    "    try:\n",
    "        df = pd.read_csv(file)[columns_needed]  # Chỉ lấy các cột cần thiết\n",
    "        df[\"company\"] = file.replace(\".csv\", \"\")  # Thêm cột tên công ty\n",
    "        df_list.append(df)\n",
    "    except Exception as e:\n",
    "        print(f\"Lỗi khi đọc file {file}: {e}\")\n",
    "\n",
    "df_combined_full = pd.concat(df_list, ignore_index=True)\n",
    "\n",
    "# Lưu file kết quả\n",
    "df_combined_full.to_csv(\"Merged_data_full.csv\", index=False)\n",
    "\n",
    "print(\"✅ Gộp dữ liệu hoàn tất! File lưu thành 'Merged_data_full.csv'\")"
   ]
  },
  {
   "cell_type": "code",
   "execution_count": 191,
   "metadata": {},
   "outputs": [
    {
     "name": "stdout",
     "output_type": "stream",
     "text": [
      "<class 'pandas.core.frame.DataFrame'>\n",
      "RangeIndex: 1063 entries, 0 to 1062\n",
      "Data columns (total 20 columns):\n",
      " #   Column                       Non-Null Count  Dtype  \n",
      "---  ------                       --------------  -----  \n",
      " 0   period                       1063 non-null   object \n",
      " 1   quarter                      1063 non-null   int64  \n",
      " 2   year                         1063 non-null   int64  \n",
      " 3   price_to_earning             1010 non-null   float64\n",
      " 4   price_to_book                1009 non-null   float64\n",
      " 5   roe                          1047 non-null   float64\n",
      " 6   earning_per_share            1056 non-null   float64\n",
      " 7   equity_on_liability          1063 non-null   float64\n",
      " 8   asset_on_equity              1062 non-null   float64\n",
      " 9   equity_on_total_asset        1062 non-null   float64\n",
      " 10  roa                          1056 non-null   float64\n",
      " 11  payable_on_equity            1063 non-null   float64\n",
      " 12  book_value_per_share_change  1060 non-null   float64\n",
      " 13  eps_change                   1055 non-null   float64\n",
      " 14  book_value_per_share         1062 non-null   float64\n",
      " 15  company                      1063 non-null   object \n",
      " 16  FLI                          1062 non-null   float64\n",
      " 17  Adjusted_ROE                 1001 non-null   float64\n",
      " 18  Adjusted_ROA                 1055 non-null   float64\n",
      " 19  Equity_Liability_Ratio       1063 non-null   float64\n",
      "dtypes: float64(16), int64(2), object(2)\n",
      "memory usage: 166.2+ KB\n"
     ]
    }
   ],
   "source": [
    "df_combined_full.info()"
   ]
  },
  {
   "cell_type": "code",
   "execution_count": 192,
   "metadata": {},
   "outputs": [],
   "source": [
    "# Tính toán các độ đo kinh tế quan trọng\n",
    "\n",
    "\n",
    "# **Hệ số ROE điều chỉnh (Adjusted ROE)**\n",
    "df_combined_full[\"Adjusted_ROE\"] = df_combined_full[\"roe\"] * df_combined_full[\"price_to_book\"]\n",
    "\n",
    "# **Tỷ suất sinh lời trên tài sản có điều chỉnh (Adjusted ROA)**\n",
    "df_combined_full[\"Adjusted_ROA\"] = df_combined_full[\"roa\"] * df_combined_full[\"asset_on_equity\"]\n",
    "\n",
    "# **Tỷ lệ vốn chủ sở hữu trên nợ phải trả (Equity/Liability Ratio)**\n",
    "df_combined_full[\"Equity_Liability_Ratio\"] = df_combined_full[\"equity_on_liability\"]\n",
    "\n",
    "# **Chỉ số đòn bẩy tài chính (Financial Leverage Index - FLI)**\n",
    "df_combined_full['FLI'] = df_combined_full['asset_on_equity'] / df_combined_full['equity_on_total_asset']\n",
    "\n"
   ]
  },
  {
   "cell_type": "markdown",
   "metadata": {},
   "source": [
    "## 3.1. Giả thuyết 12\n",
    "\n",
    "### T-Test: Nhóm Adjusted_ROA cao và thấp có sự khác biệt đáng kể không ?\n",
    "\n",
    "- $\\mathcal{H}_0$: Không có sự khác biệt đáng kể giữa nhóm Adjusted_ROA cao và thấp.\n",
    "- $\\mathcal{H}_1$: Có sự khác biệt đáng kể giữa 2 nhóm trên."
   ]
  },
  {
   "cell_type": "code",
   "execution_count": null,
   "metadata": {},
   "outputs": [
    {
     "name": "stdout",
     "output_type": "stream",
     "text": [
      "T-test statistic: 21.953283629442318, p-value: 2.5180965903399004e-76\n",
      "Có sự khác biệt đáng kể giữa nhóm Adjusted_ROA cao và thấp.\n"
     ]
    }
   ],
   "source": [
    "\n",
    "# Kiểm định t-test giữa nhóm Adjusted_ROA cao và thấp\n",
    "high_roa = df_combined_full[df_combined_full['Adjusted_ROA'] > df_combined_full['Adjusted_ROA'].median()]['Adjusted_ROA']\n",
    "low_roa = df_combined_full[df_combined_full['Adjusted_ROA'] <= df_combined_full['Adjusted_ROA'].median()]['Adjusted_ROA']\n",
    "t_stat, pval = stats.ttest_ind(high_roa, low_roa, equal_var=False)\n",
    "print(f\"T-test statistic: {t_stat}, p-value: {pval}\")\n",
    "if pval < 0.05:\n",
    "    print(\"✅ Có sự khác biệt đáng kể giữa nhóm Adjusted_ROA cao và thấp.\")\n",
    "else:\n",
    "    print(\"❌ Không có sự khác biệt đáng kể giữa nhóm Adjusted_ROA cao và thấp.\")"
   ]
  },
  {
   "cell_type": "markdown",
   "metadata": {},
   "source": [
    "## 3.2. Giả thuyết 13\n",
    "\n",
    "### Chi-square Test: Có mối quan hệ có ý nghĩa giữa Adjusted_ROE và FLI không ?\n",
    "\n",
    "- $\\mathcal{H}_0$: Có mối quan hệ có ý nghĩa giữa Adjusted_ROE và FLI.\n",
    "- $\\mathcal{H}_1$: Không có mối quan hệ đáng kể giữa 2 nhóm trên."
   ]
  },
  {
   "cell_type": "code",
   "execution_count": null,
   "metadata": {},
   "outputs": [
    {
     "name": "stdout",
     "output_type": "stream",
     "text": [
      "Chi-square test: 1046.0930933900427, p-value: 1.7199337349740634e-229\n",
      "Có mối quan hệ có ý nghĩa giữa Adjusted_ROE và FLI.\n"
     ]
    }
   ],
   "source": [
    "# Kiểm định Chi-bình phương giữa Adjusted_ROE và nhóm phân loại FLI\n",
    "df_combined_full['FLI_group'] = pd.qcut(df_combined_full['FLI'], 2, labels=['Low', 'High'])\n",
    "contingency_table = pd.crosstab(df_combined_full['AER_group'], df_combined_full['FLI_group'])\n",
    "chi2_stat, pval, _, _ = stats.chi2_contingency(contingency_table)\n",
    "print(f\"Chi-square test: {chi2_stat}, p-value: {pval}\")\n",
    "if pval < 0.05:\n",
    "    print(\"✅ Có mối quan hệ có ý nghĩa giữa Adjusted_ROE và FLI.\")\n",
    "else:\n",
    "    print(\"❌ Không có mối quan hệ đáng kể giữa Adjusted_ROE và FLI.\")\n"
   ]
  },
  {
   "cell_type": "markdown",
   "metadata": {},
   "source": [
    "## 3.3. Giả thuyết 14\n",
    "\n",
    "### Kiểm định Levene: Phương sai của Adjusted ROE và Adjusted ROA có sự khác biệt đáng kể không ?\n",
    "\n",
    "- $\\mathcal{H}_0$: Phương sai của Adjusted ROE và Adjusted ROA có sự khác biệt đáng kể.\n",
    "- $\\mathcal{H}_1$: Phương sai 2 độ đo trên không khác nhau mấy."
   ]
  },
  {
   "cell_type": "code",
   "execution_count": null,
   "metadata": {},
   "outputs": [
    {
     "name": "stdout",
     "output_type": "stream",
     "text": [
      "Levene's Test Statistic: 248.8370\n",
      "p-value: 0.0000\n",
      "Phương sai của Adjusted ROE và Adjusted ROA có sự khác biệt đáng kể (p < 0.05)\n"
     ]
    }
   ],
   "source": [
    "\n",
    "# Thực hiện kiểm định Levene để so sánh phương sai của Adjusted_ROE và Adjusted_ROA\n",
    "levene_stat, levene_p = stats.levene(df_combined_full[\"Adjusted_ROE\"].dropna(), \n",
    "                                     df_combined_full[\"Adjusted_ROA\"].dropna())\n",
    "\n",
    "# In ra giá trị thống kê và p-value\n",
    "print(f\"Levene's Test Statistic: {levene_stat:.4f}\")\n",
    "print(f\"p-value: {levene_p:.4f}\")\n",
    "\n",
    "# Kết luận kiểm định\n",
    "if levene_p < 0.05:\n",
    "    print(\"✅ Phương sai của Adjusted ROE và Adjusted ROA có sự khác biệt đáng kể (p < 0.05)\")\n",
    "else:\n",
    "    print(\"❌ Phương sai của Adjusted ROE và Adjusted ROA không khác nhau mấy (p >= 0.05)\")\n",
    "\n"
   ]
  },
  {
   "cell_type": "markdown",
   "metadata": {},
   "source": [
    "## 3.4. Giả thuyết 15\n",
    "\n",
    "### Kiểm định ANOVA: Equity/Liability Ratio có khác biệt đáng kể giữa các công ty không ?\n",
    "\n",
    "- $\\mathcal{H}_0$: Có khác biệt đáng kể giữa Equity/Liability Ratio các công ty.\n",
    "- $\\mathcal{H}_1$: Không có khác biệt đáng kể giữa các công ty."
   ]
  },
  {
   "cell_type": "code",
   "execution_count": null,
   "metadata": {},
   "outputs": [
    {
     "name": "stdout",
     "output_type": "stream",
     "text": [
      "ANOVA Test Statistic: 422.7982\n",
      "p-value: 0.0000\n",
      "Equity/Liability Ratio khác biệt đáng kể giữa các công ty (p < 0.05)\n"
     ]
    }
   ],
   "source": [
    "\n",
    "\n",
    "# Tạo danh sách các nhóm dữ liệu theo từng công ty\n",
    "groups = [df_combined_full[df_combined_full[\"company\"] == c][\"Equity_Liability_Ratio\"] \n",
    "          for c in df_combined_full[\"company\"].unique()]\n",
    "\n",
    "# Thực hiện kiểm định ANOVA\n",
    "anova_stat, anova_p = stats.f_oneway(*groups)\n",
    "\n",
    "# In ra giá trị thống kê và p-value\n",
    "print(f\"ANOVA Test Statistic: {anova_stat:.4f}\")\n",
    "print(f\"p-value: {anova_p:.4f}\")\n",
    "\n",
    "# Kết luận kiểm định\n",
    "if anova_p < 0.05:\n",
    "    print(\"✅ Equity/Liability Ratio có khác biệt đáng kể giữa các công ty (p < 0.05)\")\n",
    "else:\n",
    "    print(\"❌ Equity/Liability Ratio không khác biệt giữa các công ty (p >= 0.05)\")\n"
   ]
  }
 ],
 "metadata": {
  "kernelspec": {
   "display_name": "Python 3",
   "language": "python",
   "name": "python3"
  },
  "language_info": {
   "codemirror_mode": {
    "name": "ipython",
    "version": 3
   },
   "file_extension": ".py",
   "mimetype": "text/x-python",
   "name": "python",
   "nbconvert_exporter": "python",
   "pygments_lexer": "ipython3",
   "version": "3.11.9"
  }
 },
 "nbformat": 4,
 "nbformat_minor": 2
}
